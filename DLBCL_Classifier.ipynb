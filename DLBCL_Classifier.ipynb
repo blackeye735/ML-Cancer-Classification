{
 "cells": [
  {
   "cell_type": "markdown",
   "id": "8cf65d41",
   "metadata": {
    "id": "8cf65d41"
   },
   "source": [
    "# DLBCL CLASSIFICATION USING GENE EXPRESSION DATA"
   ]
  },
  {
   "cell_type": "code",
   "execution_count": 1,
   "id": "99bf6b14",
   "metadata": {
    "id": "99bf6b14"
   },
   "outputs": [],
   "source": [
    "import pandas as pd\n",
    "data = pd.read_csv('DLBCL.csv')"
   ]
  },
  {
   "cell_type": "code",
   "execution_count": 2,
   "id": "ev1OFkU3oxLR",
   "metadata": {
    "colab": {
     "base_uri": "https://localhost:8080/",
     "height": 270
    },
    "id": "ev1OFkU3oxLR",
    "outputId": "0b1f4853-7513-44db-a3a5-0b3217d4cc91"
   },
   "outputs": [
    {
     "data": {
      "text/html": [
       "<div>\n",
       "<style scoped>\n",
       "    .dataframe tbody tr th:only-of-type {\n",
       "        vertical-align: middle;\n",
       "    }\n",
       "\n",
       "    .dataframe tbody tr th {\n",
       "        vertical-align: top;\n",
       "    }\n",
       "\n",
       "    .dataframe thead th {\n",
       "        text-align: right;\n",
       "    }\n",
       "</style>\n",
       "<table border=\"1\" class=\"dataframe\">\n",
       "  <thead>\n",
       "    <tr style=\"text-align: right;\">\n",
       "      <th></th>\n",
       "      <th>Type</th>\n",
       "      <th>A28102</th>\n",
       "      <th>AB000114_at</th>\n",
       "      <th>AB000115_at</th>\n",
       "      <th>AB000220_at</th>\n",
       "      <th>AB000409_at</th>\n",
       "      <th>AB000449_at</th>\n",
       "      <th>AB000450_at</th>\n",
       "      <th>AB000460_at</th>\n",
       "      <th>AB000462_at</th>\n",
       "      <th>AB000464_at</th>\n",
       "      <th>AB000466_at</th>\n",
       "      <th>AB000467_at</th>\n",
       "      <th>AB000468_at</th>\n",
       "      <th>AB000584_at</th>\n",
       "      <th>AB000895_at</th>\n",
       "      <th>AB000896_at</th>\n",
       "      <th>AB000897_at</th>\n",
       "      <th>AB000905_at</th>\n",
       "      <th>AB001106_at</th>\n",
       "      <th>AB001325_at</th>\n",
       "      <th>AB002314_at</th>\n",
       "      <th>AB002315_at</th>\n",
       "      <th>AB002318_at</th>\n",
       "      <th>AB002365_at</th>\n",
       "      <th>AB002366_at</th>\n",
       "      <th>AB002380_at</th>\n",
       "      <th>AB002382_at</th>\n",
       "      <th>AB002409_at</th>\n",
       "      <th>AB002559_at</th>\n",
       "      <th>AB003102_at</th>\n",
       "      <th>AB003103_at</th>\n",
       "      <th>AB003177_at</th>\n",
       "      <th>AB003698_at</th>\n",
       "      <th>AB004884_at</th>\n",
       "      <th>AB006190_at</th>\n",
       "      <th>AC000061_cds2_at</th>\n",
       "      <th>AC000061_cds3_at</th>\n",
       "      <th>AC000062_at</th>\n",
       "      <th>AC000064_cds1_at</th>\n",
       "      <th>...</th>\n",
       "      <th>X53065_f_at</th>\n",
       "      <th>X64177_f_at</th>\n",
       "      <th>X67491_f_at</th>\n",
       "      <th>X71345_f_at</th>\n",
       "      <th>X97444_f_at</th>\n",
       "      <th>Z80780_f_at</th>\n",
       "      <th>X00351_f_at</th>\n",
       "      <th>X01677_f_at</th>\n",
       "      <th>M31667_f_at</th>\n",
       "      <th>L41268_f_at</th>\n",
       "      <th>X99479_f_at</th>\n",
       "      <th>HG658-HT658_f_at</th>\n",
       "      <th>M94880_f_at</th>\n",
       "      <th>S80905_f_at</th>\n",
       "      <th>X03068_f_at</th>\n",
       "      <th>Z34822_f_at</th>\n",
       "      <th>U87593_f_at</th>\n",
       "      <th>U88902_cds1_f_at</th>\n",
       "      <th>AC002076_cds2_at</th>\n",
       "      <th>D64015_at</th>\n",
       "      <th>HG2510-HT2606_at</th>\n",
       "      <th>L10717_at</th>\n",
       "      <th>L34355_at</th>\n",
       "      <th>L78833_cds4_at</th>\n",
       "      <th>M13981_at</th>\n",
       "      <th>M21064_at</th>\n",
       "      <th>M93143_at</th>\n",
       "      <th>S78825_at</th>\n",
       "      <th>U11863_at</th>\n",
       "      <th>U29175_at</th>\n",
       "      <th>U48730_at</th>\n",
       "      <th>U58516_at</th>\n",
       "      <th>U73738_at</th>\n",
       "      <th>X06956_at</th>\n",
       "      <th>X16699_at</th>\n",
       "      <th>X83863_at</th>\n",
       "      <th>Z17240_at</th>\n",
       "      <th>L49218_f_at</th>\n",
       "      <th>M71243_f_at</th>\n",
       "      <th>Z78285_f_at</th>\n",
       "    </tr>\n",
       "  </thead>\n",
       "  <tbody>\n",
       "    <tr>\n",
       "      <th>0</th>\n",
       "      <td>DLBCL</td>\n",
       "      <td>-1</td>\n",
       "      <td>-45</td>\n",
       "      <td>176</td>\n",
       "      <td>97</td>\n",
       "      <td>-57</td>\n",
       "      <td>233</td>\n",
       "      <td>265</td>\n",
       "      <td>945</td>\n",
       "      <td>56</td>\n",
       "      <td>819</td>\n",
       "      <td>-526</td>\n",
       "      <td>-1075</td>\n",
       "      <td>569</td>\n",
       "      <td>-501</td>\n",
       "      <td>-185</td>\n",
       "      <td>-28</td>\n",
       "      <td>-132</td>\n",
       "      <td>77</td>\n",
       "      <td>564</td>\n",
       "      <td>897</td>\n",
       "      <td>-40</td>\n",
       "      <td>169</td>\n",
       "      <td>1277</td>\n",
       "      <td>-80</td>\n",
       "      <td>-20</td>\n",
       "      <td>117</td>\n",
       "      <td>684</td>\n",
       "      <td>-6</td>\n",
       "      <td>500</td>\n",
       "      <td>864</td>\n",
       "      <td>109</td>\n",
       "      <td>838</td>\n",
       "      <td>332</td>\n",
       "      <td>762</td>\n",
       "      <td>548</td>\n",
       "      <td>368</td>\n",
       "      <td>-51</td>\n",
       "      <td>48</td>\n",
       "      <td>231</td>\n",
       "      <td>...</td>\n",
       "      <td>353</td>\n",
       "      <td>357</td>\n",
       "      <td>69</td>\n",
       "      <td>233</td>\n",
       "      <td>371</td>\n",
       "      <td>-92</td>\n",
       "      <td>21210</td>\n",
       "      <td>13993</td>\n",
       "      <td>1645</td>\n",
       "      <td>354</td>\n",
       "      <td>-341</td>\n",
       "      <td>12542</td>\n",
       "      <td>8233</td>\n",
       "      <td>298</td>\n",
       "      <td>11319</td>\n",
       "      <td>-72</td>\n",
       "      <td>229</td>\n",
       "      <td>778</td>\n",
       "      <td>16</td>\n",
       "      <td>409</td>\n",
       "      <td>41</td>\n",
       "      <td>111</td>\n",
       "      <td>234</td>\n",
       "      <td>354</td>\n",
       "      <td>71</td>\n",
       "      <td>286</td>\n",
       "      <td>575</td>\n",
       "      <td>-210</td>\n",
       "      <td>-1468</td>\n",
       "      <td>165</td>\n",
       "      <td>132</td>\n",
       "      <td>1036</td>\n",
       "      <td>-161</td>\n",
       "      <td>1523</td>\n",
       "      <td>-72</td>\n",
       "      <td>897</td>\n",
       "      <td>366</td>\n",
       "      <td>3</td>\n",
       "      <td>76</td>\n",
       "      <td>-28</td>\n",
       "    </tr>\n",
       "    <tr>\n",
       "      <th>1</th>\n",
       "      <td>DLBCL</td>\n",
       "      <td>25</td>\n",
       "      <td>-17</td>\n",
       "      <td>531</td>\n",
       "      <td>353</td>\n",
       "      <td>122</td>\n",
       "      <td>155</td>\n",
       "      <td>209</td>\n",
       "      <td>1688</td>\n",
       "      <td>42</td>\n",
       "      <td>639</td>\n",
       "      <td>-368</td>\n",
       "      <td>-253</td>\n",
       "      <td>892</td>\n",
       "      <td>71</td>\n",
       "      <td>157</td>\n",
       "      <td>-101</td>\n",
       "      <td>-68</td>\n",
       "      <td>136</td>\n",
       "      <td>562</td>\n",
       "      <td>623</td>\n",
       "      <td>4</td>\n",
       "      <td>278</td>\n",
       "      <td>956</td>\n",
       "      <td>193</td>\n",
       "      <td>17</td>\n",
       "      <td>344</td>\n",
       "      <td>768</td>\n",
       "      <td>226</td>\n",
       "      <td>390</td>\n",
       "      <td>912</td>\n",
       "      <td>223</td>\n",
       "      <td>904</td>\n",
       "      <td>270</td>\n",
       "      <td>668</td>\n",
       "      <td>619</td>\n",
       "      <td>248</td>\n",
       "      <td>-59</td>\n",
       "      <td>-18</td>\n",
       "      <td>153</td>\n",
       "      <td>...</td>\n",
       "      <td>328</td>\n",
       "      <td>7216</td>\n",
       "      <td>-27</td>\n",
       "      <td>333</td>\n",
       "      <td>287</td>\n",
       "      <td>-31</td>\n",
       "      <td>7490</td>\n",
       "      <td>15232</td>\n",
       "      <td>411</td>\n",
       "      <td>272</td>\n",
       "      <td>258</td>\n",
       "      <td>17542</td>\n",
       "      <td>14754</td>\n",
       "      <td>270</td>\n",
       "      <td>5700</td>\n",
       "      <td>-136</td>\n",
       "      <td>48</td>\n",
       "      <td>346</td>\n",
       "      <td>13</td>\n",
       "      <td>338</td>\n",
       "      <td>2</td>\n",
       "      <td>708</td>\n",
       "      <td>185</td>\n",
       "      <td>363</td>\n",
       "      <td>221</td>\n",
       "      <td>176</td>\n",
       "      <td>409</td>\n",
       "      <td>-262</td>\n",
       "      <td>-2333</td>\n",
       "      <td>2076</td>\n",
       "      <td>147</td>\n",
       "      <td>4254</td>\n",
       "      <td>-75</td>\n",
       "      <td>6056</td>\n",
       "      <td>-68</td>\n",
       "      <td>737</td>\n",
       "      <td>81</td>\n",
       "      <td>-4</td>\n",
       "      <td>41</td>\n",
       "      <td>-45</td>\n",
       "    </tr>\n",
       "    <tr>\n",
       "      <th>2</th>\n",
       "      <td>DLBCL</td>\n",
       "      <td>73</td>\n",
       "      <td>91</td>\n",
       "      <td>257</td>\n",
       "      <td>80</td>\n",
       "      <td>614</td>\n",
       "      <td>507</td>\n",
       "      <td>760</td>\n",
       "      <td>2252</td>\n",
       "      <td>196</td>\n",
       "      <td>863</td>\n",
       "      <td>-618</td>\n",
       "      <td>-596</td>\n",
       "      <td>1963</td>\n",
       "      <td>-226</td>\n",
       "      <td>-237</td>\n",
       "      <td>-133</td>\n",
       "      <td>29</td>\n",
       "      <td>116</td>\n",
       "      <td>999</td>\n",
       "      <td>861</td>\n",
       "      <td>55</td>\n",
       "      <td>539</td>\n",
       "      <td>1245</td>\n",
       "      <td>44</td>\n",
       "      <td>-2</td>\n",
       "      <td>224</td>\n",
       "      <td>597</td>\n",
       "      <td>275</td>\n",
       "      <td>1270</td>\n",
       "      <td>1976</td>\n",
       "      <td>320</td>\n",
       "      <td>1171</td>\n",
       "      <td>479</td>\n",
       "      <td>986</td>\n",
       "      <td>762</td>\n",
       "      <td>412</td>\n",
       "      <td>-65</td>\n",
       "      <td>22</td>\n",
       "      <td>424</td>\n",
       "      <td>...</td>\n",
       "      <td>172</td>\n",
       "      <td>5885</td>\n",
       "      <td>84</td>\n",
       "      <td>237</td>\n",
       "      <td>400</td>\n",
       "      <td>281</td>\n",
       "      <td>24760</td>\n",
       "      <td>14082</td>\n",
       "      <td>384</td>\n",
       "      <td>233</td>\n",
       "      <td>28</td>\n",
       "      <td>13338</td>\n",
       "      <td>15725</td>\n",
       "      <td>433</td>\n",
       "      <td>9175</td>\n",
       "      <td>-273</td>\n",
       "      <td>96</td>\n",
       "      <td>335</td>\n",
       "      <td>-31</td>\n",
       "      <td>318</td>\n",
       "      <td>35</td>\n",
       "      <td>453</td>\n",
       "      <td>112</td>\n",
       "      <td>263</td>\n",
       "      <td>266</td>\n",
       "      <td>299</td>\n",
       "      <td>630</td>\n",
       "      <td>-399</td>\n",
       "      <td>-2024</td>\n",
       "      <td>1468</td>\n",
       "      <td>169</td>\n",
       "      <td>1934</td>\n",
       "      <td>-129</td>\n",
       "      <td>2901</td>\n",
       "      <td>-9</td>\n",
       "      <td>946</td>\n",
       "      <td>450</td>\n",
       "      <td>38</td>\n",
       "      <td>164</td>\n",
       "      <td>-62</td>\n",
       "    </tr>\n",
       "    <tr>\n",
       "      <th>3</th>\n",
       "      <td>DLBCL</td>\n",
       "      <td>267</td>\n",
       "      <td>41</td>\n",
       "      <td>202</td>\n",
       "      <td>138</td>\n",
       "      <td>198</td>\n",
       "      <td>355</td>\n",
       "      <td>245</td>\n",
       "      <td>1469</td>\n",
       "      <td>170</td>\n",
       "      <td>384</td>\n",
       "      <td>-698</td>\n",
       "      <td>-31</td>\n",
       "      <td>1150</td>\n",
       "      <td>202</td>\n",
       "      <td>-541</td>\n",
       "      <td>162</td>\n",
       "      <td>-55</td>\n",
       "      <td>113</td>\n",
       "      <td>549</td>\n",
       "      <td>434</td>\n",
       "      <td>-51</td>\n",
       "      <td>418</td>\n",
       "      <td>900</td>\n",
       "      <td>47</td>\n",
       "      <td>15</td>\n",
       "      <td>226</td>\n",
       "      <td>430</td>\n",
       "      <td>89</td>\n",
       "      <td>476</td>\n",
       "      <td>1164</td>\n",
       "      <td>192</td>\n",
       "      <td>517</td>\n",
       "      <td>287</td>\n",
       "      <td>634</td>\n",
       "      <td>674</td>\n",
       "      <td>404</td>\n",
       "      <td>-122</td>\n",
       "      <td>21</td>\n",
       "      <td>154</td>\n",
       "      <td>...</td>\n",
       "      <td>224</td>\n",
       "      <td>2606</td>\n",
       "      <td>59</td>\n",
       "      <td>196</td>\n",
       "      <td>188</td>\n",
       "      <td>61</td>\n",
       "      <td>18747</td>\n",
       "      <td>17627</td>\n",
       "      <td>347</td>\n",
       "      <td>206</td>\n",
       "      <td>67</td>\n",
       "      <td>16591</td>\n",
       "      <td>9551</td>\n",
       "      <td>160</td>\n",
       "      <td>8049</td>\n",
       "      <td>-214</td>\n",
       "      <td>33</td>\n",
       "      <td>269</td>\n",
       "      <td>-23</td>\n",
       "      <td>224</td>\n",
       "      <td>1</td>\n",
       "      <td>335</td>\n",
       "      <td>-85</td>\n",
       "      <td>93</td>\n",
       "      <td>126</td>\n",
       "      <td>63</td>\n",
       "      <td>166</td>\n",
       "      <td>-99</td>\n",
       "      <td>-626</td>\n",
       "      <td>910</td>\n",
       "      <td>13</td>\n",
       "      <td>2469</td>\n",
       "      <td>93</td>\n",
       "      <td>2465</td>\n",
       "      <td>-119</td>\n",
       "      <td>339</td>\n",
       "      <td>321</td>\n",
       "      <td>-63</td>\n",
       "      <td>73</td>\n",
       "      <td>-13</td>\n",
       "    </tr>\n",
       "    <tr>\n",
       "      <th>4</th>\n",
       "      <td>DLBCL</td>\n",
       "      <td>16</td>\n",
       "      <td>24</td>\n",
       "      <td>187</td>\n",
       "      <td>39</td>\n",
       "      <td>145</td>\n",
       "      <td>254</td>\n",
       "      <td>571</td>\n",
       "      <td>930</td>\n",
       "      <td>-11</td>\n",
       "      <td>439</td>\n",
       "      <td>-665</td>\n",
       "      <td>-306</td>\n",
       "      <td>1460</td>\n",
       "      <td>117</td>\n",
       "      <td>-679</td>\n",
       "      <td>-61</td>\n",
       "      <td>-82</td>\n",
       "      <td>110</td>\n",
       "      <td>838</td>\n",
       "      <td>651</td>\n",
       "      <td>-74</td>\n",
       "      <td>201</td>\n",
       "      <td>454</td>\n",
       "      <td>0</td>\n",
       "      <td>-37</td>\n",
       "      <td>698</td>\n",
       "      <td>390</td>\n",
       "      <td>-17</td>\n",
       "      <td>461</td>\n",
       "      <td>815</td>\n",
       "      <td>342</td>\n",
       "      <td>444</td>\n",
       "      <td>345</td>\n",
       "      <td>648</td>\n",
       "      <td>587</td>\n",
       "      <td>198</td>\n",
       "      <td>-102</td>\n",
       "      <td>6</td>\n",
       "      <td>269</td>\n",
       "      <td>...</td>\n",
       "      <td>206</td>\n",
       "      <td>1408</td>\n",
       "      <td>-1</td>\n",
       "      <td>226</td>\n",
       "      <td>226</td>\n",
       "      <td>402</td>\n",
       "      <td>7871</td>\n",
       "      <td>14335</td>\n",
       "      <td>727</td>\n",
       "      <td>203</td>\n",
       "      <td>66</td>\n",
       "      <td>12369</td>\n",
       "      <td>5489</td>\n",
       "      <td>307</td>\n",
       "      <td>7405</td>\n",
       "      <td>-134</td>\n",
       "      <td>177</td>\n",
       "      <td>335</td>\n",
       "      <td>-8</td>\n",
       "      <td>248</td>\n",
       "      <td>24</td>\n",
       "      <td>170</td>\n",
       "      <td>-24</td>\n",
       "      <td>146</td>\n",
       "      <td>370</td>\n",
       "      <td>188</td>\n",
       "      <td>822</td>\n",
       "      <td>-29</td>\n",
       "      <td>-2380</td>\n",
       "      <td>350</td>\n",
       "      <td>69</td>\n",
       "      <td>608</td>\n",
       "      <td>-39</td>\n",
       "      <td>1667</td>\n",
       "      <td>-87</td>\n",
       "      <td>721</td>\n",
       "      <td>213</td>\n",
       "      <td>15</td>\n",
       "      <td>155</td>\n",
       "      <td>-26</td>\n",
       "    </tr>\n",
       "  </tbody>\n",
       "</table>\n",
       "<p>5 rows × 7071 columns</p>\n",
       "</div>"
      ],
      "text/plain": [
       "    Type  A28102  AB000114_at  ...  L49218_f_at  M71243_f_at  Z78285_f_at\n",
       "0  DLBCL      -1          -45  ...            3           76          -28\n",
       "1  DLBCL      25          -17  ...           -4           41          -45\n",
       "2  DLBCL      73           91  ...           38          164          -62\n",
       "3  DLBCL     267           41  ...          -63           73          -13\n",
       "4  DLBCL      16           24  ...           15          155          -26\n",
       "\n",
       "[5 rows x 7071 columns]"
      ]
     },
     "execution_count": 2,
     "metadata": {
      "tags": []
     },
     "output_type": "execute_result"
    }
   ],
   "source": [
    "data.head()"
   ]
  },
  {
   "cell_type": "code",
   "execution_count": 3,
   "id": "7b7ac8c6",
   "metadata": {
    "colab": {
     "base_uri": "https://localhost:8080/"
    },
    "id": "7b7ac8c6",
    "outputId": "0dcb2594-4d0a-481e-c86e-6e8d715e6018"
   },
   "outputs": [
    {
     "name": "stdout",
     "output_type": "stream",
     "text": [
      "[['DLBCL' -1 -45 ... 3 76 -28]\n",
      " ['DLBCL' 25 -17 ... -4 41 -45]\n",
      " ['DLBCL' 73 91 ... 38 164 -62]\n",
      " ...\n",
      " ['FL' 83 -63 ... -221 -213 -318]\n",
      " ['FL' 27 -194 ... -97 -120 -291]\n",
      " ['FL' 3 123 ... -1 370 -53]]\n"
     ]
    }
   ],
   "source": [
    "print(data.values)"
   ]
  },
  {
   "cell_type": "code",
   "execution_count": 4,
   "id": "6955d066",
   "metadata": {
    "colab": {
     "base_uri": "https://localhost:8080/",
     "height": 270
    },
    "id": "6955d066",
    "outputId": "fa3b9d64-15a9-400b-d46d-cb2150302702"
   },
   "outputs": [
    {
     "data": {
      "text/html": [
       "<div>\n",
       "<style scoped>\n",
       "    .dataframe tbody tr th:only-of-type {\n",
       "        vertical-align: middle;\n",
       "    }\n",
       "\n",
       "    .dataframe tbody tr th {\n",
       "        vertical-align: top;\n",
       "    }\n",
       "\n",
       "    .dataframe thead th {\n",
       "        text-align: right;\n",
       "    }\n",
       "</style>\n",
       "<table border=\"1\" class=\"dataframe\">\n",
       "  <thead>\n",
       "    <tr style=\"text-align: right;\">\n",
       "      <th></th>\n",
       "      <th>Type</th>\n",
       "      <th>A28102</th>\n",
       "      <th>AB000114_at</th>\n",
       "      <th>AB000115_at</th>\n",
       "      <th>AB000220_at</th>\n",
       "      <th>AB000409_at</th>\n",
       "      <th>AB000449_at</th>\n",
       "      <th>AB000450_at</th>\n",
       "      <th>AB000460_at</th>\n",
       "      <th>AB000462_at</th>\n",
       "      <th>AB000464_at</th>\n",
       "      <th>AB000466_at</th>\n",
       "      <th>AB000467_at</th>\n",
       "      <th>AB000468_at</th>\n",
       "      <th>AB000584_at</th>\n",
       "      <th>AB000895_at</th>\n",
       "      <th>AB000896_at</th>\n",
       "      <th>AB000897_at</th>\n",
       "      <th>AB000905_at</th>\n",
       "      <th>AB001106_at</th>\n",
       "      <th>AB001325_at</th>\n",
       "      <th>AB002314_at</th>\n",
       "      <th>AB002315_at</th>\n",
       "      <th>AB002318_at</th>\n",
       "      <th>AB002365_at</th>\n",
       "      <th>AB002366_at</th>\n",
       "      <th>AB002380_at</th>\n",
       "      <th>AB002382_at</th>\n",
       "      <th>AB002409_at</th>\n",
       "      <th>AB002559_at</th>\n",
       "      <th>AB003102_at</th>\n",
       "      <th>AB003103_at</th>\n",
       "      <th>AB003177_at</th>\n",
       "      <th>AB003698_at</th>\n",
       "      <th>AB004884_at</th>\n",
       "      <th>AB006190_at</th>\n",
       "      <th>AC000061_cds2_at</th>\n",
       "      <th>AC000061_cds3_at</th>\n",
       "      <th>AC000062_at</th>\n",
       "      <th>AC000064_cds1_at</th>\n",
       "      <th>...</th>\n",
       "      <th>X53065_f_at</th>\n",
       "      <th>X64177_f_at</th>\n",
       "      <th>X67491_f_at</th>\n",
       "      <th>X71345_f_at</th>\n",
       "      <th>X97444_f_at</th>\n",
       "      <th>Z80780_f_at</th>\n",
       "      <th>X00351_f_at</th>\n",
       "      <th>X01677_f_at</th>\n",
       "      <th>M31667_f_at</th>\n",
       "      <th>L41268_f_at</th>\n",
       "      <th>X99479_f_at</th>\n",
       "      <th>HG658-HT658_f_at</th>\n",
       "      <th>M94880_f_at</th>\n",
       "      <th>S80905_f_at</th>\n",
       "      <th>X03068_f_at</th>\n",
       "      <th>Z34822_f_at</th>\n",
       "      <th>U87593_f_at</th>\n",
       "      <th>U88902_cds1_f_at</th>\n",
       "      <th>AC002076_cds2_at</th>\n",
       "      <th>D64015_at</th>\n",
       "      <th>HG2510-HT2606_at</th>\n",
       "      <th>L10717_at</th>\n",
       "      <th>L34355_at</th>\n",
       "      <th>L78833_cds4_at</th>\n",
       "      <th>M13981_at</th>\n",
       "      <th>M21064_at</th>\n",
       "      <th>M93143_at</th>\n",
       "      <th>S78825_at</th>\n",
       "      <th>U11863_at</th>\n",
       "      <th>U29175_at</th>\n",
       "      <th>U48730_at</th>\n",
       "      <th>U58516_at</th>\n",
       "      <th>U73738_at</th>\n",
       "      <th>X06956_at</th>\n",
       "      <th>X16699_at</th>\n",
       "      <th>X83863_at</th>\n",
       "      <th>Z17240_at</th>\n",
       "      <th>L49218_f_at</th>\n",
       "      <th>M71243_f_at</th>\n",
       "      <th>Z78285_f_at</th>\n",
       "    </tr>\n",
       "  </thead>\n",
       "  <tbody>\n",
       "    <tr>\n",
       "      <th>0</th>\n",
       "      <td>DLBCL</td>\n",
       "      <td>-1</td>\n",
       "      <td>-45</td>\n",
       "      <td>176</td>\n",
       "      <td>97</td>\n",
       "      <td>-57</td>\n",
       "      <td>233</td>\n",
       "      <td>265</td>\n",
       "      <td>945</td>\n",
       "      <td>56</td>\n",
       "      <td>819</td>\n",
       "      <td>-526</td>\n",
       "      <td>-1075</td>\n",
       "      <td>569</td>\n",
       "      <td>-501</td>\n",
       "      <td>-185</td>\n",
       "      <td>-28</td>\n",
       "      <td>-132</td>\n",
       "      <td>77</td>\n",
       "      <td>564</td>\n",
       "      <td>897</td>\n",
       "      <td>-40</td>\n",
       "      <td>169</td>\n",
       "      <td>1277</td>\n",
       "      <td>-80</td>\n",
       "      <td>-20</td>\n",
       "      <td>117</td>\n",
       "      <td>684</td>\n",
       "      <td>-6</td>\n",
       "      <td>500</td>\n",
       "      <td>864</td>\n",
       "      <td>109</td>\n",
       "      <td>838</td>\n",
       "      <td>332</td>\n",
       "      <td>762</td>\n",
       "      <td>548</td>\n",
       "      <td>368</td>\n",
       "      <td>-51</td>\n",
       "      <td>48</td>\n",
       "      <td>231</td>\n",
       "      <td>...</td>\n",
       "      <td>353</td>\n",
       "      <td>357</td>\n",
       "      <td>69</td>\n",
       "      <td>233</td>\n",
       "      <td>371</td>\n",
       "      <td>-92</td>\n",
       "      <td>21210</td>\n",
       "      <td>13993</td>\n",
       "      <td>1645</td>\n",
       "      <td>354</td>\n",
       "      <td>-341</td>\n",
       "      <td>12542</td>\n",
       "      <td>8233</td>\n",
       "      <td>298</td>\n",
       "      <td>11319</td>\n",
       "      <td>-72</td>\n",
       "      <td>229</td>\n",
       "      <td>778</td>\n",
       "      <td>16</td>\n",
       "      <td>409</td>\n",
       "      <td>41</td>\n",
       "      <td>111</td>\n",
       "      <td>234</td>\n",
       "      <td>354</td>\n",
       "      <td>71</td>\n",
       "      <td>286</td>\n",
       "      <td>575</td>\n",
       "      <td>-210</td>\n",
       "      <td>-1468</td>\n",
       "      <td>165</td>\n",
       "      <td>132</td>\n",
       "      <td>1036</td>\n",
       "      <td>-161</td>\n",
       "      <td>1523</td>\n",
       "      <td>-72</td>\n",
       "      <td>897</td>\n",
       "      <td>366</td>\n",
       "      <td>3</td>\n",
       "      <td>76</td>\n",
       "      <td>-28</td>\n",
       "    </tr>\n",
       "    <tr>\n",
       "      <th>1</th>\n",
       "      <td>DLBCL</td>\n",
       "      <td>25</td>\n",
       "      <td>-17</td>\n",
       "      <td>531</td>\n",
       "      <td>353</td>\n",
       "      <td>122</td>\n",
       "      <td>155</td>\n",
       "      <td>209</td>\n",
       "      <td>1688</td>\n",
       "      <td>42</td>\n",
       "      <td>639</td>\n",
       "      <td>-368</td>\n",
       "      <td>-253</td>\n",
       "      <td>892</td>\n",
       "      <td>71</td>\n",
       "      <td>157</td>\n",
       "      <td>-101</td>\n",
       "      <td>-68</td>\n",
       "      <td>136</td>\n",
       "      <td>562</td>\n",
       "      <td>623</td>\n",
       "      <td>4</td>\n",
       "      <td>278</td>\n",
       "      <td>956</td>\n",
       "      <td>193</td>\n",
       "      <td>17</td>\n",
       "      <td>344</td>\n",
       "      <td>768</td>\n",
       "      <td>226</td>\n",
       "      <td>390</td>\n",
       "      <td>912</td>\n",
       "      <td>223</td>\n",
       "      <td>904</td>\n",
       "      <td>270</td>\n",
       "      <td>668</td>\n",
       "      <td>619</td>\n",
       "      <td>248</td>\n",
       "      <td>-59</td>\n",
       "      <td>-18</td>\n",
       "      <td>153</td>\n",
       "      <td>...</td>\n",
       "      <td>328</td>\n",
       "      <td>7216</td>\n",
       "      <td>-27</td>\n",
       "      <td>333</td>\n",
       "      <td>287</td>\n",
       "      <td>-31</td>\n",
       "      <td>7490</td>\n",
       "      <td>15232</td>\n",
       "      <td>411</td>\n",
       "      <td>272</td>\n",
       "      <td>258</td>\n",
       "      <td>17542</td>\n",
       "      <td>14754</td>\n",
       "      <td>270</td>\n",
       "      <td>5700</td>\n",
       "      <td>-136</td>\n",
       "      <td>48</td>\n",
       "      <td>346</td>\n",
       "      <td>13</td>\n",
       "      <td>338</td>\n",
       "      <td>2</td>\n",
       "      <td>708</td>\n",
       "      <td>185</td>\n",
       "      <td>363</td>\n",
       "      <td>221</td>\n",
       "      <td>176</td>\n",
       "      <td>409</td>\n",
       "      <td>-262</td>\n",
       "      <td>-2333</td>\n",
       "      <td>2076</td>\n",
       "      <td>147</td>\n",
       "      <td>4254</td>\n",
       "      <td>-75</td>\n",
       "      <td>6056</td>\n",
       "      <td>-68</td>\n",
       "      <td>737</td>\n",
       "      <td>81</td>\n",
       "      <td>-4</td>\n",
       "      <td>41</td>\n",
       "      <td>-45</td>\n",
       "    </tr>\n",
       "    <tr>\n",
       "      <th>2</th>\n",
       "      <td>DLBCL</td>\n",
       "      <td>73</td>\n",
       "      <td>91</td>\n",
       "      <td>257</td>\n",
       "      <td>80</td>\n",
       "      <td>614</td>\n",
       "      <td>507</td>\n",
       "      <td>760</td>\n",
       "      <td>2252</td>\n",
       "      <td>196</td>\n",
       "      <td>863</td>\n",
       "      <td>-618</td>\n",
       "      <td>-596</td>\n",
       "      <td>1963</td>\n",
       "      <td>-226</td>\n",
       "      <td>-237</td>\n",
       "      <td>-133</td>\n",
       "      <td>29</td>\n",
       "      <td>116</td>\n",
       "      <td>999</td>\n",
       "      <td>861</td>\n",
       "      <td>55</td>\n",
       "      <td>539</td>\n",
       "      <td>1245</td>\n",
       "      <td>44</td>\n",
       "      <td>-2</td>\n",
       "      <td>224</td>\n",
       "      <td>597</td>\n",
       "      <td>275</td>\n",
       "      <td>1270</td>\n",
       "      <td>1976</td>\n",
       "      <td>320</td>\n",
       "      <td>1171</td>\n",
       "      <td>479</td>\n",
       "      <td>986</td>\n",
       "      <td>762</td>\n",
       "      <td>412</td>\n",
       "      <td>-65</td>\n",
       "      <td>22</td>\n",
       "      <td>424</td>\n",
       "      <td>...</td>\n",
       "      <td>172</td>\n",
       "      <td>5885</td>\n",
       "      <td>84</td>\n",
       "      <td>237</td>\n",
       "      <td>400</td>\n",
       "      <td>281</td>\n",
       "      <td>24760</td>\n",
       "      <td>14082</td>\n",
       "      <td>384</td>\n",
       "      <td>233</td>\n",
       "      <td>28</td>\n",
       "      <td>13338</td>\n",
       "      <td>15725</td>\n",
       "      <td>433</td>\n",
       "      <td>9175</td>\n",
       "      <td>-273</td>\n",
       "      <td>96</td>\n",
       "      <td>335</td>\n",
       "      <td>-31</td>\n",
       "      <td>318</td>\n",
       "      <td>35</td>\n",
       "      <td>453</td>\n",
       "      <td>112</td>\n",
       "      <td>263</td>\n",
       "      <td>266</td>\n",
       "      <td>299</td>\n",
       "      <td>630</td>\n",
       "      <td>-399</td>\n",
       "      <td>-2024</td>\n",
       "      <td>1468</td>\n",
       "      <td>169</td>\n",
       "      <td>1934</td>\n",
       "      <td>-129</td>\n",
       "      <td>2901</td>\n",
       "      <td>-9</td>\n",
       "      <td>946</td>\n",
       "      <td>450</td>\n",
       "      <td>38</td>\n",
       "      <td>164</td>\n",
       "      <td>-62</td>\n",
       "    </tr>\n",
       "    <tr>\n",
       "      <th>3</th>\n",
       "      <td>DLBCL</td>\n",
       "      <td>267</td>\n",
       "      <td>41</td>\n",
       "      <td>202</td>\n",
       "      <td>138</td>\n",
       "      <td>198</td>\n",
       "      <td>355</td>\n",
       "      <td>245</td>\n",
       "      <td>1469</td>\n",
       "      <td>170</td>\n",
       "      <td>384</td>\n",
       "      <td>-698</td>\n",
       "      <td>-31</td>\n",
       "      <td>1150</td>\n",
       "      <td>202</td>\n",
       "      <td>-541</td>\n",
       "      <td>162</td>\n",
       "      <td>-55</td>\n",
       "      <td>113</td>\n",
       "      <td>549</td>\n",
       "      <td>434</td>\n",
       "      <td>-51</td>\n",
       "      <td>418</td>\n",
       "      <td>900</td>\n",
       "      <td>47</td>\n",
       "      <td>15</td>\n",
       "      <td>226</td>\n",
       "      <td>430</td>\n",
       "      <td>89</td>\n",
       "      <td>476</td>\n",
       "      <td>1164</td>\n",
       "      <td>192</td>\n",
       "      <td>517</td>\n",
       "      <td>287</td>\n",
       "      <td>634</td>\n",
       "      <td>674</td>\n",
       "      <td>404</td>\n",
       "      <td>-122</td>\n",
       "      <td>21</td>\n",
       "      <td>154</td>\n",
       "      <td>...</td>\n",
       "      <td>224</td>\n",
       "      <td>2606</td>\n",
       "      <td>59</td>\n",
       "      <td>196</td>\n",
       "      <td>188</td>\n",
       "      <td>61</td>\n",
       "      <td>18747</td>\n",
       "      <td>17627</td>\n",
       "      <td>347</td>\n",
       "      <td>206</td>\n",
       "      <td>67</td>\n",
       "      <td>16591</td>\n",
       "      <td>9551</td>\n",
       "      <td>160</td>\n",
       "      <td>8049</td>\n",
       "      <td>-214</td>\n",
       "      <td>33</td>\n",
       "      <td>269</td>\n",
       "      <td>-23</td>\n",
       "      <td>224</td>\n",
       "      <td>1</td>\n",
       "      <td>335</td>\n",
       "      <td>-85</td>\n",
       "      <td>93</td>\n",
       "      <td>126</td>\n",
       "      <td>63</td>\n",
       "      <td>166</td>\n",
       "      <td>-99</td>\n",
       "      <td>-626</td>\n",
       "      <td>910</td>\n",
       "      <td>13</td>\n",
       "      <td>2469</td>\n",
       "      <td>93</td>\n",
       "      <td>2465</td>\n",
       "      <td>-119</td>\n",
       "      <td>339</td>\n",
       "      <td>321</td>\n",
       "      <td>-63</td>\n",
       "      <td>73</td>\n",
       "      <td>-13</td>\n",
       "    </tr>\n",
       "    <tr>\n",
       "      <th>4</th>\n",
       "      <td>DLBCL</td>\n",
       "      <td>16</td>\n",
       "      <td>24</td>\n",
       "      <td>187</td>\n",
       "      <td>39</td>\n",
       "      <td>145</td>\n",
       "      <td>254</td>\n",
       "      <td>571</td>\n",
       "      <td>930</td>\n",
       "      <td>-11</td>\n",
       "      <td>439</td>\n",
       "      <td>-665</td>\n",
       "      <td>-306</td>\n",
       "      <td>1460</td>\n",
       "      <td>117</td>\n",
       "      <td>-679</td>\n",
       "      <td>-61</td>\n",
       "      <td>-82</td>\n",
       "      <td>110</td>\n",
       "      <td>838</td>\n",
       "      <td>651</td>\n",
       "      <td>-74</td>\n",
       "      <td>201</td>\n",
       "      <td>454</td>\n",
       "      <td>0</td>\n",
       "      <td>-37</td>\n",
       "      <td>698</td>\n",
       "      <td>390</td>\n",
       "      <td>-17</td>\n",
       "      <td>461</td>\n",
       "      <td>815</td>\n",
       "      <td>342</td>\n",
       "      <td>444</td>\n",
       "      <td>345</td>\n",
       "      <td>648</td>\n",
       "      <td>587</td>\n",
       "      <td>198</td>\n",
       "      <td>-102</td>\n",
       "      <td>6</td>\n",
       "      <td>269</td>\n",
       "      <td>...</td>\n",
       "      <td>206</td>\n",
       "      <td>1408</td>\n",
       "      <td>-1</td>\n",
       "      <td>226</td>\n",
       "      <td>226</td>\n",
       "      <td>402</td>\n",
       "      <td>7871</td>\n",
       "      <td>14335</td>\n",
       "      <td>727</td>\n",
       "      <td>203</td>\n",
       "      <td>66</td>\n",
       "      <td>12369</td>\n",
       "      <td>5489</td>\n",
       "      <td>307</td>\n",
       "      <td>7405</td>\n",
       "      <td>-134</td>\n",
       "      <td>177</td>\n",
       "      <td>335</td>\n",
       "      <td>-8</td>\n",
       "      <td>248</td>\n",
       "      <td>24</td>\n",
       "      <td>170</td>\n",
       "      <td>-24</td>\n",
       "      <td>146</td>\n",
       "      <td>370</td>\n",
       "      <td>188</td>\n",
       "      <td>822</td>\n",
       "      <td>-29</td>\n",
       "      <td>-2380</td>\n",
       "      <td>350</td>\n",
       "      <td>69</td>\n",
       "      <td>608</td>\n",
       "      <td>-39</td>\n",
       "      <td>1667</td>\n",
       "      <td>-87</td>\n",
       "      <td>721</td>\n",
       "      <td>213</td>\n",
       "      <td>15</td>\n",
       "      <td>155</td>\n",
       "      <td>-26</td>\n",
       "    </tr>\n",
       "  </tbody>\n",
       "</table>\n",
       "<p>5 rows × 7071 columns</p>\n",
       "</div>"
      ],
      "text/plain": [
       "    Type  A28102  AB000114_at  ...  L49218_f_at  M71243_f_at  Z78285_f_at\n",
       "0  DLBCL      -1          -45  ...            3           76          -28\n",
       "1  DLBCL      25          -17  ...           -4           41          -45\n",
       "2  DLBCL      73           91  ...           38          164          -62\n",
       "3  DLBCL     267           41  ...          -63           73          -13\n",
       "4  DLBCL      16           24  ...           15          155          -26\n",
       "\n",
       "[5 rows x 7071 columns]"
      ]
     },
     "execution_count": 4,
     "metadata": {
      "tags": []
     },
     "output_type": "execute_result"
    }
   ],
   "source": [
    "data.head()"
   ]
  },
  {
   "cell_type": "markdown",
   "id": "f4ed5247",
   "metadata": {
    "id": "f4ed5247"
   },
   "source": [
    "## Checking to see if there is any missing values or not"
   ]
  },
  {
   "cell_type": "code",
   "execution_count": 5,
   "id": "028a7ba5",
   "metadata": {
    "colab": {
     "base_uri": "https://localhost:8080/"
    },
    "id": "028a7ba5",
    "outputId": "cc5d88d2-aeae-4dff-fc46-231977105c70"
   },
   "outputs": [
    {
     "name": "stdout",
     "output_type": "stream",
     "text": [
      "<class 'pandas.core.frame.DataFrame'>\n",
      "RangeIndex: 77 entries, 0 to 76\n",
      "Columns: 7071 entries, Type to Z78285_f_at\n",
      "dtypes: int64(7070), object(1)\n",
      "memory usage: 4.2+ MB\n"
     ]
    }
   ],
   "source": [
    "data.info()"
   ]
  },
  {
   "cell_type": "code",
   "execution_count": 6,
   "id": "2f9c09c7",
   "metadata": {
    "colab": {
     "base_uri": "https://localhost:8080/",
     "height": 0
    },
    "id": "2f9c09c7",
    "outputId": "7b940290-bf97-4132-fade-b9a71f87a5df"
   },
   "outputs": [
    {
     "data": {
      "text/html": [
       "<div>\n",
       "<style scoped>\n",
       "    .dataframe tbody tr th:only-of-type {\n",
       "        vertical-align: middle;\n",
       "    }\n",
       "\n",
       "    .dataframe tbody tr th {\n",
       "        vertical-align: top;\n",
       "    }\n",
       "\n",
       "    .dataframe thead th {\n",
       "        text-align: right;\n",
       "    }\n",
       "</style>\n",
       "<table border=\"1\" class=\"dataframe\">\n",
       "  <thead>\n",
       "    <tr style=\"text-align: right;\">\n",
       "      <th></th>\n",
       "      <th>A28102</th>\n",
       "      <th>AB000114_at</th>\n",
       "      <th>AB000115_at</th>\n",
       "      <th>AB000220_at</th>\n",
       "      <th>AB000409_at</th>\n",
       "      <th>AB000449_at</th>\n",
       "      <th>AB000450_at</th>\n",
       "      <th>AB000460_at</th>\n",
       "      <th>AB000462_at</th>\n",
       "      <th>AB000464_at</th>\n",
       "      <th>AB000466_at</th>\n",
       "      <th>AB000467_at</th>\n",
       "      <th>AB000468_at</th>\n",
       "      <th>AB000584_at</th>\n",
       "      <th>AB000895_at</th>\n",
       "      <th>AB000896_at</th>\n",
       "      <th>AB000897_at</th>\n",
       "      <th>AB000905_at</th>\n",
       "      <th>AB001106_at</th>\n",
       "      <th>AB001325_at</th>\n",
       "      <th>AB002314_at</th>\n",
       "      <th>AB002315_at</th>\n",
       "      <th>AB002318_at</th>\n",
       "      <th>AB002365_at</th>\n",
       "      <th>AB002366_at</th>\n",
       "      <th>AB002380_at</th>\n",
       "      <th>AB002382_at</th>\n",
       "      <th>AB002409_at</th>\n",
       "      <th>AB002559_at</th>\n",
       "      <th>AB003102_at</th>\n",
       "      <th>AB003103_at</th>\n",
       "      <th>AB003177_at</th>\n",
       "      <th>AB003698_at</th>\n",
       "      <th>AB004884_at</th>\n",
       "      <th>AB006190_at</th>\n",
       "      <th>AC000061_cds2_at</th>\n",
       "      <th>AC000061_cds3_at</th>\n",
       "      <th>AC000062_at</th>\n",
       "      <th>AC000064_cds1_at</th>\n",
       "      <th>AC000064_cds2_at</th>\n",
       "      <th>...</th>\n",
       "      <th>X53065_f_at</th>\n",
       "      <th>X64177_f_at</th>\n",
       "      <th>X67491_f_at</th>\n",
       "      <th>X71345_f_at</th>\n",
       "      <th>X97444_f_at</th>\n",
       "      <th>Z80780_f_at</th>\n",
       "      <th>X00351_f_at</th>\n",
       "      <th>X01677_f_at</th>\n",
       "      <th>M31667_f_at</th>\n",
       "      <th>L41268_f_at</th>\n",
       "      <th>X99479_f_at</th>\n",
       "      <th>HG658-HT658_f_at</th>\n",
       "      <th>M94880_f_at</th>\n",
       "      <th>S80905_f_at</th>\n",
       "      <th>X03068_f_at</th>\n",
       "      <th>Z34822_f_at</th>\n",
       "      <th>U87593_f_at</th>\n",
       "      <th>U88902_cds1_f_at</th>\n",
       "      <th>AC002076_cds2_at</th>\n",
       "      <th>D64015_at</th>\n",
       "      <th>HG2510-HT2606_at</th>\n",
       "      <th>L10717_at</th>\n",
       "      <th>L34355_at</th>\n",
       "      <th>L78833_cds4_at</th>\n",
       "      <th>M13981_at</th>\n",
       "      <th>M21064_at</th>\n",
       "      <th>M93143_at</th>\n",
       "      <th>S78825_at</th>\n",
       "      <th>U11863_at</th>\n",
       "      <th>U29175_at</th>\n",
       "      <th>U48730_at</th>\n",
       "      <th>U58516_at</th>\n",
       "      <th>U73738_at</th>\n",
       "      <th>X06956_at</th>\n",
       "      <th>X16699_at</th>\n",
       "      <th>X83863_at</th>\n",
       "      <th>Z17240_at</th>\n",
       "      <th>L49218_f_at</th>\n",
       "      <th>M71243_f_at</th>\n",
       "      <th>Z78285_f_at</th>\n",
       "    </tr>\n",
       "  </thead>\n",
       "  <tbody>\n",
       "    <tr>\n",
       "      <th>count</th>\n",
       "      <td>77.000000</td>\n",
       "      <td>77.000000</td>\n",
       "      <td>77.000000</td>\n",
       "      <td>77.000000</td>\n",
       "      <td>77.000000</td>\n",
       "      <td>77.000000</td>\n",
       "      <td>77.000000</td>\n",
       "      <td>77.000000</td>\n",
       "      <td>77.000000</td>\n",
       "      <td>77.000000</td>\n",
       "      <td>77.000000</td>\n",
       "      <td>77.000000</td>\n",
       "      <td>77.000000</td>\n",
       "      <td>77.000000</td>\n",
       "      <td>77.000000</td>\n",
       "      <td>77.000000</td>\n",
       "      <td>77.000000</td>\n",
       "      <td>77.000000</td>\n",
       "      <td>77.000000</td>\n",
       "      <td>77.000000</td>\n",
       "      <td>77.000000</td>\n",
       "      <td>77.000000</td>\n",
       "      <td>77.000000</td>\n",
       "      <td>77.000000</td>\n",
       "      <td>77.000000</td>\n",
       "      <td>77.000000</td>\n",
       "      <td>77.000000</td>\n",
       "      <td>77.000000</td>\n",
       "      <td>77.000000</td>\n",
       "      <td>77.000000</td>\n",
       "      <td>77.000000</td>\n",
       "      <td>77.000000</td>\n",
       "      <td>77.000000</td>\n",
       "      <td>77.000000</td>\n",
       "      <td>77.000000</td>\n",
       "      <td>77.000000</td>\n",
       "      <td>77.000000</td>\n",
       "      <td>77.000000</td>\n",
       "      <td>77.000000</td>\n",
       "      <td>77.000000</td>\n",
       "      <td>...</td>\n",
       "      <td>77.000000</td>\n",
       "      <td>77.000000</td>\n",
       "      <td>77.000000</td>\n",
       "      <td>77.000000</td>\n",
       "      <td>77.000000</td>\n",
       "      <td>77.000000</td>\n",
       "      <td>77.000000</td>\n",
       "      <td>77.000000</td>\n",
       "      <td>77.000000</td>\n",
       "      <td>77.000000</td>\n",
       "      <td>77.000000</td>\n",
       "      <td>77.000000</td>\n",
       "      <td>77.000000</td>\n",
       "      <td>77.000000</td>\n",
       "      <td>77.000000</td>\n",
       "      <td>77.000000</td>\n",
       "      <td>77.000000</td>\n",
       "      <td>77.000000</td>\n",
       "      <td>77.000000</td>\n",
       "      <td>77.000000</td>\n",
       "      <td>77.000000</td>\n",
       "      <td>77.000000</td>\n",
       "      <td>77.000000</td>\n",
       "      <td>77.000000</td>\n",
       "      <td>77.000000</td>\n",
       "      <td>77.000000</td>\n",
       "      <td>77.000000</td>\n",
       "      <td>77.000000</td>\n",
       "      <td>77.000000</td>\n",
       "      <td>77.000000</td>\n",
       "      <td>77.000000</td>\n",
       "      <td>77.000000</td>\n",
       "      <td>77.000000</td>\n",
       "      <td>77.000000</td>\n",
       "      <td>77.000000</td>\n",
       "      <td>77.000000</td>\n",
       "      <td>77.000000</td>\n",
       "      <td>77.000000</td>\n",
       "      <td>77.000000</td>\n",
       "      <td>77.000000</td>\n",
       "    </tr>\n",
       "    <tr>\n",
       "      <th>mean</th>\n",
       "      <td>117.467532</td>\n",
       "      <td>1.675325</td>\n",
       "      <td>439.844156</td>\n",
       "      <td>191.285714</td>\n",
       "      <td>156.285714</td>\n",
       "      <td>351.818182</td>\n",
       "      <td>331.194805</td>\n",
       "      <td>1579.051948</td>\n",
       "      <td>141.272727</td>\n",
       "      <td>714.584416</td>\n",
       "      <td>-677.168831</td>\n",
       "      <td>-623.532468</td>\n",
       "      <td>893.168831</td>\n",
       "      <td>-206.142857</td>\n",
       "      <td>-313.831169</td>\n",
       "      <td>-69.324675</td>\n",
       "      <td>-47.714286</td>\n",
       "      <td>154.155844</td>\n",
       "      <td>629.090909</td>\n",
       "      <td>971.000000</td>\n",
       "      <td>77.311688</td>\n",
       "      <td>306.116883</td>\n",
       "      <td>1019.207792</td>\n",
       "      <td>-12.753247</td>\n",
       "      <td>-189.389610</td>\n",
       "      <td>175.324675</td>\n",
       "      <td>674.246753</td>\n",
       "      <td>1528.051948</td>\n",
       "      <td>764.701299</td>\n",
       "      <td>1066.389610</td>\n",
       "      <td>181.324675</td>\n",
       "      <td>920.519481</td>\n",
       "      <td>297.597403</td>\n",
       "      <td>840.025974</td>\n",
       "      <td>725.311688</td>\n",
       "      <td>344.142857</td>\n",
       "      <td>-94.662338</td>\n",
       "      <td>-18.441558</td>\n",
       "      <td>325.649351</td>\n",
       "      <td>141.974026</td>\n",
       "      <td>...</td>\n",
       "      <td>255.857143</td>\n",
       "      <td>1236.311688</td>\n",
       "      <td>82.272727</td>\n",
       "      <td>262.636364</td>\n",
       "      <td>416.818182</td>\n",
       "      <td>267.077922</td>\n",
       "      <td>19589.532468</td>\n",
       "      <td>15246.610390</td>\n",
       "      <td>1827.155844</td>\n",
       "      <td>294.259740</td>\n",
       "      <td>128.337662</td>\n",
       "      <td>15157.662338</td>\n",
       "      <td>12983.805195</td>\n",
       "      <td>362.103896</td>\n",
       "      <td>7328.428571</td>\n",
       "      <td>-152.116883</td>\n",
       "      <td>118.233766</td>\n",
       "      <td>470.597403</td>\n",
       "      <td>2.220779</td>\n",
       "      <td>325.233766</td>\n",
       "      <td>81.298701</td>\n",
       "      <td>393.051948</td>\n",
       "      <td>168.077922</td>\n",
       "      <td>349.857143</td>\n",
       "      <td>183.675325</td>\n",
       "      <td>243.259740</td>\n",
       "      <td>516.844156</td>\n",
       "      <td>-86.246753</td>\n",
       "      <td>-1722.805195</td>\n",
       "      <td>611.194805</td>\n",
       "      <td>193.792208</td>\n",
       "      <td>1288.155844</td>\n",
       "      <td>-224.831169</td>\n",
       "      <td>1924.688312</td>\n",
       "      <td>-220.649351</td>\n",
       "      <td>787.350649</td>\n",
       "      <td>249.142857</td>\n",
       "      <td>-132.792208</td>\n",
       "      <td>26.805195</td>\n",
       "      <td>-195.337662</td>\n",
       "    </tr>\n",
       "    <tr>\n",
       "      <th>std</th>\n",
       "      <td>163.165769</td>\n",
       "      <td>160.380587</td>\n",
       "      <td>615.331662</td>\n",
       "      <td>167.230841</td>\n",
       "      <td>265.196047</td>\n",
       "      <td>262.099706</td>\n",
       "      <td>226.761876</td>\n",
       "      <td>813.137975</td>\n",
       "      <td>222.960206</td>\n",
       "      <td>492.225995</td>\n",
       "      <td>343.895195</td>\n",
       "      <td>517.471041</td>\n",
       "      <td>646.598212</td>\n",
       "      <td>414.168975</td>\n",
       "      <td>387.053628</td>\n",
       "      <td>132.555593</td>\n",
       "      <td>111.307878</td>\n",
       "      <td>171.062321</td>\n",
       "      <td>313.983455</td>\n",
       "      <td>524.145144</td>\n",
       "      <td>136.826365</td>\n",
       "      <td>161.460601</td>\n",
       "      <td>589.767111</td>\n",
       "      <td>110.831327</td>\n",
       "      <td>914.639851</td>\n",
       "      <td>159.403942</td>\n",
       "      <td>430.477035</td>\n",
       "      <td>2545.352012</td>\n",
       "      <td>371.572833</td>\n",
       "      <td>581.537032</td>\n",
       "      <td>147.529341</td>\n",
       "      <td>545.358009</td>\n",
       "      <td>191.950532</td>\n",
       "      <td>578.014318</td>\n",
       "      <td>249.419287</td>\n",
       "      <td>300.548302</td>\n",
       "      <td>59.923770</td>\n",
       "      <td>42.691825</td>\n",
       "      <td>183.892043</td>\n",
       "      <td>88.013901</td>\n",
       "      <td>...</td>\n",
       "      <td>173.706325</td>\n",
       "      <td>2742.927505</td>\n",
       "      <td>134.716529</td>\n",
       "      <td>99.110506</td>\n",
       "      <td>203.408891</td>\n",
       "      <td>471.700556</td>\n",
       "      <td>6277.739833</td>\n",
       "      <td>2921.305148</td>\n",
       "      <td>2388.277606</td>\n",
       "      <td>227.061689</td>\n",
       "      <td>252.845262</td>\n",
       "      <td>3605.784441</td>\n",
       "      <td>4344.694838</td>\n",
       "      <td>443.573574</td>\n",
       "      <td>4043.669365</td>\n",
       "      <td>102.986582</td>\n",
       "      <td>120.863766</td>\n",
       "      <td>297.164683</td>\n",
       "      <td>43.240948</td>\n",
       "      <td>180.653193</td>\n",
       "      <td>77.809664</td>\n",
       "      <td>399.161948</td>\n",
       "      <td>196.351911</td>\n",
       "      <td>238.273158</td>\n",
       "      <td>159.916956</td>\n",
       "      <td>131.339095</td>\n",
       "      <td>284.310665</td>\n",
       "      <td>159.532389</td>\n",
       "      <td>745.221038</td>\n",
       "      <td>654.451056</td>\n",
       "      <td>132.363270</td>\n",
       "      <td>899.104029</td>\n",
       "      <td>338.030612</td>\n",
       "      <td>2149.767969</td>\n",
       "      <td>287.278554</td>\n",
       "      <td>778.563873</td>\n",
       "      <td>305.609775</td>\n",
       "      <td>263.358038</td>\n",
       "      <td>239.679229</td>\n",
       "      <td>288.071154</td>\n",
       "    </tr>\n",
       "    <tr>\n",
       "      <th>min</th>\n",
       "      <td>-136.000000</td>\n",
       "      <td>-965.000000</td>\n",
       "      <td>34.000000</td>\n",
       "      <td>2.000000</td>\n",
       "      <td>-334.000000</td>\n",
       "      <td>-99.000000</td>\n",
       "      <td>10.000000</td>\n",
       "      <td>557.000000</td>\n",
       "      <td>-131.000000</td>\n",
       "      <td>138.000000</td>\n",
       "      <td>-1949.000000</td>\n",
       "      <td>-3533.000000</td>\n",
       "      <td>-158.000000</td>\n",
       "      <td>-1110.000000</td>\n",
       "      <td>-1329.000000</td>\n",
       "      <td>-431.000000</td>\n",
       "      <td>-494.000000</td>\n",
       "      <td>8.000000</td>\n",
       "      <td>87.000000</td>\n",
       "      <td>394.000000</td>\n",
       "      <td>-212.000000</td>\n",
       "      <td>-15.000000</td>\n",
       "      <td>-167.000000</td>\n",
       "      <td>-430.000000</td>\n",
       "      <td>-7972.000000</td>\n",
       "      <td>-88.000000</td>\n",
       "      <td>-358.000000</td>\n",
       "      <td>-165.000000</td>\n",
       "      <td>110.000000</td>\n",
       "      <td>295.000000</td>\n",
       "      <td>-41.000000</td>\n",
       "      <td>233.000000</td>\n",
       "      <td>2.000000</td>\n",
       "      <td>181.000000</td>\n",
       "      <td>334.000000</td>\n",
       "      <td>-1159.000000</td>\n",
       "      <td>-255.000000</td>\n",
       "      <td>-166.000000</td>\n",
       "      <td>-27.000000</td>\n",
       "      <td>23.000000</td>\n",
       "      <td>...</td>\n",
       "      <td>55.000000</td>\n",
       "      <td>-1033.000000</td>\n",
       "      <td>-165.000000</td>\n",
       "      <td>72.000000</td>\n",
       "      <td>126.000000</td>\n",
       "      <td>-510.000000</td>\n",
       "      <td>3351.000000</td>\n",
       "      <td>5803.000000</td>\n",
       "      <td>15.000000</td>\n",
       "      <td>-163.000000</td>\n",
       "      <td>-341.000000</td>\n",
       "      <td>6056.000000</td>\n",
       "      <td>2532.000000</td>\n",
       "      <td>-188.000000</td>\n",
       "      <td>1290.000000</td>\n",
       "      <td>-579.000000</td>\n",
       "      <td>-87.000000</td>\n",
       "      <td>67.000000</td>\n",
       "      <td>-113.000000</td>\n",
       "      <td>117.000000</td>\n",
       "      <td>-30.000000</td>\n",
       "      <td>41.000000</td>\n",
       "      <td>-245.000000</td>\n",
       "      <td>83.000000</td>\n",
       "      <td>-90.000000</td>\n",
       "      <td>52.000000</td>\n",
       "      <td>103.000000</td>\n",
       "      <td>-472.000000</td>\n",
       "      <td>-3945.000000</td>\n",
       "      <td>-18.000000</td>\n",
       "      <td>-57.000000</td>\n",
       "      <td>258.000000</td>\n",
       "      <td>-2017.000000</td>\n",
       "      <td>-738.000000</td>\n",
       "      <td>-1687.000000</td>\n",
       "      <td>-75.000000</td>\n",
       "      <td>-661.000000</td>\n",
       "      <td>-1375.000000</td>\n",
       "      <td>-1332.000000</td>\n",
       "      <td>-1729.000000</td>\n",
       "    </tr>\n",
       "    <tr>\n",
       "      <th>25%</th>\n",
       "      <td>23.000000</td>\n",
       "      <td>-22.000000</td>\n",
       "      <td>197.000000</td>\n",
       "      <td>88.000000</td>\n",
       "      <td>-38.000000</td>\n",
       "      <td>177.000000</td>\n",
       "      <td>181.000000</td>\n",
       "      <td>1182.000000</td>\n",
       "      <td>56.000000</td>\n",
       "      <td>387.000000</td>\n",
       "      <td>-840.000000</td>\n",
       "      <td>-731.000000</td>\n",
       "      <td>512.000000</td>\n",
       "      <td>-441.000000</td>\n",
       "      <td>-556.000000</td>\n",
       "      <td>-162.000000</td>\n",
       "      <td>-107.000000</td>\n",
       "      <td>83.000000</td>\n",
       "      <td>419.000000</td>\n",
       "      <td>655.000000</td>\n",
       "      <td>-8.000000</td>\n",
       "      <td>184.000000</td>\n",
       "      <td>665.000000</td>\n",
       "      <td>-77.000000</td>\n",
       "      <td>-161.000000</td>\n",
       "      <td>70.000000</td>\n",
       "      <td>411.000000</td>\n",
       "      <td>158.000000</td>\n",
       "      <td>476.000000</td>\n",
       "      <td>634.000000</td>\n",
       "      <td>101.000000</td>\n",
       "      <td>585.000000</td>\n",
       "      <td>175.000000</td>\n",
       "      <td>589.000000</td>\n",
       "      <td>550.000000</td>\n",
       "      <td>227.000000</td>\n",
       "      <td>-136.000000</td>\n",
       "      <td>-38.000000</td>\n",
       "      <td>228.000000</td>\n",
       "      <td>83.000000</td>\n",
       "      <td>...</td>\n",
       "      <td>165.000000</td>\n",
       "      <td>-226.000000</td>\n",
       "      <td>-1.000000</td>\n",
       "      <td>196.000000</td>\n",
       "      <td>287.000000</td>\n",
       "      <td>-11.000000</td>\n",
       "      <td>16988.000000</td>\n",
       "      <td>13602.000000</td>\n",
       "      <td>403.000000</td>\n",
       "      <td>139.000000</td>\n",
       "      <td>24.000000</td>\n",
       "      <td>13068.000000</td>\n",
       "      <td>10040.000000</td>\n",
       "      <td>145.000000</td>\n",
       "      <td>4555.000000</td>\n",
       "      <td>-220.000000</td>\n",
       "      <td>56.000000</td>\n",
       "      <td>278.000000</td>\n",
       "      <td>-23.000000</td>\n",
       "      <td>217.000000</td>\n",
       "      <td>35.000000</td>\n",
       "      <td>153.000000</td>\n",
       "      <td>43.000000</td>\n",
       "      <td>183.000000</td>\n",
       "      <td>102.000000</td>\n",
       "      <td>152.000000</td>\n",
       "      <td>301.000000</td>\n",
       "      <td>-202.000000</td>\n",
       "      <td>-2285.000000</td>\n",
       "      <td>165.000000</td>\n",
       "      <td>101.000000</td>\n",
       "      <td>713.000000</td>\n",
       "      <td>-273.000000</td>\n",
       "      <td>572.000000</td>\n",
       "      <td>-263.000000</td>\n",
       "      <td>384.000000</td>\n",
       "      <td>87.000000</td>\n",
       "      <td>-243.000000</td>\n",
       "      <td>-22.000000</td>\n",
       "      <td>-281.000000</td>\n",
       "    </tr>\n",
       "    <tr>\n",
       "      <th>50%</th>\n",
       "      <td>84.000000</td>\n",
       "      <td>19.000000</td>\n",
       "      <td>298.000000</td>\n",
       "      <td>132.000000</td>\n",
       "      <td>153.000000</td>\n",
       "      <td>286.000000</td>\n",
       "      <td>265.000000</td>\n",
       "      <td>1421.000000</td>\n",
       "      <td>93.000000</td>\n",
       "      <td>615.000000</td>\n",
       "      <td>-618.000000</td>\n",
       "      <td>-539.000000</td>\n",
       "      <td>793.000000</td>\n",
       "      <td>-126.000000</td>\n",
       "      <td>-227.000000</td>\n",
       "      <td>-76.000000</td>\n",
       "      <td>-55.000000</td>\n",
       "      <td>112.000000</td>\n",
       "      <td>564.000000</td>\n",
       "      <td>867.000000</td>\n",
       "      <td>56.000000</td>\n",
       "      <td>294.000000</td>\n",
       "      <td>918.000000</td>\n",
       "      <td>0.000000</td>\n",
       "      <td>-28.000000</td>\n",
       "      <td>135.000000</td>\n",
       "      <td>599.000000</td>\n",
       "      <td>426.000000</td>\n",
       "      <td>670.000000</td>\n",
       "      <td>950.000000</td>\n",
       "      <td>149.000000</td>\n",
       "      <td>760.000000</td>\n",
       "      <td>266.000000</td>\n",
       "      <td>725.000000</td>\n",
       "      <td>660.000000</td>\n",
       "      <td>329.000000</td>\n",
       "      <td>-83.000000</td>\n",
       "      <td>-13.000000</td>\n",
       "      <td>291.000000</td>\n",
       "      <td>123.000000</td>\n",
       "      <td>...</td>\n",
       "      <td>207.000000</td>\n",
       "      <td>293.000000</td>\n",
       "      <td>73.000000</td>\n",
       "      <td>237.000000</td>\n",
       "      <td>372.000000</td>\n",
       "      <td>172.000000</td>\n",
       "      <td>20318.000000</td>\n",
       "      <td>15052.000000</td>\n",
       "      <td>1049.000000</td>\n",
       "      <td>251.000000</td>\n",
       "      <td>94.000000</td>\n",
       "      <td>14755.000000</td>\n",
       "      <td>13843.000000</td>\n",
       "      <td>308.000000</td>\n",
       "      <td>6422.000000</td>\n",
       "      <td>-121.000000</td>\n",
       "      <td>97.000000</td>\n",
       "      <td>366.000000</td>\n",
       "      <td>5.000000</td>\n",
       "      <td>291.000000</td>\n",
       "      <td>71.000000</td>\n",
       "      <td>273.000000</td>\n",
       "      <td>143.000000</td>\n",
       "      <td>319.000000</td>\n",
       "      <td>160.000000</td>\n",
       "      <td>209.000000</td>\n",
       "      <td>457.000000</td>\n",
       "      <td>-100.000000</td>\n",
       "      <td>-1636.000000</td>\n",
       "      <td>368.000000</td>\n",
       "      <td>170.000000</td>\n",
       "      <td>1038.000000</td>\n",
       "      <td>-123.000000</td>\n",
       "      <td>1165.000000</td>\n",
       "      <td>-111.000000</td>\n",
       "      <td>676.000000</td>\n",
       "      <td>263.000000</td>\n",
       "      <td>-22.000000</td>\n",
       "      <td>73.000000</td>\n",
       "      <td>-78.000000</td>\n",
       "    </tr>\n",
       "    <tr>\n",
       "      <th>75%</th>\n",
       "      <td>146.000000</td>\n",
       "      <td>60.000000</td>\n",
       "      <td>486.000000</td>\n",
       "      <td>231.000000</td>\n",
       "      <td>361.000000</td>\n",
       "      <td>481.000000</td>\n",
       "      <td>406.000000</td>\n",
       "      <td>1720.000000</td>\n",
       "      <td>169.000000</td>\n",
       "      <td>863.000000</td>\n",
       "      <td>-434.000000</td>\n",
       "      <td>-306.000000</td>\n",
       "      <td>1201.000000</td>\n",
       "      <td>3.000000</td>\n",
       "      <td>-59.000000</td>\n",
       "      <td>10.000000</td>\n",
       "      <td>2.000000</td>\n",
       "      <td>160.000000</td>\n",
       "      <td>797.000000</td>\n",
       "      <td>1077.000000</td>\n",
       "      <td>127.000000</td>\n",
       "      <td>389.000000</td>\n",
       "      <td>1265.000000</td>\n",
       "      <td>47.000000</td>\n",
       "      <td>5.000000</td>\n",
       "      <td>231.000000</td>\n",
       "      <td>917.000000</td>\n",
       "      <td>1887.000000</td>\n",
       "      <td>976.000000</td>\n",
       "      <td>1199.000000</td>\n",
       "      <td>223.000000</td>\n",
       "      <td>1087.000000</td>\n",
       "      <td>367.000000</td>\n",
       "      <td>917.000000</td>\n",
       "      <td>855.000000</td>\n",
       "      <td>426.000000</td>\n",
       "      <td>-58.000000</td>\n",
       "      <td>11.000000</td>\n",
       "      <td>386.000000</td>\n",
       "      <td>174.000000</td>\n",
       "      <td>...</td>\n",
       "      <td>307.000000</td>\n",
       "      <td>1408.000000</td>\n",
       "      <td>143.000000</td>\n",
       "      <td>325.000000</td>\n",
       "      <td>502.000000</td>\n",
       "      <td>402.000000</td>\n",
       "      <td>23395.000000</td>\n",
       "      <td>16557.000000</td>\n",
       "      <td>2140.000000</td>\n",
       "      <td>393.000000</td>\n",
       "      <td>201.000000</td>\n",
       "      <td>16665.000000</td>\n",
       "      <td>15947.000000</td>\n",
       "      <td>472.000000</td>\n",
       "      <td>9364.000000</td>\n",
       "      <td>-86.000000</td>\n",
       "      <td>148.000000</td>\n",
       "      <td>593.000000</td>\n",
       "      <td>23.000000</td>\n",
       "      <td>407.000000</td>\n",
       "      <td>117.000000</td>\n",
       "      <td>453.000000</td>\n",
       "      <td>298.000000</td>\n",
       "      <td>412.000000</td>\n",
       "      <td>246.000000</td>\n",
       "      <td>286.000000</td>\n",
       "      <td>630.000000</td>\n",
       "      <td>31.000000</td>\n",
       "      <td>-1142.000000</td>\n",
       "      <td>756.000000</td>\n",
       "      <td>255.000000</td>\n",
       "      <td>1499.000000</td>\n",
       "      <td>-23.000000</td>\n",
       "      <td>2465.000000</td>\n",
       "      <td>-63.000000</td>\n",
       "      <td>1024.000000</td>\n",
       "      <td>409.000000</td>\n",
       "      <td>11.000000</td>\n",
       "      <td>155.000000</td>\n",
       "      <td>-42.000000</td>\n",
       "    </tr>\n",
       "    <tr>\n",
       "      <th>max</th>\n",
       "      <td>1017.000000</td>\n",
       "      <td>464.000000</td>\n",
       "      <td>5283.000000</td>\n",
       "      <td>898.000000</td>\n",
       "      <td>1225.000000</td>\n",
       "      <td>1290.000000</td>\n",
       "      <td>1176.000000</td>\n",
       "      <td>7152.000000</td>\n",
       "      <td>1802.000000</td>\n",
       "      <td>2940.000000</td>\n",
       "      <td>-150.000000</td>\n",
       "      <td>-31.000000</td>\n",
       "      <td>3814.000000</td>\n",
       "      <td>1858.000000</td>\n",
       "      <td>372.000000</td>\n",
       "      <td>338.000000</td>\n",
       "      <td>319.000000</td>\n",
       "      <td>1206.000000</td>\n",
       "      <td>1771.000000</td>\n",
       "      <td>3314.000000</td>\n",
       "      <td>542.000000</td>\n",
       "      <td>929.000000</td>\n",
       "      <td>2797.000000</td>\n",
       "      <td>310.000000</td>\n",
       "      <td>142.000000</td>\n",
       "      <td>698.000000</td>\n",
       "      <td>2208.000000</td>\n",
       "      <td>12732.000000</td>\n",
       "      <td>1707.000000</td>\n",
       "      <td>3035.000000</td>\n",
       "      <td>867.000000</td>\n",
       "      <td>3431.000000</td>\n",
       "      <td>1041.000000</td>\n",
       "      <td>5057.000000</td>\n",
       "      <td>1566.000000</td>\n",
       "      <td>1367.000000</td>\n",
       "      <td>45.000000</td>\n",
       "      <td>85.000000</td>\n",
       "      <td>1157.000000</td>\n",
       "      <td>540.000000</td>\n",
       "      <td>...</td>\n",
       "      <td>1082.000000</td>\n",
       "      <td>15975.000000</td>\n",
       "      <td>497.000000</td>\n",
       "      <td>617.000000</td>\n",
       "      <td>1150.000000</td>\n",
       "      <td>2381.000000</td>\n",
       "      <td>35444.000000</td>\n",
       "      <td>23418.000000</td>\n",
       "      <td>13797.000000</td>\n",
       "      <td>1408.000000</td>\n",
       "      <td>1665.000000</td>\n",
       "      <td>30334.000000</td>\n",
       "      <td>24306.000000</td>\n",
       "      <td>3533.000000</td>\n",
       "      <td>18655.000000</td>\n",
       "      <td>0.000000</td>\n",
       "      <td>935.000000</td>\n",
       "      <td>2047.000000</td>\n",
       "      <td>154.000000</td>\n",
       "      <td>1369.000000</td>\n",
       "      <td>561.000000</td>\n",
       "      <td>2318.000000</td>\n",
       "      <td>619.000000</td>\n",
       "      <td>1266.000000</td>\n",
       "      <td>1133.000000</td>\n",
       "      <td>695.000000</td>\n",
       "      <td>1700.000000</td>\n",
       "      <td>326.000000</td>\n",
       "      <td>-41.000000</td>\n",
       "      <td>2655.000000</td>\n",
       "      <td>635.000000</td>\n",
       "      <td>5936.000000</td>\n",
       "      <td>93.000000</td>\n",
       "      <td>11906.000000</td>\n",
       "      <td>-2.000000</td>\n",
       "      <td>6465.000000</td>\n",
       "      <td>1193.000000</td>\n",
       "      <td>152.000000</td>\n",
       "      <td>592.000000</td>\n",
       "      <td>3.000000</td>\n",
       "    </tr>\n",
       "  </tbody>\n",
       "</table>\n",
       "<p>8 rows × 7070 columns</p>\n",
       "</div>"
      ],
      "text/plain": [
       "            A28102  AB000114_at  ...  M71243_f_at  Z78285_f_at\n",
       "count    77.000000    77.000000  ...    77.000000    77.000000\n",
       "mean    117.467532     1.675325  ...    26.805195  -195.337662\n",
       "std     163.165769   160.380587  ...   239.679229   288.071154\n",
       "min    -136.000000  -965.000000  ... -1332.000000 -1729.000000\n",
       "25%      23.000000   -22.000000  ...   -22.000000  -281.000000\n",
       "50%      84.000000    19.000000  ...    73.000000   -78.000000\n",
       "75%     146.000000    60.000000  ...   155.000000   -42.000000\n",
       "max    1017.000000   464.000000  ...   592.000000     3.000000\n",
       "\n",
       "[8 rows x 7070 columns]"
      ]
     },
     "execution_count": 6,
     "metadata": {
      "tags": []
     },
     "output_type": "execute_result"
    }
   ],
   "source": [
    "data.describe()"
   ]
  },
  {
   "cell_type": "markdown",
   "id": "4fdb7a8d",
   "metadata": {
    "id": "4fdb7a8d"
   },
   "source": [
    "## Replacing categorical values with numaric value "
   ]
  },
  {
   "cell_type": "code",
   "execution_count": 7,
   "id": "20f00f10",
   "metadata": {
    "id": "20f00f10"
   },
   "outputs": [],
   "source": [
    "data['Type'] = data['Type'].replace(['DLBCL', 'FL'],[0, 1])"
   ]
  },
  {
   "cell_type": "code",
   "execution_count": 8,
   "id": "a8a64094",
   "metadata": {
    "colab": {
     "base_uri": "https://localhost:8080/"
    },
    "id": "a8a64094",
    "outputId": "284c5a1e-d3ec-4b5a-890b-301e201acf4f"
   },
   "outputs": [
    {
     "name": "stdout",
     "output_type": "stream",
     "text": [
      "[[   0   -1  -45 ...    3   76  -28]\n",
      " [   0   25  -17 ...   -4   41  -45]\n",
      " [   0   73   91 ...   38  164  -62]\n",
      " ...\n",
      " [   1   83  -63 ... -221 -213 -318]\n",
      " [   1   27 -194 ...  -97 -120 -291]\n",
      " [   1    3  123 ...   -1  370  -53]]\n"
     ]
    }
   ],
   "source": [
    "print(data.values)"
   ]
  },
  {
   "cell_type": "markdown",
   "id": "K-pUC__Zlbbo",
   "metadata": {
    "id": "K-pUC__Zlbbo"
   },
   "source": [
    "# Feature Extraction using Pearson's Correlation"
   ]
  },
  {
   "cell_type": "code",
   "execution_count": 9,
   "id": "GnKvr8JAlpHB",
   "metadata": {
    "colab": {
     "base_uri": "https://localhost:8080/",
     "height": 270
    },
    "id": "GnKvr8JAlpHB",
    "outputId": "5c8e5aec-ee22-4761-f9b6-760426da6ab5"
   },
   "outputs": [
    {
     "data": {
      "text/html": [
       "<div>\n",
       "<style scoped>\n",
       "    .dataframe tbody tr th:only-of-type {\n",
       "        vertical-align: middle;\n",
       "    }\n",
       "\n",
       "    .dataframe tbody tr th {\n",
       "        vertical-align: top;\n",
       "    }\n",
       "\n",
       "    .dataframe thead th {\n",
       "        text-align: right;\n",
       "    }\n",
       "</style>\n",
       "<table border=\"1\" class=\"dataframe\">\n",
       "  <thead>\n",
       "    <tr style=\"text-align: right;\">\n",
       "      <th></th>\n",
       "      <th>A28102</th>\n",
       "      <th>AB000114_at</th>\n",
       "      <th>AB000115_at</th>\n",
       "      <th>AB000220_at</th>\n",
       "      <th>AB000409_at</th>\n",
       "      <th>AB000449_at</th>\n",
       "      <th>AB000450_at</th>\n",
       "      <th>AB000460_at</th>\n",
       "      <th>AB000462_at</th>\n",
       "      <th>AB000464_at</th>\n",
       "      <th>AB000466_at</th>\n",
       "      <th>AB000467_at</th>\n",
       "      <th>AB000468_at</th>\n",
       "      <th>AB000584_at</th>\n",
       "      <th>AB000895_at</th>\n",
       "      <th>AB000896_at</th>\n",
       "      <th>AB000897_at</th>\n",
       "      <th>AB000905_at</th>\n",
       "      <th>AB001106_at</th>\n",
       "      <th>AB001325_at</th>\n",
       "      <th>AB002314_at</th>\n",
       "      <th>AB002315_at</th>\n",
       "      <th>AB002318_at</th>\n",
       "      <th>AB002365_at</th>\n",
       "      <th>AB002366_at</th>\n",
       "      <th>AB002380_at</th>\n",
       "      <th>AB002382_at</th>\n",
       "      <th>AB002409_at</th>\n",
       "      <th>AB002559_at</th>\n",
       "      <th>AB003102_at</th>\n",
       "      <th>AB003103_at</th>\n",
       "      <th>AB003177_at</th>\n",
       "      <th>AB003698_at</th>\n",
       "      <th>AB004884_at</th>\n",
       "      <th>AB006190_at</th>\n",
       "      <th>AC000061_cds2_at</th>\n",
       "      <th>AC000061_cds3_at</th>\n",
       "      <th>AC000062_at</th>\n",
       "      <th>AC000064_cds1_at</th>\n",
       "      <th>AC000064_cds2_at</th>\n",
       "      <th>...</th>\n",
       "      <th>X53065_f_at</th>\n",
       "      <th>X64177_f_at</th>\n",
       "      <th>X67491_f_at</th>\n",
       "      <th>X71345_f_at</th>\n",
       "      <th>X97444_f_at</th>\n",
       "      <th>Z80780_f_at</th>\n",
       "      <th>X00351_f_at</th>\n",
       "      <th>X01677_f_at</th>\n",
       "      <th>M31667_f_at</th>\n",
       "      <th>L41268_f_at</th>\n",
       "      <th>X99479_f_at</th>\n",
       "      <th>HG658-HT658_f_at</th>\n",
       "      <th>M94880_f_at</th>\n",
       "      <th>S80905_f_at</th>\n",
       "      <th>X03068_f_at</th>\n",
       "      <th>Z34822_f_at</th>\n",
       "      <th>U87593_f_at</th>\n",
       "      <th>U88902_cds1_f_at</th>\n",
       "      <th>AC002076_cds2_at</th>\n",
       "      <th>D64015_at</th>\n",
       "      <th>HG2510-HT2606_at</th>\n",
       "      <th>L10717_at</th>\n",
       "      <th>L34355_at</th>\n",
       "      <th>L78833_cds4_at</th>\n",
       "      <th>M13981_at</th>\n",
       "      <th>M21064_at</th>\n",
       "      <th>M93143_at</th>\n",
       "      <th>S78825_at</th>\n",
       "      <th>U11863_at</th>\n",
       "      <th>U29175_at</th>\n",
       "      <th>U48730_at</th>\n",
       "      <th>U58516_at</th>\n",
       "      <th>U73738_at</th>\n",
       "      <th>X06956_at</th>\n",
       "      <th>X16699_at</th>\n",
       "      <th>X83863_at</th>\n",
       "      <th>Z17240_at</th>\n",
       "      <th>L49218_f_at</th>\n",
       "      <th>M71243_f_at</th>\n",
       "      <th>Z78285_f_at</th>\n",
       "    </tr>\n",
       "  </thead>\n",
       "  <tbody>\n",
       "    <tr>\n",
       "      <th>0</th>\n",
       "      <td>-1</td>\n",
       "      <td>-45</td>\n",
       "      <td>176</td>\n",
       "      <td>97</td>\n",
       "      <td>-57</td>\n",
       "      <td>233</td>\n",
       "      <td>265</td>\n",
       "      <td>945</td>\n",
       "      <td>56</td>\n",
       "      <td>819</td>\n",
       "      <td>-526</td>\n",
       "      <td>-1075</td>\n",
       "      <td>569</td>\n",
       "      <td>-501</td>\n",
       "      <td>-185</td>\n",
       "      <td>-28</td>\n",
       "      <td>-132</td>\n",
       "      <td>77</td>\n",
       "      <td>564</td>\n",
       "      <td>897</td>\n",
       "      <td>-40</td>\n",
       "      <td>169</td>\n",
       "      <td>1277</td>\n",
       "      <td>-80</td>\n",
       "      <td>-20</td>\n",
       "      <td>117</td>\n",
       "      <td>684</td>\n",
       "      <td>-6</td>\n",
       "      <td>500</td>\n",
       "      <td>864</td>\n",
       "      <td>109</td>\n",
       "      <td>838</td>\n",
       "      <td>332</td>\n",
       "      <td>762</td>\n",
       "      <td>548</td>\n",
       "      <td>368</td>\n",
       "      <td>-51</td>\n",
       "      <td>48</td>\n",
       "      <td>231</td>\n",
       "      <td>102</td>\n",
       "      <td>...</td>\n",
       "      <td>353</td>\n",
       "      <td>357</td>\n",
       "      <td>69</td>\n",
       "      <td>233</td>\n",
       "      <td>371</td>\n",
       "      <td>-92</td>\n",
       "      <td>21210</td>\n",
       "      <td>13993</td>\n",
       "      <td>1645</td>\n",
       "      <td>354</td>\n",
       "      <td>-341</td>\n",
       "      <td>12542</td>\n",
       "      <td>8233</td>\n",
       "      <td>298</td>\n",
       "      <td>11319</td>\n",
       "      <td>-72</td>\n",
       "      <td>229</td>\n",
       "      <td>778</td>\n",
       "      <td>16</td>\n",
       "      <td>409</td>\n",
       "      <td>41</td>\n",
       "      <td>111</td>\n",
       "      <td>234</td>\n",
       "      <td>354</td>\n",
       "      <td>71</td>\n",
       "      <td>286</td>\n",
       "      <td>575</td>\n",
       "      <td>-210</td>\n",
       "      <td>-1468</td>\n",
       "      <td>165</td>\n",
       "      <td>132</td>\n",
       "      <td>1036</td>\n",
       "      <td>-161</td>\n",
       "      <td>1523</td>\n",
       "      <td>-72</td>\n",
       "      <td>897</td>\n",
       "      <td>366</td>\n",
       "      <td>3</td>\n",
       "      <td>76</td>\n",
       "      <td>-28</td>\n",
       "    </tr>\n",
       "    <tr>\n",
       "      <th>1</th>\n",
       "      <td>25</td>\n",
       "      <td>-17</td>\n",
       "      <td>531</td>\n",
       "      <td>353</td>\n",
       "      <td>122</td>\n",
       "      <td>155</td>\n",
       "      <td>209</td>\n",
       "      <td>1688</td>\n",
       "      <td>42</td>\n",
       "      <td>639</td>\n",
       "      <td>-368</td>\n",
       "      <td>-253</td>\n",
       "      <td>892</td>\n",
       "      <td>71</td>\n",
       "      <td>157</td>\n",
       "      <td>-101</td>\n",
       "      <td>-68</td>\n",
       "      <td>136</td>\n",
       "      <td>562</td>\n",
       "      <td>623</td>\n",
       "      <td>4</td>\n",
       "      <td>278</td>\n",
       "      <td>956</td>\n",
       "      <td>193</td>\n",
       "      <td>17</td>\n",
       "      <td>344</td>\n",
       "      <td>768</td>\n",
       "      <td>226</td>\n",
       "      <td>390</td>\n",
       "      <td>912</td>\n",
       "      <td>223</td>\n",
       "      <td>904</td>\n",
       "      <td>270</td>\n",
       "      <td>668</td>\n",
       "      <td>619</td>\n",
       "      <td>248</td>\n",
       "      <td>-59</td>\n",
       "      <td>-18</td>\n",
       "      <td>153</td>\n",
       "      <td>73</td>\n",
       "      <td>...</td>\n",
       "      <td>328</td>\n",
       "      <td>7216</td>\n",
       "      <td>-27</td>\n",
       "      <td>333</td>\n",
       "      <td>287</td>\n",
       "      <td>-31</td>\n",
       "      <td>7490</td>\n",
       "      <td>15232</td>\n",
       "      <td>411</td>\n",
       "      <td>272</td>\n",
       "      <td>258</td>\n",
       "      <td>17542</td>\n",
       "      <td>14754</td>\n",
       "      <td>270</td>\n",
       "      <td>5700</td>\n",
       "      <td>-136</td>\n",
       "      <td>48</td>\n",
       "      <td>346</td>\n",
       "      <td>13</td>\n",
       "      <td>338</td>\n",
       "      <td>2</td>\n",
       "      <td>708</td>\n",
       "      <td>185</td>\n",
       "      <td>363</td>\n",
       "      <td>221</td>\n",
       "      <td>176</td>\n",
       "      <td>409</td>\n",
       "      <td>-262</td>\n",
       "      <td>-2333</td>\n",
       "      <td>2076</td>\n",
       "      <td>147</td>\n",
       "      <td>4254</td>\n",
       "      <td>-75</td>\n",
       "      <td>6056</td>\n",
       "      <td>-68</td>\n",
       "      <td>737</td>\n",
       "      <td>81</td>\n",
       "      <td>-4</td>\n",
       "      <td>41</td>\n",
       "      <td>-45</td>\n",
       "    </tr>\n",
       "    <tr>\n",
       "      <th>2</th>\n",
       "      <td>73</td>\n",
       "      <td>91</td>\n",
       "      <td>257</td>\n",
       "      <td>80</td>\n",
       "      <td>614</td>\n",
       "      <td>507</td>\n",
       "      <td>760</td>\n",
       "      <td>2252</td>\n",
       "      <td>196</td>\n",
       "      <td>863</td>\n",
       "      <td>-618</td>\n",
       "      <td>-596</td>\n",
       "      <td>1963</td>\n",
       "      <td>-226</td>\n",
       "      <td>-237</td>\n",
       "      <td>-133</td>\n",
       "      <td>29</td>\n",
       "      <td>116</td>\n",
       "      <td>999</td>\n",
       "      <td>861</td>\n",
       "      <td>55</td>\n",
       "      <td>539</td>\n",
       "      <td>1245</td>\n",
       "      <td>44</td>\n",
       "      <td>-2</td>\n",
       "      <td>224</td>\n",
       "      <td>597</td>\n",
       "      <td>275</td>\n",
       "      <td>1270</td>\n",
       "      <td>1976</td>\n",
       "      <td>320</td>\n",
       "      <td>1171</td>\n",
       "      <td>479</td>\n",
       "      <td>986</td>\n",
       "      <td>762</td>\n",
       "      <td>412</td>\n",
       "      <td>-65</td>\n",
       "      <td>22</td>\n",
       "      <td>424</td>\n",
       "      <td>115</td>\n",
       "      <td>...</td>\n",
       "      <td>172</td>\n",
       "      <td>5885</td>\n",
       "      <td>84</td>\n",
       "      <td>237</td>\n",
       "      <td>400</td>\n",
       "      <td>281</td>\n",
       "      <td>24760</td>\n",
       "      <td>14082</td>\n",
       "      <td>384</td>\n",
       "      <td>233</td>\n",
       "      <td>28</td>\n",
       "      <td>13338</td>\n",
       "      <td>15725</td>\n",
       "      <td>433</td>\n",
       "      <td>9175</td>\n",
       "      <td>-273</td>\n",
       "      <td>96</td>\n",
       "      <td>335</td>\n",
       "      <td>-31</td>\n",
       "      <td>318</td>\n",
       "      <td>35</td>\n",
       "      <td>453</td>\n",
       "      <td>112</td>\n",
       "      <td>263</td>\n",
       "      <td>266</td>\n",
       "      <td>299</td>\n",
       "      <td>630</td>\n",
       "      <td>-399</td>\n",
       "      <td>-2024</td>\n",
       "      <td>1468</td>\n",
       "      <td>169</td>\n",
       "      <td>1934</td>\n",
       "      <td>-129</td>\n",
       "      <td>2901</td>\n",
       "      <td>-9</td>\n",
       "      <td>946</td>\n",
       "      <td>450</td>\n",
       "      <td>38</td>\n",
       "      <td>164</td>\n",
       "      <td>-62</td>\n",
       "    </tr>\n",
       "    <tr>\n",
       "      <th>3</th>\n",
       "      <td>267</td>\n",
       "      <td>41</td>\n",
       "      <td>202</td>\n",
       "      <td>138</td>\n",
       "      <td>198</td>\n",
       "      <td>355</td>\n",
       "      <td>245</td>\n",
       "      <td>1469</td>\n",
       "      <td>170</td>\n",
       "      <td>384</td>\n",
       "      <td>-698</td>\n",
       "      <td>-31</td>\n",
       "      <td>1150</td>\n",
       "      <td>202</td>\n",
       "      <td>-541</td>\n",
       "      <td>162</td>\n",
       "      <td>-55</td>\n",
       "      <td>113</td>\n",
       "      <td>549</td>\n",
       "      <td>434</td>\n",
       "      <td>-51</td>\n",
       "      <td>418</td>\n",
       "      <td>900</td>\n",
       "      <td>47</td>\n",
       "      <td>15</td>\n",
       "      <td>226</td>\n",
       "      <td>430</td>\n",
       "      <td>89</td>\n",
       "      <td>476</td>\n",
       "      <td>1164</td>\n",
       "      <td>192</td>\n",
       "      <td>517</td>\n",
       "      <td>287</td>\n",
       "      <td>634</td>\n",
       "      <td>674</td>\n",
       "      <td>404</td>\n",
       "      <td>-122</td>\n",
       "      <td>21</td>\n",
       "      <td>154</td>\n",
       "      <td>174</td>\n",
       "      <td>...</td>\n",
       "      <td>224</td>\n",
       "      <td>2606</td>\n",
       "      <td>59</td>\n",
       "      <td>196</td>\n",
       "      <td>188</td>\n",
       "      <td>61</td>\n",
       "      <td>18747</td>\n",
       "      <td>17627</td>\n",
       "      <td>347</td>\n",
       "      <td>206</td>\n",
       "      <td>67</td>\n",
       "      <td>16591</td>\n",
       "      <td>9551</td>\n",
       "      <td>160</td>\n",
       "      <td>8049</td>\n",
       "      <td>-214</td>\n",
       "      <td>33</td>\n",
       "      <td>269</td>\n",
       "      <td>-23</td>\n",
       "      <td>224</td>\n",
       "      <td>1</td>\n",
       "      <td>335</td>\n",
       "      <td>-85</td>\n",
       "      <td>93</td>\n",
       "      <td>126</td>\n",
       "      <td>63</td>\n",
       "      <td>166</td>\n",
       "      <td>-99</td>\n",
       "      <td>-626</td>\n",
       "      <td>910</td>\n",
       "      <td>13</td>\n",
       "      <td>2469</td>\n",
       "      <td>93</td>\n",
       "      <td>2465</td>\n",
       "      <td>-119</td>\n",
       "      <td>339</td>\n",
       "      <td>321</td>\n",
       "      <td>-63</td>\n",
       "      <td>73</td>\n",
       "      <td>-13</td>\n",
       "    </tr>\n",
       "    <tr>\n",
       "      <th>4</th>\n",
       "      <td>16</td>\n",
       "      <td>24</td>\n",
       "      <td>187</td>\n",
       "      <td>39</td>\n",
       "      <td>145</td>\n",
       "      <td>254</td>\n",
       "      <td>571</td>\n",
       "      <td>930</td>\n",
       "      <td>-11</td>\n",
       "      <td>439</td>\n",
       "      <td>-665</td>\n",
       "      <td>-306</td>\n",
       "      <td>1460</td>\n",
       "      <td>117</td>\n",
       "      <td>-679</td>\n",
       "      <td>-61</td>\n",
       "      <td>-82</td>\n",
       "      <td>110</td>\n",
       "      <td>838</td>\n",
       "      <td>651</td>\n",
       "      <td>-74</td>\n",
       "      <td>201</td>\n",
       "      <td>454</td>\n",
       "      <td>0</td>\n",
       "      <td>-37</td>\n",
       "      <td>698</td>\n",
       "      <td>390</td>\n",
       "      <td>-17</td>\n",
       "      <td>461</td>\n",
       "      <td>815</td>\n",
       "      <td>342</td>\n",
       "      <td>444</td>\n",
       "      <td>345</td>\n",
       "      <td>648</td>\n",
       "      <td>587</td>\n",
       "      <td>198</td>\n",
       "      <td>-102</td>\n",
       "      <td>6</td>\n",
       "      <td>269</td>\n",
       "      <td>151</td>\n",
       "      <td>...</td>\n",
       "      <td>206</td>\n",
       "      <td>1408</td>\n",
       "      <td>-1</td>\n",
       "      <td>226</td>\n",
       "      <td>226</td>\n",
       "      <td>402</td>\n",
       "      <td>7871</td>\n",
       "      <td>14335</td>\n",
       "      <td>727</td>\n",
       "      <td>203</td>\n",
       "      <td>66</td>\n",
       "      <td>12369</td>\n",
       "      <td>5489</td>\n",
       "      <td>307</td>\n",
       "      <td>7405</td>\n",
       "      <td>-134</td>\n",
       "      <td>177</td>\n",
       "      <td>335</td>\n",
       "      <td>-8</td>\n",
       "      <td>248</td>\n",
       "      <td>24</td>\n",
       "      <td>170</td>\n",
       "      <td>-24</td>\n",
       "      <td>146</td>\n",
       "      <td>370</td>\n",
       "      <td>188</td>\n",
       "      <td>822</td>\n",
       "      <td>-29</td>\n",
       "      <td>-2380</td>\n",
       "      <td>350</td>\n",
       "      <td>69</td>\n",
       "      <td>608</td>\n",
       "      <td>-39</td>\n",
       "      <td>1667</td>\n",
       "      <td>-87</td>\n",
       "      <td>721</td>\n",
       "      <td>213</td>\n",
       "      <td>15</td>\n",
       "      <td>155</td>\n",
       "      <td>-26</td>\n",
       "    </tr>\n",
       "  </tbody>\n",
       "</table>\n",
       "<p>5 rows × 7070 columns</p>\n",
       "</div>"
      ],
      "text/plain": [
       "   A28102  AB000114_at  AB000115_at  ...  L49218_f_at  M71243_f_at  Z78285_f_at\n",
       "0      -1          -45          176  ...            3           76          -28\n",
       "1      25          -17          531  ...           -4           41          -45\n",
       "2      73           91          257  ...           38          164          -62\n",
       "3     267           41          202  ...          -63           73          -13\n",
       "4      16           24          187  ...           15          155          -26\n",
       "\n",
       "[5 rows x 7070 columns]"
      ]
     },
     "execution_count": 9,
     "metadata": {
      "tags": []
     },
     "output_type": "execute_result"
    }
   ],
   "source": [
    "data_new = data.drop(columns = \"Type\", axis = 1, inplace = False)\n",
    "\n",
    "data_new.head()"
   ]
  },
  {
   "cell_type": "code",
   "execution_count": 10,
   "id": "ewppbO0ZpeCN",
   "metadata": {
    "colab": {
     "base_uri": "https://localhost:8080/"
    },
    "id": "ewppbO0ZpeCN",
    "outputId": "3044b91f-7b52-4755-cb6d-c1ed4ccb8985"
   },
   "outputs": [
    {
     "data": {
      "text/plain": [
       "Type                100.000000\n",
       "X16983_at            58.751652\n",
       "AB002409_at          57.546523\n",
       "Z21966_at            54.472874\n",
       "D87119_at            52.681907\n",
       "Z11793_at            51.674322\n",
       "U46006_s_at          50.845247\n",
       "L27071_at            49.538533\n",
       "L42324_at            49.420966\n",
       "U56102_at            48.766805\n",
       "HG3928-HT4198_at     48.301638\n",
       "M59829_at            48.083571\n",
       "M37815_cds1_at       47.874228\n",
       "S73591_at            47.655593\n",
       "L19314_at            46.522513\n",
       "U61262_at            46.441291\n",
       "X86098_at            46.298243\n",
       "M63379_at            46.107133\n",
       "Z30426_at            46.104760\n",
       "X85785_rna1_at       46.023899\n",
       "Z35227_at            45.975976\n",
       "Name: Type, dtype: float64"
      ]
     },
     "execution_count": 10,
     "metadata": {
      "tags": []
     },
     "output_type": "execute_result"
    }
   ],
   "source": [
    "corr_matrix = data.corr()\n",
    "corr = corr_matrix['Type'].sort_values(ascending=False)[:21]\n",
    "corr = corr * 100\n",
    "corr"
   ]
  },
  {
   "cell_type": "code",
   "execution_count": 11,
   "id": "x_yONNoPpv20",
   "metadata": {
    "colab": {
     "base_uri": "https://localhost:8080/",
     "height": 370
    },
    "id": "x_yONNoPpv20",
    "outputId": "523f9607-d68b-4d84-e10d-4a878a93e4f3"
   },
   "outputs": [
    {
     "data": {
      "text/plain": [
       "<matplotlib.axes._subplots.AxesSubplot at 0x7f2d745150d0>"
      ]
     },
     "execution_count": 11,
     "metadata": {
      "tags": []
     },
     "output_type": "execute_result"
    },
    {
     "data": {
      "image/png": "[encoded data removed]",
      "text/plain": [
       "<Figure size 432x288 with 1 Axes>"
      ]
     },
     "metadata": {
      "needs_background": "light",
      "tags": []
     },
     "output_type": "display_data"
    }
   ],
   "source": [
    "corr.plot(kind = 'bar')"
   ]
  },
  {
   "cell_type": "code",
   "execution_count": 12,
   "id": "rL1CRjjNqAZj",
   "metadata": {
    "colab": {
     "base_uri": "https://localhost:8080/",
     "height": 241
    },
    "id": "rL1CRjjNqAZj",
    "outputId": "d2070e9f-16e1-45ef-b398-bb8ae030ef73"
   },
   "outputs": [
    {
     "data": {
      "text/html": [
       "<div>\n",
       "<style scoped>\n",
       "    .dataframe tbody tr th:only-of-type {\n",
       "        vertical-align: middle;\n",
       "    }\n",
       "\n",
       "    .dataframe tbody tr th {\n",
       "        vertical-align: top;\n",
       "    }\n",
       "\n",
       "    .dataframe thead th {\n",
       "        text-align: right;\n",
       "    }\n",
       "</style>\n",
       "<table border=\"1\" class=\"dataframe\">\n",
       "  <thead>\n",
       "    <tr style=\"text-align: right;\">\n",
       "      <th></th>\n",
       "      <th>Type</th>\n",
       "      <th>X16983_at</th>\n",
       "      <th>X02152_at</th>\n",
       "      <th>M94880_f_at</th>\n",
       "      <th>Z21966_at</th>\n",
       "      <th>J03909_at</th>\n",
       "      <th>D87119_at</th>\n",
       "      <th>HG417-HT417_s_at</th>\n",
       "      <th>M22382_at</th>\n",
       "      <th>L17131_rna1_at</th>\n",
       "      <th>L42324_at</th>\n",
       "      <th>X56494_at</th>\n",
       "      <th>M63138_at</th>\n",
       "      <th>Z11793_at</th>\n",
       "      <th>D82348_at</th>\n",
       "      <th>AB002409_at</th>\n",
       "      <th>HG1980-HT2023_at</th>\n",
       "      <th>M14328_s_at</th>\n",
       "      <th>J04173_at</th>\n",
       "      <th>X03689_s_at</th>\n",
       "      <th>D78134_at</th>\n",
       "    </tr>\n",
       "  </thead>\n",
       "  <tbody>\n",
       "    <tr>\n",
       "      <th>0</th>\n",
       "      <td>0</td>\n",
       "      <td>42</td>\n",
       "      <td>14742</td>\n",
       "      <td>8233</td>\n",
       "      <td>156</td>\n",
       "      <td>6921</td>\n",
       "      <td>318</td>\n",
       "      <td>7502</td>\n",
       "      <td>5161</td>\n",
       "      <td>4413</td>\n",
       "      <td>622</td>\n",
       "      <td>7578</td>\n",
       "      <td>5011</td>\n",
       "      <td>241</td>\n",
       "      <td>1494</td>\n",
       "      <td>-6</td>\n",
       "      <td>4351</td>\n",
       "      <td>12813</td>\n",
       "      <td>8286</td>\n",
       "      <td>22040</td>\n",
       "      <td>2072</td>\n",
       "    </tr>\n",
       "    <tr>\n",
       "      <th>1</th>\n",
       "      <td>0</td>\n",
       "      <td>12</td>\n",
       "      <td>12641</td>\n",
       "      <td>14754</td>\n",
       "      <td>-12</td>\n",
       "      <td>10405</td>\n",
       "      <td>1071</td>\n",
       "      <td>16768</td>\n",
       "      <td>5962</td>\n",
       "      <td>10383</td>\n",
       "      <td>551</td>\n",
       "      <td>11102</td>\n",
       "      <td>13372</td>\n",
       "      <td>1861</td>\n",
       "      <td>3449</td>\n",
       "      <td>226</td>\n",
       "      <td>8607</td>\n",
       "      <td>13190</td>\n",
       "      <td>6669</td>\n",
       "      <td>506</td>\n",
       "      <td>3468</td>\n",
       "    </tr>\n",
       "    <tr>\n",
       "      <th>2</th>\n",
       "      <td>0</td>\n",
       "      <td>30</td>\n",
       "      <td>12730</td>\n",
       "      <td>15725</td>\n",
       "      <td>-48</td>\n",
       "      <td>8512</td>\n",
       "      <td>1013</td>\n",
       "      <td>19206</td>\n",
       "      <td>8218</td>\n",
       "      <td>9152</td>\n",
       "      <td>1434</td>\n",
       "      <td>11284</td>\n",
       "      <td>11535</td>\n",
       "      <td>690</td>\n",
       "      <td>3889</td>\n",
       "      <td>275</td>\n",
       "      <td>11118</td>\n",
       "      <td>13540</td>\n",
       "      <td>7782</td>\n",
       "      <td>12267</td>\n",
       "      <td>3177</td>\n",
       "    </tr>\n",
       "    <tr>\n",
       "      <th>3</th>\n",
       "      <td>0</td>\n",
       "      <td>-43</td>\n",
       "      <td>9872</td>\n",
       "      <td>9551</td>\n",
       "      <td>-73</td>\n",
       "      <td>10594</td>\n",
       "      <td>922</td>\n",
       "      <td>10944</td>\n",
       "      <td>6911</td>\n",
       "      <td>3800</td>\n",
       "      <td>311</td>\n",
       "      <td>9979</td>\n",
       "      <td>10640</td>\n",
       "      <td>825</td>\n",
       "      <td>3380</td>\n",
       "      <td>89</td>\n",
       "      <td>9791</td>\n",
       "      <td>17157</td>\n",
       "      <td>9196</td>\n",
       "      <td>3392</td>\n",
       "      <td>1674</td>\n",
       "    </tr>\n",
       "    <tr>\n",
       "      <th>4</th>\n",
       "      <td>0</td>\n",
       "      <td>80</td>\n",
       "      <td>18742</td>\n",
       "      <td>5489</td>\n",
       "      <td>-82</td>\n",
       "      <td>824</td>\n",
       "      <td>692</td>\n",
       "      <td>7238</td>\n",
       "      <td>16467</td>\n",
       "      <td>3905</td>\n",
       "      <td>581</td>\n",
       "      <td>4553</td>\n",
       "      <td>2654</td>\n",
       "      <td>259</td>\n",
       "      <td>3890</td>\n",
       "      <td>-17</td>\n",
       "      <td>6162</td>\n",
       "      <td>12063</td>\n",
       "      <td>9711</td>\n",
       "      <td>6962</td>\n",
       "      <td>1180</td>\n",
       "    </tr>\n",
       "  </tbody>\n",
       "</table>\n",
       "</div>"
      ],
      "text/plain": [
       "   Type  X16983_at  X02152_at  ...  J04173_at  X03689_s_at  D78134_at\n",
       "0     0         42      14742  ...       8286        22040       2072\n",
       "1     0         12      12641  ...       6669          506       3468\n",
       "2     0         30      12730  ...       7782        12267       3177\n",
       "3     0        -43       9872  ...       9196         3392       1674\n",
       "4     0         80      18742  ...       9711         6962       1180\n",
       "\n",
       "[5 rows x 21 columns]"
      ]
     },
     "execution_count": 12,
     "metadata": {
      "tags": []
     },
     "output_type": "execute_result"
    }
   ],
   "source": [
    "# feature selection as mentioned in the research paper (top 100 radviz visualizations with 8 attributes)\n",
    "\n",
    "# list_gene = list(corr.index)\n",
    "\n",
    "list_gene = ['Type',\n",
    "'X16983_at',\n",
    "'X02152_at',\n",
    "'M94880_f_at',\n",
    "'Z21966_at',\n",
    "'J03909_at',\n",
    "'D87119_at',\n",
    "'HG417-HT417_s_at',\n",
    "'M22382_at',\n",
    "'L17131_rna1_at',\n",
    "'L42324_at',\n",
    "'X56494_at',\n",
    "'M63138_at',\n",
    "'Z11793_at',\n",
    "'D82348_at',\n",
    "'AB002409_at',\n",
    "'HG1980-HT2023_at',\n",
    "'M14328_s_at',\n",
    "'J04173_at',\n",
    "'X03689_s_at',\n",
    "'D78134_at']\n",
    "\n",
    "\n",
    "data_new = data[list_gene]\n",
    "\n",
    "data_new.head()"
   ]
  },
  {
   "cell_type": "code",
   "execution_count": 13,
   "id": "WQfP6JXrqwkv",
   "metadata": {
    "colab": {
     "base_uri": "https://localhost:8080/"
    },
    "id": "WQfP6JXrqwkv",
    "outputId": "13cadb94-e503-402f-8878-c3feb586c9b1"
   },
   "outputs": [
    {
     "data": {
      "text/plain": [
       "(77, 21)"
      ]
     },
     "execution_count": 13,
     "metadata": {
      "tags": []
     },
     "output_type": "execute_result"
    }
   ],
   "source": [
    "data_new.shape"
   ]
  },
  {
   "cell_type": "code",
   "execution_count": 14,
   "id": "KtCs5lHMuO85",
   "metadata": {
    "colab": {
     "base_uri": "https://localhost:8080/",
     "height": 683
    },
    "id": "KtCs5lHMuO85",
    "outputId": "8865c3b8-e74d-4c6a-a396-c986b1762dc7"
   },
   "outputs": [
    {
     "data": {
      "image/png": "[encoded data removed]",
      "text/plain": [
       "<Figure size 864x720 with 2 Axes>"
      ]
     },
     "metadata": {
      "needs_background": "light",
      "tags": []
     },
     "output_type": "display_data"
    }
   ],
   "source": [
    "# Correlation plotting of the 20 highest attributes using Pearson Correlation\n",
    "import seaborn as sns\n",
    "import matplotlib.pyplot as plt\n",
    "%matplotlib inline\n",
    "\n",
    "plt.figure(figsize=(12,10))\n",
    "cor = data_new.drop(\"Type\", axis = 1).corr()\n",
    "sns.heatmap(cor, annot=True, cmap=plt.cm.CMRmap_r)\n",
    "plt.show()"
   ]
  },
  {
   "cell_type": "markdown",
   "id": "d046790a",
   "metadata": {
    "id": "d046790a"
   },
   "source": [
    "# CASE 1: Using 50% of the dataset as training set and 50% of the dataset as test set."
   ]
  },
  {
   "cell_type": "markdown",
   "id": "e6555d73",
   "metadata": {
    "id": "e6555d73"
   },
   "source": [
    "# 1.0.Train-Test Split (50:50)"
   ]
  },
  {
   "cell_type": "code",
   "execution_count": 15,
   "id": "63a8eb2b",
   "metadata": {
    "id": "63a8eb2b"
   },
   "outputs": [],
   "source": [
    "from sklearn.model_selection import train_test_split\n",
    "train_set_1, test_set_1 = train_test_split(data_new, train_size = 0.51, random_state = 42)"
   ]
  },
  {
   "cell_type": "code",
   "execution_count": 16,
   "id": "43eb405f",
   "metadata": {
    "colab": {
     "base_uri": "https://localhost:8080/"
    },
    "id": "43eb405f",
    "outputId": "8672b5f4-8c0e-4c9a-8f03-87b57dff23b7"
   },
   "outputs": [
    {
     "name": "stdout",
     "output_type": "stream",
     "text": [
      "Rows in train set: 39\n",
      "Rows in test set: 38\n"
     ]
    }
   ],
   "source": [
    "print(f\"Rows in train set: {len(train_set_1)}\\nRows in test set: {len(test_set_1)}\")"
   ]
  },
  {
   "cell_type": "code",
   "execution_count": 17,
   "id": "bf120a71",
   "metadata": {
    "colab": {
     "base_uri": "https://localhost:8080/",
     "height": 0
    },
    "id": "bf120a71",
    "outputId": "856e4dc6-2efc-4248-f186-8ca3267cd506"
   },
   "outputs": [
    {
     "data": {
      "text/html": [
       "<div>\n",
       "<style scoped>\n",
       "    .dataframe tbody tr th:only-of-type {\n",
       "        vertical-align: middle;\n",
       "    }\n",
       "\n",
       "    .dataframe tbody tr th {\n",
       "        vertical-align: top;\n",
       "    }\n",
       "\n",
       "    .dataframe thead th {\n",
       "        text-align: right;\n",
       "    }\n",
       "</style>\n",
       "<table border=\"1\" class=\"dataframe\">\n",
       "  <thead>\n",
       "    <tr style=\"text-align: right;\">\n",
       "      <th></th>\n",
       "      <th>Type</th>\n",
       "      <th>X16983_at</th>\n",
       "      <th>X02152_at</th>\n",
       "      <th>M94880_f_at</th>\n",
       "      <th>Z21966_at</th>\n",
       "      <th>J03909_at</th>\n",
       "      <th>D87119_at</th>\n",
       "      <th>HG417-HT417_s_at</th>\n",
       "      <th>M22382_at</th>\n",
       "      <th>L17131_rna1_at</th>\n",
       "      <th>L42324_at</th>\n",
       "      <th>X56494_at</th>\n",
       "      <th>M63138_at</th>\n",
       "      <th>Z11793_at</th>\n",
       "      <th>D82348_at</th>\n",
       "      <th>AB002409_at</th>\n",
       "      <th>HG1980-HT2023_at</th>\n",
       "      <th>M14328_s_at</th>\n",
       "      <th>J04173_at</th>\n",
       "      <th>X03689_s_at</th>\n",
       "      <th>D78134_at</th>\n",
       "    </tr>\n",
       "  </thead>\n",
       "  <tbody>\n",
       "    <tr>\n",
       "      <th>55</th>\n",
       "      <td>0</td>\n",
       "      <td>33</td>\n",
       "      <td>4228</td>\n",
       "      <td>9733</td>\n",
       "      <td>67</td>\n",
       "      <td>2035</td>\n",
       "      <td>475</td>\n",
       "      <td>4621</td>\n",
       "      <td>2510</td>\n",
       "      <td>3650</td>\n",
       "      <td>426</td>\n",
       "      <td>2175</td>\n",
       "      <td>1955</td>\n",
       "      <td>1307</td>\n",
       "      <td>636</td>\n",
       "      <td>557</td>\n",
       "      <td>2248</td>\n",
       "      <td>2517</td>\n",
       "      <td>3800</td>\n",
       "      <td>22224</td>\n",
       "      <td>1233</td>\n",
       "    </tr>\n",
       "    <tr>\n",
       "      <th>3</th>\n",
       "      <td>0</td>\n",
       "      <td>-43</td>\n",
       "      <td>9872</td>\n",
       "      <td>9551</td>\n",
       "      <td>-73</td>\n",
       "      <td>10594</td>\n",
       "      <td>922</td>\n",
       "      <td>10944</td>\n",
       "      <td>6911</td>\n",
       "      <td>3800</td>\n",
       "      <td>311</td>\n",
       "      <td>9979</td>\n",
       "      <td>10640</td>\n",
       "      <td>825</td>\n",
       "      <td>3380</td>\n",
       "      <td>89</td>\n",
       "      <td>9791</td>\n",
       "      <td>17157</td>\n",
       "      <td>9196</td>\n",
       "      <td>3392</td>\n",
       "      <td>1674</td>\n",
       "    </tr>\n",
       "    <tr>\n",
       "      <th>17</th>\n",
       "      <td>0</td>\n",
       "      <td>36</td>\n",
       "      <td>14990</td>\n",
       "      <td>10862</td>\n",
       "      <td>211</td>\n",
       "      <td>5793</td>\n",
       "      <td>177</td>\n",
       "      <td>7341</td>\n",
       "      <td>10672</td>\n",
       "      <td>5526</td>\n",
       "      <td>1827</td>\n",
       "      <td>10938</td>\n",
       "      <td>3836</td>\n",
       "      <td>523</td>\n",
       "      <td>2973</td>\n",
       "      <td>301</td>\n",
       "      <td>4223</td>\n",
       "      <td>9469</td>\n",
       "      <td>9195</td>\n",
       "      <td>23295</td>\n",
       "      <td>1503</td>\n",
       "    </tr>\n",
       "    <tr>\n",
       "      <th>38</th>\n",
       "      <td>0</td>\n",
       "      <td>-61</td>\n",
       "      <td>3713</td>\n",
       "      <td>10249</td>\n",
       "      <td>-293</td>\n",
       "      <td>9215</td>\n",
       "      <td>858</td>\n",
       "      <td>13423</td>\n",
       "      <td>2619</td>\n",
       "      <td>3361</td>\n",
       "      <td>416</td>\n",
       "      <td>6623</td>\n",
       "      <td>11055</td>\n",
       "      <td>349</td>\n",
       "      <td>1615</td>\n",
       "      <td>896</td>\n",
       "      <td>3820</td>\n",
       "      <td>8849</td>\n",
       "      <td>3401</td>\n",
       "      <td>861</td>\n",
       "      <td>2304</td>\n",
       "    </tr>\n",
       "    <tr>\n",
       "      <th>8</th>\n",
       "      <td>0</td>\n",
       "      <td>24</td>\n",
       "      <td>9841</td>\n",
       "      <td>5392</td>\n",
       "      <td>181</td>\n",
       "      <td>4577</td>\n",
       "      <td>228</td>\n",
       "      <td>6111</td>\n",
       "      <td>10971</td>\n",
       "      <td>10917</td>\n",
       "      <td>389</td>\n",
       "      <td>7082</td>\n",
       "      <td>6837</td>\n",
       "      <td>449</td>\n",
       "      <td>7795</td>\n",
       "      <td>426</td>\n",
       "      <td>13893</td>\n",
       "      <td>12390</td>\n",
       "      <td>11000</td>\n",
       "      <td>-482</td>\n",
       "      <td>4040</td>\n",
       "    </tr>\n",
       "  </tbody>\n",
       "</table>\n",
       "</div>"
      ],
      "text/plain": [
       "    Type  X16983_at  X02152_at  ...  J04173_at  X03689_s_at  D78134_at\n",
       "55     0         33       4228  ...       3800        22224       1233\n",
       "3      0        -43       9872  ...       9196         3392       1674\n",
       "17     0         36      14990  ...       9195        23295       1503\n",
       "38     0        -61       3713  ...       3401          861       2304\n",
       "8      0         24       9841  ...      11000         -482       4040\n",
       "\n",
       "[5 rows x 21 columns]"
      ]
     },
     "execution_count": 17,
     "metadata": {
      "tags": []
     },
     "output_type": "execute_result"
    }
   ],
   "source": [
    "train_set_1.head()"
   ]
  },
  {
   "cell_type": "code",
   "execution_count": 18,
   "id": "c9ee8051",
   "metadata": {
    "colab": {
     "base_uri": "https://localhost:8080/",
     "height": 0
    },
    "id": "c9ee8051",
    "outputId": "65c60a3a-6100-472f-e8aa-6cfe63df7c0b"
   },
   "outputs": [
    {
     "data": {
      "text/html": [
       "<div>\n",
       "<style scoped>\n",
       "    .dataframe tbody tr th:only-of-type {\n",
       "        vertical-align: middle;\n",
       "    }\n",
       "\n",
       "    .dataframe tbody tr th {\n",
       "        vertical-align: top;\n",
       "    }\n",
       "\n",
       "    .dataframe thead th {\n",
       "        text-align: right;\n",
       "    }\n",
       "</style>\n",
       "<table border=\"1\" class=\"dataframe\">\n",
       "  <thead>\n",
       "    <tr style=\"text-align: right;\">\n",
       "      <th></th>\n",
       "      <th>Type</th>\n",
       "      <th>X16983_at</th>\n",
       "      <th>X02152_at</th>\n",
       "      <th>M94880_f_at</th>\n",
       "      <th>Z21966_at</th>\n",
       "      <th>J03909_at</th>\n",
       "      <th>D87119_at</th>\n",
       "      <th>HG417-HT417_s_at</th>\n",
       "      <th>M22382_at</th>\n",
       "      <th>L17131_rna1_at</th>\n",
       "      <th>L42324_at</th>\n",
       "      <th>X56494_at</th>\n",
       "      <th>M63138_at</th>\n",
       "      <th>Z11793_at</th>\n",
       "      <th>D82348_at</th>\n",
       "      <th>AB002409_at</th>\n",
       "      <th>HG1980-HT2023_at</th>\n",
       "      <th>M14328_s_at</th>\n",
       "      <th>J04173_at</th>\n",
       "      <th>X03689_s_at</th>\n",
       "      <th>D78134_at</th>\n",
       "    </tr>\n",
       "  </thead>\n",
       "  <tbody>\n",
       "    <tr>\n",
       "      <th>4</th>\n",
       "      <td>0</td>\n",
       "      <td>80</td>\n",
       "      <td>18742</td>\n",
       "      <td>5489</td>\n",
       "      <td>-82</td>\n",
       "      <td>824</td>\n",
       "      <td>692</td>\n",
       "      <td>7238</td>\n",
       "      <td>16467</td>\n",
       "      <td>3905</td>\n",
       "      <td>581</td>\n",
       "      <td>4553</td>\n",
       "      <td>2654</td>\n",
       "      <td>259</td>\n",
       "      <td>3890</td>\n",
       "      <td>-17</td>\n",
       "      <td>6162</td>\n",
       "      <td>12063</td>\n",
       "      <td>9711</td>\n",
       "      <td>6962</td>\n",
       "      <td>1180</td>\n",
       "    </tr>\n",
       "    <tr>\n",
       "      <th>35</th>\n",
       "      <td>0</td>\n",
       "      <td>113</td>\n",
       "      <td>7207</td>\n",
       "      <td>20028</td>\n",
       "      <td>81</td>\n",
       "      <td>11354</td>\n",
       "      <td>802</td>\n",
       "      <td>20974</td>\n",
       "      <td>4598</td>\n",
       "      <td>4008</td>\n",
       "      <td>728</td>\n",
       "      <td>6341</td>\n",
       "      <td>15733</td>\n",
       "      <td>1972</td>\n",
       "      <td>1437</td>\n",
       "      <td>3966</td>\n",
       "      <td>3193</td>\n",
       "      <td>13687</td>\n",
       "      <td>5876</td>\n",
       "      <td>21195</td>\n",
       "      <td>3751</td>\n",
       "    </tr>\n",
       "    <tr>\n",
       "      <th>10</th>\n",
       "      <td>0</td>\n",
       "      <td>3</td>\n",
       "      <td>6672</td>\n",
       "      <td>2532</td>\n",
       "      <td>-95</td>\n",
       "      <td>1340</td>\n",
       "      <td>258</td>\n",
       "      <td>2516</td>\n",
       "      <td>10123</td>\n",
       "      <td>10767</td>\n",
       "      <td>792</td>\n",
       "      <td>9058</td>\n",
       "      <td>6016</td>\n",
       "      <td>278</td>\n",
       "      <td>5578</td>\n",
       "      <td>199</td>\n",
       "      <td>11882</td>\n",
       "      <td>13887</td>\n",
       "      <td>6986</td>\n",
       "      <td>4657</td>\n",
       "      <td>3410</td>\n",
       "    </tr>\n",
       "    <tr>\n",
       "      <th>0</th>\n",
       "      <td>0</td>\n",
       "      <td>42</td>\n",
       "      <td>14742</td>\n",
       "      <td>8233</td>\n",
       "      <td>156</td>\n",
       "      <td>6921</td>\n",
       "      <td>318</td>\n",
       "      <td>7502</td>\n",
       "      <td>5161</td>\n",
       "      <td>4413</td>\n",
       "      <td>622</td>\n",
       "      <td>7578</td>\n",
       "      <td>5011</td>\n",
       "      <td>241</td>\n",
       "      <td>1494</td>\n",
       "      <td>-6</td>\n",
       "      <td>4351</td>\n",
       "      <td>12813</td>\n",
       "      <td>8286</td>\n",
       "      <td>22040</td>\n",
       "      <td>2072</td>\n",
       "    </tr>\n",
       "    <tr>\n",
       "      <th>45</th>\n",
       "      <td>0</td>\n",
       "      <td>330</td>\n",
       "      <td>19547</td>\n",
       "      <td>15254</td>\n",
       "      <td>-37</td>\n",
       "      <td>10261</td>\n",
       "      <td>3355</td>\n",
       "      <td>14348</td>\n",
       "      <td>12552</td>\n",
       "      <td>10482</td>\n",
       "      <td>2566</td>\n",
       "      <td>13529</td>\n",
       "      <td>5137</td>\n",
       "      <td>3811</td>\n",
       "      <td>3322</td>\n",
       "      <td>3150</td>\n",
       "      <td>10605</td>\n",
       "      <td>14153</td>\n",
       "      <td>14080</td>\n",
       "      <td>23908</td>\n",
       "      <td>5293</td>\n",
       "    </tr>\n",
       "  </tbody>\n",
       "</table>\n",
       "</div>"
      ],
      "text/plain": [
       "    Type  X16983_at  X02152_at  ...  J04173_at  X03689_s_at  D78134_at\n",
       "4      0         80      18742  ...       9711         6962       1180\n",
       "35     0        113       7207  ...       5876        21195       3751\n",
       "10     0          3       6672  ...       6986         4657       3410\n",
       "0      0         42      14742  ...       8286        22040       2072\n",
       "45     0        330      19547  ...      14080        23908       5293\n",
       "\n",
       "[5 rows x 21 columns]"
      ]
     },
     "execution_count": 18,
     "metadata": {
      "tags": []
     },
     "output_type": "execute_result"
    }
   ],
   "source": [
    "test_set_1.head()"
   ]
  },
  {
   "cell_type": "code",
   "execution_count": 19,
   "id": "b99f301b",
   "metadata": {
    "id": "b99f301b"
   },
   "outputs": [],
   "source": [
    "X_train_1 = train_set_1.drop(\"Type\", axis = 1)\n",
    "y_train_1 = train_set_1[\"Type\"]\n",
    "X_test_1 = test_set_1.drop(\"Type\", axis = 1)\n",
    "y_test_1 = test_set_1[\"Type\"]"
   ]
  },
  {
   "cell_type": "markdown",
   "id": "b8c9fb38",
   "metadata": {
    "id": "b8c9fb38"
   },
   "source": [
    "# 1.1.Confusion Matrix Heatmap of perfect predictions"
   ]
  },
  {
   "cell_type": "code",
   "execution_count": 20,
   "id": "qWyAvkyVw9EY",
   "metadata": {
    "id": "qWyAvkyVw9EY"
   },
   "outputs": [],
   "source": [
    "labels = [\"DLBCL\", \"FL\"]"
   ]
  },
  {
   "cell_type": "code",
   "execution_count": 21,
   "id": "7bd2602b",
   "metadata": {
    "colab": {
     "base_uri": "https://localhost:8080/",
     "height": 0
    },
    "id": "7bd2602b",
    "outputId": "1074821a-3608-4d00-989d-ea8e22d97e95"
   },
   "outputs": [
    {
     "data": {
      "text/plain": [
       "[Text(0, 0.5, 'DLBCL'), Text(0, 1.5, 'FL')]"
      ]
     },
     "execution_count": 21,
     "metadata": {
      "tags": []
     },
     "output_type": "execute_result"
    },
    {
     "data": {
      "image/png": "[encoded data removed]",
      "text/plain": [
       "<Figure size 432x288 with 2 Axes>"
      ]
     },
     "metadata": {
      "needs_background": "light",
      "tags": []
     },
     "output_type": "display_data"
    }
   ],
   "source": [
    "import seaborn as sns\n",
    "from sklearn.metrics import accuracy_score, precision_score, recall_score, f1_score, confusion_matrix, classification_report\n",
    "\n",
    "ax = plt.subplot()\n",
    "sns.heatmap(confusion_matrix(y_test_1, y_test_1), ax = ax, annot = True)\n",
    "ax.set_xlabel('Predicted labels')\n",
    "ax.set_ylabel('True labels') \n",
    "ax.set_title('Perfect Confusion Matrix') \n",
    "ax.xaxis.set_ticklabels(labels) \n",
    "ax.yaxis.set_ticklabels(labels, rotation=360)"
   ]
  },
  {
   "cell_type": "code",
   "execution_count": 22,
   "id": "24a4abf2",
   "metadata": {
    "id": "24a4abf2"
   },
   "outputs": [],
   "source": [
    "%matplotlib inline\n",
    "import matplotlib.pyplot as plt\n",
    "from sklearn.metrics import precision_recall_curve"
   ]
  },
  {
   "cell_type": "markdown",
   "id": "8882547f",
   "metadata": {
    "id": "8882547f"
   },
   "source": [
    "# 1.2.Using Logistic Regression model"
   ]
  },
  {
   "cell_type": "code",
   "execution_count": 23,
   "id": "ebaa624a",
   "metadata": {
    "colab": {
     "base_uri": "https://localhost:8080/"
    },
    "id": "ebaa624a",
    "outputId": "af2a3245-b2e5-4a13-cef5-94a60b763bb5"
   },
   "outputs": [
    {
     "data": {
      "text/plain": [
       "LogisticRegression(C=1.0, class_weight=None, dual=False, fit_intercept=True,\n",
       "                   intercept_scaling=1, l1_ratio=None, max_iter=400,\n",
       "                   multi_class='auto', n_jobs=None, penalty='l2',\n",
       "                   random_state=None, solver='lbfgs', tol=0.0001, verbose=0,\n",
       "                   warm_start=False)"
      ]
     },
     "execution_count": 23,
     "metadata": {
      "tags": []
     },
     "output_type": "execute_result"
    }
   ],
   "source": [
    "from sklearn.linear_model import LogisticRegression\n",
    "model_1 = LogisticRegression(solver='lbfgs', max_iter=400)\n",
    "model_1.fit(X_train_1, y_train_1)"
   ]
  },
  {
   "cell_type": "code",
   "execution_count": 24,
   "id": "e2e18e6e",
   "metadata": {
    "id": "e2e18e6e"
   },
   "outputs": [],
   "source": [
    "lr_score_1 = model_1.score(X_train_1, y_train_1)"
   ]
  },
  {
   "cell_type": "code",
   "execution_count": 25,
   "id": "2cc8f671",
   "metadata": {
    "colab": {
     "base_uri": "https://localhost:8080/"
    },
    "id": "2cc8f671",
    "outputId": "199db610-7004-416d-cd6b-8f2f0416465b"
   },
   "outputs": [
    {
     "name": "stdout",
     "output_type": "stream",
     "text": [
      "Score: 100.0%\n"
     ]
    }
   ],
   "source": [
    "print(f\"Score: {round((lr_score_1*100), 2)}%\")"
   ]
  },
  {
   "cell_type": "code",
   "execution_count": 26,
   "id": "a17467f2",
   "metadata": {
    "id": "a17467f2"
   },
   "outputs": [],
   "source": [
    "y_test_pred_1 = model_1.predict(X_test_1)"
   ]
  },
  {
   "cell_type": "markdown",
   "id": "f58e1152",
   "metadata": {
    "id": "f58e1152"
   },
   "source": [
    "## 1.2.1.Accuracy, Precision_score, Recall_score, F1_score of the Logistic Regressor"
   ]
  },
  {
   "cell_type": "code",
   "execution_count": 27,
   "id": "11ec539b",
   "metadata": {
    "colab": {
     "base_uri": "https://localhost:8080/"
    },
    "id": "11ec539b",
    "outputId": "0f5d0c41-77d4-400e-9c45-41f1ff486026"
   },
   "outputs": [
    {
     "name": "stdout",
     "output_type": "stream",
     "text": [
      "Accuracy: 92.11%\n",
      "Precision: 75.0%\n",
      "Recall: 100.0%\n",
      "F1_score: 85.71%\n"
     ]
    }
   ],
   "source": [
    "print(f\"Accuracy: {round((accuracy_score(y_test_1, y_test_pred_1)*100), 2)}%\") \n",
    "print(f\"Precision: {round((precision_score(y_test_1, y_test_pred_1)*100), 2)}%\")\n",
    "print(f\"Recall: {round((recall_score(y_test_1, y_test_pred_1)*100), 2)}%\")\n",
    "print(f\"F1_score: {round((f1_score(y_test_1, y_test_pred_1)*100), 2)}%\")"
   ]
  },
  {
   "cell_type": "markdown",
   "id": "e3ee81b7",
   "metadata": {
    "id": "e3ee81b7"
   },
   "source": [
    "## 1.2.2.Classification Report of the Logistic Regressor"
   ]
  },
  {
   "cell_type": "code",
   "execution_count": 28,
   "id": "936e26fd",
   "metadata": {
    "colab": {
     "base_uri": "https://localhost:8080/"
    },
    "id": "936e26fd",
    "outputId": "b002a9e4-6625-40e5-a33f-62d14382a635"
   },
   "outputs": [
    {
     "name": "stdout",
     "output_type": "stream",
     "text": [
      "              precision    recall  f1-score   support\n",
      "\n",
      "           0       1.00      0.90      0.95        29\n",
      "           1       0.75      1.00      0.86         9\n",
      "\n",
      "    accuracy                           0.92        38\n",
      "   macro avg       0.88      0.95      0.90        38\n",
      "weighted avg       0.94      0.92      0.92        38\n",
      "\n"
     ]
    }
   ],
   "source": [
    "print(classification_report(y_test_1, y_test_pred_1))"
   ]
  },
  {
   "cell_type": "markdown",
   "id": "9fa52f1c",
   "metadata": {
    "id": "9fa52f1c"
   },
   "source": [
    "## 1.2.3.Confusion Matrix Heatmap of the Logistic Regressor"
   ]
  },
  {
   "cell_type": "code",
   "execution_count": 29,
   "id": "55997f66",
   "metadata": {
    "colab": {
     "base_uri": "https://localhost:8080/",
     "height": 312
    },
    "id": "55997f66",
    "outputId": "8a13ecc6-249b-452b-be28-f22ae88cf471"
   },
   "outputs": [
    {
     "data": {
      "text/plain": [
       "[Text(0, 0.5, 'DLBCL'), Text(0, 1.5, 'FL')]"
      ]
     },
     "execution_count": 29,
     "metadata": {
      "tags": []
     },
     "output_type": "execute_result"
    },
    {
     "data": {
      "image/png": "[encoded data removed]",
      "text/plain": [
       "<Figure size 432x288 with 2 Axes>"
      ]
     },
     "metadata": {
      "needs_background": "light",
      "tags": []
     },
     "output_type": "display_data"
    }
   ],
   "source": [
    "ax = plt.subplot()\n",
    "sns.heatmap(confusion_matrix(y_test_1, y_test_pred_1), annot = True)\n",
    "ax.set_xlabel('Predicted labels')\n",
    "ax.set_ylabel('True labels') \n",
    "ax.set_title('Logistic Regression Confusion Matrix') \n",
    "ax.xaxis.set_ticklabels(labels) \n",
    "ax.yaxis.set_ticklabels(labels, rotation=360)"
   ]
  },
  {
   "cell_type": "markdown",
   "id": "1141dcd0",
   "metadata": {
    "id": "1141dcd0"
   },
   "source": [
    "# 1.3.Using SVM model"
   ]
  },
  {
   "cell_type": "code",
   "execution_count": 30,
   "id": "4d47a989",
   "metadata": {
    "colab": {
     "base_uri": "https://localhost:8080/"
    },
    "id": "4d47a989",
    "outputId": "152d810a-4a51-4ed3-f0b4-2cbab97598d7"
   },
   "outputs": [
    {
     "data": {
      "text/plain": [
       "SVC(C=1.0, break_ties=False, cache_size=200, class_weight=None, coef0=0.0,\n",
       "    decision_function_shape='ovr', degree=3, gamma='scale', kernel='rbf',\n",
       "    max_iter=-1, probability=False, random_state=None, shrinking=True,\n",
       "    tol=0.001, verbose=False)"
      ]
     },
     "execution_count": 30,
     "metadata": {
      "tags": []
     },
     "output_type": "execute_result"
    }
   ],
   "source": [
    "from sklearn.svm import SVC\n",
    "svm_clf_1 = SVC()\n",
    "svm_clf_1.fit(X_train_1, y_train_1)"
   ]
  },
  {
   "cell_type": "code",
   "execution_count": 31,
   "id": "1653121c",
   "metadata": {
    "id": "1653121c"
   },
   "outputs": [],
   "source": [
    "svm_score_1 = svm_clf_1.score(X_train_1, y_train_1)"
   ]
  },
  {
   "cell_type": "code",
   "execution_count": 32,
   "id": "cf037601",
   "metadata": {
    "colab": {
     "base_uri": "https://localhost:8080/"
    },
    "id": "cf037601",
    "outputId": "e46f83d9-0f22-475d-93ca-52d836bc1278"
   },
   "outputs": [
    {
     "name": "stdout",
     "output_type": "stream",
     "text": [
      "Score: 94.87%\n"
     ]
    }
   ],
   "source": [
    "print(f\"Score: {round((svm_score_1*100), 2)}%\")"
   ]
  },
  {
   "cell_type": "code",
   "execution_count": 33,
   "id": "4263a4b3",
   "metadata": {
    "id": "4263a4b3"
   },
   "outputs": [],
   "source": [
    "y_test_pred_11 = svm_clf_1.predict(X_test_1)"
   ]
  },
  {
   "cell_type": "markdown",
   "id": "2651e349",
   "metadata": {
    "id": "2651e349"
   },
   "source": [
    "## 1.3.1.Accuracy, Precision_score, Recall_score, F1_score of the SVM model"
   ]
  },
  {
   "cell_type": "code",
   "execution_count": 34,
   "id": "348960e8",
   "metadata": {
    "colab": {
     "base_uri": "https://localhost:8080/"
    },
    "id": "348960e8",
    "outputId": "f372fc50-3a21-4e98-d4d1-f24d9ab29ec8"
   },
   "outputs": [
    {
     "name": "stdout",
     "output_type": "stream",
     "text": [
      "Accuracy: 94.74%\n",
      "Precision: 81.82%\n",
      "Recall: 100.0%\n",
      "F1_score: 90.0%\n"
     ]
    }
   ],
   "source": [
    "print(f\"Accuracy: {round((accuracy_score(y_test_1, y_test_pred_11)*100), 2)}%\") \n",
    "print(f\"Precision: {round((precision_score(y_test_1, y_test_pred_11)*100), 2)}%\")\n",
    "print(f\"Recall: {round((recall_score(y_test_1, y_test_pred_11)*100), 2)}%\")\n",
    "print(f\"F1_score: {round((f1_score(y_test_1, y_test_pred_11)*100), 2)}%\")"
   ]
  },
  {
   "cell_type": "markdown",
   "id": "250b6f64",
   "metadata": {
    "id": "250b6f64"
   },
   "source": [
    "## 1.3.2.Classification Report of the SVM model"
   ]
  },
  {
   "cell_type": "code",
   "execution_count": 35,
   "id": "319acbc8",
   "metadata": {
    "colab": {
     "base_uri": "https://localhost:8080/"
    },
    "id": "319acbc8",
    "outputId": "af78357d-5912-461c-e2e8-e57867070245"
   },
   "outputs": [
    {
     "name": "stdout",
     "output_type": "stream",
     "text": [
      "              precision    recall  f1-score   support\n",
      "\n",
      "           0       1.00      0.93      0.96        29\n",
      "           1       0.82      1.00      0.90         9\n",
      "\n",
      "    accuracy                           0.95        38\n",
      "   macro avg       0.91      0.97      0.93        38\n",
      "weighted avg       0.96      0.95      0.95        38\n",
      "\n"
     ]
    }
   ],
   "source": [
    "print(classification_report(y_test_1, y_test_pred_11))"
   ]
  },
  {
   "cell_type": "markdown",
   "id": "afd3ba8b",
   "metadata": {
    "id": "afd3ba8b"
   },
   "source": [
    "## 1.3.3.Confusion Matrix Heatmap of the SVM model"
   ]
  },
  {
   "cell_type": "code",
   "execution_count": 36,
   "id": "7d8ce583",
   "metadata": {
    "colab": {
     "base_uri": "https://localhost:8080/",
     "height": 0
    },
    "id": "7d8ce583",
    "outputId": "3e387a3a-857c-492e-a6a3-116e32358c1b"
   },
   "outputs": [
    {
     "data": {
      "text/plain": [
       "[Text(0, 0.5, 'DLBCL'), Text(0, 1.5, 'FL')]"
      ]
     },
     "execution_count": 36,
     "metadata": {
      "tags": []
     },
     "output_type": "execute_result"
    },
    {
     "data": {
      "image/png": "[encoded data removed]",
      "text/plain": [
       "<Figure size 432x288 with 2 Axes>"
      ]
     },
     "metadata": {
      "needs_background": "light",
      "tags": []
     },
     "output_type": "display_data"
    }
   ],
   "source": [
    "ax = plt.subplot()\n",
    "sns.heatmap(confusion_matrix(y_test_1, y_test_pred_11), annot = True)\n",
    "ax.set_xlabel('Predicted labels')\n",
    "ax.set_ylabel('True labels') \n",
    "ax.set_title('SVM Confusion Matrix') \n",
    "ax.xaxis.set_ticklabels(labels) \n",
    "ax.yaxis.set_ticklabels(labels, rotation=360)"
   ]
  },
  {
   "cell_type": "markdown",
   "id": "4b9d59f7",
   "metadata": {
    "id": "4b9d59f7"
   },
   "source": [
    "# 1.4.Using Naive Bayes model"
   ]
  },
  {
   "cell_type": "code",
   "execution_count": 37,
   "id": "679979aa",
   "metadata": {
    "colab": {
     "base_uri": "https://localhost:8080/"
    },
    "id": "679979aa",
    "outputId": "fdd78ad0-bf10-4645-bd21-4322c9705614"
   },
   "outputs": [
    {
     "data": {
      "text/plain": [
       "GaussianNB(priors=None, var_smoothing=1e-09)"
      ]
     },
     "execution_count": 37,
     "metadata": {
      "tags": []
     },
     "output_type": "execute_result"
    }
   ],
   "source": [
    "from sklearn.naive_bayes import GaussianNB\n",
    "gnb_1 = GaussianNB()\n",
    "gnb_1.fit(X_train_1, y_train_1)"
   ]
  },
  {
   "cell_type": "code",
   "execution_count": 38,
   "id": "2d9ea4d3",
   "metadata": {
    "id": "2d9ea4d3"
   },
   "outputs": [],
   "source": [
    "gnb_score_1 = gnb_1.score(X_train_1, y_train_1)"
   ]
  },
  {
   "cell_type": "code",
   "execution_count": 39,
   "id": "25af15b3",
   "metadata": {
    "colab": {
     "base_uri": "https://localhost:8080/"
    },
    "id": "25af15b3",
    "outputId": "27c73e92-94e9-4bcf-eaf1-2ead8e1c0194"
   },
   "outputs": [
    {
     "name": "stdout",
     "output_type": "stream",
     "text": [
      "Score: 97.44%\n"
     ]
    }
   ],
   "source": [
    "print(f\"Score: {round((gnb_score_1*100), 2)}%\")"
   ]
  },
  {
   "cell_type": "code",
   "execution_count": 40,
   "id": "bae0ef4e",
   "metadata": {
    "id": "bae0ef4e"
   },
   "outputs": [],
   "source": [
    "y_test_pred_12 = gnb_1.predict(X_test_1)"
   ]
  },
  {
   "cell_type": "markdown",
   "id": "94752854",
   "metadata": {
    "id": "94752854"
   },
   "source": [
    "## 1.4.1.Accuracy, Precision_score, Recall_score, F1_score of the Naive Bayes model"
   ]
  },
  {
   "cell_type": "code",
   "execution_count": 41,
   "id": "d968368f",
   "metadata": {
    "colab": {
     "base_uri": "https://localhost:8080/"
    },
    "id": "d968368f",
    "outputId": "3d956c99-ef02-4753-f886-a0fc3501c61a"
   },
   "outputs": [
    {
     "name": "stdout",
     "output_type": "stream",
     "text": [
      "Accuracy: 94.74%\n",
      "Precision: 81.82%\n",
      "Recall: 100.0%\n",
      "F1_score: 90.0%\n"
     ]
    }
   ],
   "source": [
    "print(f\"Accuracy: {round((accuracy_score(y_test_1, y_test_pred_12)*100), 2)}%\") \n",
    "print(f\"Precision: {round((precision_score(y_test_1, y_test_pred_12)*100), 2)}%\")\n",
    "print(f\"Recall: {round((recall_score(y_test_1, y_test_pred_12)*100), 2)}%\")\n",
    "print(f\"F1_score: {round((f1_score(y_test_1, y_test_pred_12)*100), 2)}%\")"
   ]
  },
  {
   "cell_type": "markdown",
   "id": "232ea503",
   "metadata": {
    "id": "232ea503"
   },
   "source": [
    "## 1.4.2.Classification Report of the Naive Bayes model"
   ]
  },
  {
   "cell_type": "code",
   "execution_count": 42,
   "id": "aee55263",
   "metadata": {
    "colab": {
     "base_uri": "https://localhost:8080/"
    },
    "id": "aee55263",
    "outputId": "2ca467fc-45d2-44cb-8b7e-0241b38556f4"
   },
   "outputs": [
    {
     "name": "stdout",
     "output_type": "stream",
     "text": [
      "              precision    recall  f1-score   support\n",
      "\n",
      "           0       1.00      0.93      0.96        29\n",
      "           1       0.82      1.00      0.90         9\n",
      "\n",
      "    accuracy                           0.95        38\n",
      "   macro avg       0.91      0.97      0.93        38\n",
      "weighted avg       0.96      0.95      0.95        38\n",
      "\n"
     ]
    }
   ],
   "source": [
    "print(classification_report(y_test_1, y_test_pred_12))"
   ]
  },
  {
   "cell_type": "markdown",
   "id": "4393b024",
   "metadata": {
    "id": "4393b024"
   },
   "source": [
    "## 1.4.3.Confusion Matrix Heatmap of the Naive Bayes model"
   ]
  },
  {
   "cell_type": "code",
   "execution_count": 43,
   "id": "403cb93a",
   "metadata": {
    "colab": {
     "base_uri": "https://localhost:8080/",
     "height": 0
    },
    "id": "403cb93a",
    "outputId": "2f7fe5b4-b066-40e0-ba1e-eca56f953556"
   },
   "outputs": [
    {
     "data": {
      "text/plain": [
       "[Text(0, 0.5, 'DLBCL'), Text(0, 1.5, 'FL')]"
      ]
     },
     "execution_count": 43,
     "metadata": {
      "tags": []
     },
     "output_type": "execute_result"
    },
    {
     "data": {
      "image/png": "[encoded data removed]",
      "text/plain": [
       "<Figure size 432x288 with 2 Axes>"
      ]
     },
     "metadata": {
      "needs_background": "light",
      "tags": []
     },
     "output_type": "display_data"
    }
   ],
   "source": [
    "sns.heatmap(confusion_matrix(y_test_1, y_test_pred_12), annot = True)\n",
    "ax.set_xlabel('Predicted labels')\n",
    "ax.set_ylabel('True labels') \n",
    "ax.set_title('Logistic Regression Confusion Matrix') \n",
    "ax.xaxis.set_ticklabels(labels) \n",
    "ax.yaxis.set_ticklabels(labels, rotation=360)"
   ]
  },
  {
   "cell_type": "markdown",
   "id": "843ed846",
   "metadata": {
    "id": "843ed846"
   },
   "source": [
    "# 1.5.Using XGBoost model"
   ]
  },
  {
   "cell_type": "code",
   "execution_count": 44,
   "id": "05aa6ff2",
   "metadata": {
    "colab": {
     "base_uri": "https://localhost:8080/"
    },
    "id": "05aa6ff2",
    "outputId": "32d1b78b-1549-40c2-a598-85fc2bd1b730"
   },
   "outputs": [
    {
     "data": {
      "text/plain": [
       "XGBClassifier(base_score=0.5, booster='gbtree', colsample_bylevel=1,\n",
       "              colsample_bynode=1, colsample_bytree=1, eval_metric='mlogloss',\n",
       "              gamma=0, learning_rate=0.1, max_delta_step=0, max_depth=3,\n",
       "              min_child_weight=1, missing=None, n_estimators=100, n_jobs=1,\n",
       "              nthread=None, objective='binary:logistic', random_state=0,\n",
       "              reg_alpha=0, reg_lambda=1, scale_pos_weight=1, seed=None,\n",
       "              silent=None, subsample=1, use_label_encoder=False, verbosity=1)"
      ]
     },
     "execution_count": 44,
     "metadata": {
      "tags": []
     },
     "output_type": "execute_result"
    }
   ],
   "source": [
    "from xgboost import XGBClassifier\n",
    "xgb_clf_1 = XGBClassifier(use_label_encoder = False, eval_metric='mlogloss')\n",
    "xgb_clf_1.fit(X_train_1, y_train_1)"
   ]
  },
  {
   "cell_type": "code",
   "execution_count": 45,
   "id": "e7e99956",
   "metadata": {
    "id": "e7e99956"
   },
   "outputs": [],
   "source": [
    "xgb_score_1 = xgb_clf_1.score(X_train_1, y_train_1)"
   ]
  },
  {
   "cell_type": "code",
   "execution_count": 46,
   "id": "3168b09e",
   "metadata": {
    "colab": {
     "base_uri": "https://localhost:8080/"
    },
    "id": "3168b09e",
    "outputId": "a2840cd6-069e-48cc-fd8c-edd416460edd"
   },
   "outputs": [
    {
     "name": "stdout",
     "output_type": "stream",
     "text": [
      "Score: 100.0%\n"
     ]
    }
   ],
   "source": [
    "print(f\"Score: {round((xgb_score_1*100), 2)}%\")"
   ]
  },
  {
   "cell_type": "code",
   "execution_count": 47,
   "id": "d1c19aae",
   "metadata": {
    "id": "d1c19aae"
   },
   "outputs": [],
   "source": [
    "y_test_pred_13 = xgb_clf_1.predict(X_test_1)"
   ]
  },
  {
   "cell_type": "markdown",
   "id": "87140bd4",
   "metadata": {
    "id": "87140bd4"
   },
   "source": [
    "## 1.5.1.Accuracy, Precision_score, Recall_score, F1_score of the XGBoost model"
   ]
  },
  {
   "cell_type": "code",
   "execution_count": 48,
   "id": "17edfc7f",
   "metadata": {
    "colab": {
     "base_uri": "https://localhost:8080/"
    },
    "id": "17edfc7f",
    "outputId": "01dc73e3-fd15-4852-ebb2-cd99062a1afd"
   },
   "outputs": [
    {
     "name": "stdout",
     "output_type": "stream",
     "text": [
      "Accuracy: 78.95%\n",
      "Precision: 57.14%\n",
      "Recall: 44.44%\n",
      "F1_score: 50.0%\n"
     ]
    }
   ],
   "source": [
    "print(f\"Accuracy: {round((accuracy_score(y_test_1, y_test_pred_13)*100), 2)}%\") \n",
    "print(f\"Precision: {round((precision_score(y_test_1, y_test_pred_13)*100), 2)}%\")\n",
    "print(f\"Recall: {round((recall_score(y_test_1, y_test_pred_13)*100), 2)}%\")\n",
    "print(f\"F1_score: {round((f1_score(y_test_1, y_test_pred_13)*100), 2)}%\")"
   ]
  },
  {
   "cell_type": "markdown",
   "id": "3feaffec",
   "metadata": {
    "id": "3feaffec"
   },
   "source": [
    "## 1.5.2.Classification Report of the XGBoost model"
   ]
  },
  {
   "cell_type": "code",
   "execution_count": 49,
   "id": "db9a4a32",
   "metadata": {
    "colab": {
     "base_uri": "https://localhost:8080/"
    },
    "id": "db9a4a32",
    "outputId": "91e9723d-5b7b-4fb8-962b-c6279901e277"
   },
   "outputs": [
    {
     "name": "stdout",
     "output_type": "stream",
     "text": [
      "              precision    recall  f1-score   support\n",
      "\n",
      "           0       0.84      0.90      0.87        29\n",
      "           1       0.57      0.44      0.50         9\n",
      "\n",
      "    accuracy                           0.79        38\n",
      "   macro avg       0.71      0.67      0.68        38\n",
      "weighted avg       0.78      0.79      0.78        38\n",
      "\n"
     ]
    }
   ],
   "source": [
    "print(classification_report(y_test_1, y_test_pred_13))"
   ]
  },
  {
   "cell_type": "markdown",
   "id": "da8af872",
   "metadata": {
    "id": "da8af872"
   },
   "source": [
    "## 1.5.3.Confusion Matrix Heatmap of the XGBoost model"
   ]
  },
  {
   "cell_type": "code",
   "execution_count": 50,
   "id": "d5d41a0f",
   "metadata": {
    "colab": {
     "base_uri": "https://localhost:8080/",
     "height": 0
    },
    "id": "d5d41a0f",
    "outputId": "bfc2f355-30e4-446d-93eb-a8eb287efd93"
   },
   "outputs": [
    {
     "data": {
      "text/plain": [
       "[Text(0, 0.5, 'DLBCL'), Text(0, 1.5, 'FL')]"
      ]
     },
     "execution_count": 50,
     "metadata": {
      "tags": []
     },
     "output_type": "execute_result"
    },
    {
     "data": {
      "image/png": "[encoded data removed]",
      "text/plain": [
       "<Figure size 432x288 with 2 Axes>"
      ]
     },
     "metadata": {
      "needs_background": "light",
      "tags": []
     },
     "output_type": "display_data"
    }
   ],
   "source": [
    "sns.heatmap(confusion_matrix(y_test_1, y_test_pred_13), annot = True)\n",
    "ax.set_xlabel('Predicted labels')\n",
    "ax.set_ylabel('True labels') \n",
    "ax.set_title('Logistic Regression Confusion Matrix') \n",
    "ax.xaxis.set_ticklabels(labels) \n",
    "ax.yaxis.set_ticklabels(labels, rotation=360)"
   ]
  },
  {
   "cell_type": "markdown",
   "id": "efe3d22b",
   "metadata": {
    "id": "efe3d22b"
   },
   "source": [
    "# 1.6.Using Random Forest Classifier"
   ]
  },
  {
   "cell_type": "code",
   "execution_count": 51,
   "id": "43f0094b",
   "metadata": {
    "colab": {
     "base_uri": "https://localhost:8080/"
    },
    "id": "43f0094b",
    "outputId": "d05d5968-4d8a-4a1e-9ee8-420ab87b351a"
   },
   "outputs": [
    {
     "data": {
      "text/plain": [
       "RandomForestClassifier(bootstrap=True, ccp_alpha=0.0, class_weight=None,\n",
       "                       criterion='gini', max_depth=2, max_features='auto',\n",
       "                       max_leaf_nodes=None, max_samples=None,\n",
       "                       min_impurity_decrease=0.0, min_impurity_split=None,\n",
       "                       min_samples_leaf=1, min_samples_split=2,\n",
       "                       min_weight_fraction_leaf=0.0, n_estimators=100,\n",
       "                       n_jobs=None, oob_score=False, random_state=0, verbose=0,\n",
       "                       warm_start=False)"
      ]
     },
     "execution_count": 51,
     "metadata": {
      "tags": []
     },
     "output_type": "execute_result"
    }
   ],
   "source": [
    "from sklearn.ensemble import RandomForestClassifier\n",
    "rfc_clf_1 = RandomForestClassifier(max_depth = 2, random_state = 0)\n",
    "rfc_clf_1.fit(X_train_1, y_train_1)"
   ]
  },
  {
   "cell_type": "code",
   "execution_count": 52,
   "id": "1f56bb7a",
   "metadata": {
    "id": "1f56bb7a"
   },
   "outputs": [],
   "source": [
    "rfc_score_1 = rfc_clf_1.score(X_train_1, y_train_1)"
   ]
  },
  {
   "cell_type": "code",
   "execution_count": 53,
   "id": "ca2be3d6",
   "metadata": {
    "colab": {
     "base_uri": "https://localhost:8080/"
    },
    "id": "ca2be3d6",
    "outputId": "e2e1d817-82dd-42a9-ae25-6fb7e3d1445e"
   },
   "outputs": [
    {
     "name": "stdout",
     "output_type": "stream",
     "text": [
      "Score: 100.0%\n"
     ]
    }
   ],
   "source": [
    "print(f\"Score: {round((rfc_score_1*100), 2)}%\")"
   ]
  },
  {
   "cell_type": "code",
   "execution_count": 54,
   "id": "b1583a9b",
   "metadata": {
    "id": "b1583a9b"
   },
   "outputs": [],
   "source": [
    "y_test_pred_14 = rfc_clf_1.predict(X_test_1)"
   ]
  },
  {
   "cell_type": "markdown",
   "id": "3bb68828",
   "metadata": {
    "id": "3bb68828"
   },
   "source": [
    "## 1.6.1.Accuracy, Precision_score, Recall_score, F1_score of this Random Forest Classifier"
   ]
  },
  {
   "cell_type": "code",
   "execution_count": 55,
   "id": "cd8018ce",
   "metadata": {
    "colab": {
     "base_uri": "https://localhost:8080/"
    },
    "id": "cd8018ce",
    "outputId": "c73bb72c-1f81-4670-f5a8-e12b9253dd56"
   },
   "outputs": [
    {
     "name": "stdout",
     "output_type": "stream",
     "text": [
      "Accuracy: 92.11%\n",
      "Precision: 80.0%\n",
      "Recall: 88.89%\n",
      "F1_score: 84.21%\n"
     ]
    }
   ],
   "source": [
    "print(f\"Accuracy: {round((accuracy_score(y_test_1, y_test_pred_14)*100), 2)}%\") \n",
    "print(f\"Precision: {round((precision_score(y_test_1, y_test_pred_14)*100), 2)}%\")\n",
    "print(f\"Recall: {round((recall_score(y_test_1, y_test_pred_14)*100), 2)}%\")\n",
    "print(f\"F1_score: {round((f1_score(y_test_1, y_test_pred_14)*100), 2)}%\")"
   ]
  },
  {
   "cell_type": "markdown",
   "id": "7d5e9e26",
   "metadata": {
    "id": "7d5e9e26"
   },
   "source": [
    "## 1.6.2.Classification Report of this Random Forest Classifier"
   ]
  },
  {
   "cell_type": "code",
   "execution_count": 56,
   "id": "57c38538",
   "metadata": {
    "colab": {
     "base_uri": "https://localhost:8080/"
    },
    "id": "57c38538",
    "outputId": "def75ada-81ed-4c30-ba8c-37c6b06c5d2b"
   },
   "outputs": [
    {
     "name": "stdout",
     "output_type": "stream",
     "text": [
      "              precision    recall  f1-score   support\n",
      "\n",
      "           0       0.96      0.93      0.95        29\n",
      "           1       0.80      0.89      0.84         9\n",
      "\n",
      "    accuracy                           0.92        38\n",
      "   macro avg       0.88      0.91      0.89        38\n",
      "weighted avg       0.93      0.92      0.92        38\n",
      "\n"
     ]
    }
   ],
   "source": [
    "print(classification_report(y_test_1, y_test_pred_14))"
   ]
  },
  {
   "cell_type": "markdown",
   "id": "7cc46ba4",
   "metadata": {
    "id": "7cc46ba4"
   },
   "source": [
    "## 1.6.3.Confusion Matrix Heatmap of this Random Forest Classifier"
   ]
  },
  {
   "cell_type": "code",
   "execution_count": 57,
   "id": "bec037c9",
   "metadata": {
    "colab": {
     "base_uri": "https://localhost:8080/",
     "height": 0
    },
    "id": "bec037c9",
    "outputId": "5e3e03be-16c2-4e56-ad11-3a07d4fa3ca1"
   },
   "outputs": [
    {
     "data": {
      "text/plain": [
       "<matplotlib.axes._subplots.AxesSubplot at 0x7f2d741d4c90>"
      ]
     },
     "execution_count": 57,
     "metadata": {
      "tags": []
     },
     "output_type": "execute_result"
    },
    {
     "data": {
      "image/png": "[encoded data removed]",
      "text/plain": [
       "<Figure size 432x288 with 2 Axes>"
      ]
     },
     "metadata": {
      "needs_background": "light",
      "tags": []
     },
     "output_type": "display_data"
    }
   ],
   "source": [
    "sns.heatmap(confusion_matrix(y_test_1, y_test_pred_14), annot = True)"
   ]
  },
  {
   "cell_type": "markdown",
   "id": "c44a086e",
   "metadata": {
    "id": "c44a086e"
   },
   "source": [
    "# CASE 2: Using 70% of the dataset as training set and 30% of the dataset as test set."
   ]
  },
  {
   "cell_type": "markdown",
   "id": "28ab5fc9",
   "metadata": {
    "id": "28ab5fc9"
   },
   "source": [
    "# 2.0.Train-Test Split (70:30)"
   ]
  },
  {
   "cell_type": "code",
   "execution_count": 58,
   "id": "3dd12abb",
   "metadata": {
    "id": "3dd12abb"
   },
   "outputs": [],
   "source": [
    "train_set_2, test_set_2 = train_test_split(data_new, test_size = 0.3, random_state = 42)"
   ]
  },
  {
   "cell_type": "code",
   "execution_count": 59,
   "id": "c0e24896",
   "metadata": {
    "colab": {
     "base_uri": "https://localhost:8080/"
    },
    "id": "c0e24896",
    "outputId": "27abe15e-07a1-4eac-829f-b0ffb41fd62f"
   },
   "outputs": [
    {
     "name": "stdout",
     "output_type": "stream",
     "text": [
      "Rows in train set: 53\n",
      "Rows in test set: 24\n"
     ]
    }
   ],
   "source": [
    "print(f\"Rows in train set: {len(train_set_2)}\\nRows in test set: {len(test_set_2)}\")"
   ]
  },
  {
   "cell_type": "code",
   "execution_count": 60,
   "id": "049bbd27",
   "metadata": {
    "colab": {
     "base_uri": "https://localhost:8080/",
     "height": 0
    },
    "id": "049bbd27",
    "outputId": "e53bd9d5-7323-463f-85be-99a89b655429"
   },
   "outputs": [
    {
     "data": {
      "text/html": [
       "<div>\n",
       "<style scoped>\n",
       "    .dataframe tbody tr th:only-of-type {\n",
       "        vertical-align: middle;\n",
       "    }\n",
       "\n",
       "    .dataframe tbody tr th {\n",
       "        vertical-align: top;\n",
       "    }\n",
       "\n",
       "    .dataframe thead th {\n",
       "        text-align: right;\n",
       "    }\n",
       "</style>\n",
       "<table border=\"1\" class=\"dataframe\">\n",
       "  <thead>\n",
       "    <tr style=\"text-align: right;\">\n",
       "      <th></th>\n",
       "      <th>Type</th>\n",
       "      <th>X16983_at</th>\n",
       "      <th>X02152_at</th>\n",
       "      <th>M94880_f_at</th>\n",
       "      <th>Z21966_at</th>\n",
       "      <th>J03909_at</th>\n",
       "      <th>D87119_at</th>\n",
       "      <th>HG417-HT417_s_at</th>\n",
       "      <th>M22382_at</th>\n",
       "      <th>L17131_rna1_at</th>\n",
       "      <th>L42324_at</th>\n",
       "      <th>X56494_at</th>\n",
       "      <th>M63138_at</th>\n",
       "      <th>Z11793_at</th>\n",
       "      <th>D82348_at</th>\n",
       "      <th>AB002409_at</th>\n",
       "      <th>HG1980-HT2023_at</th>\n",
       "      <th>M14328_s_at</th>\n",
       "      <th>J04173_at</th>\n",
       "      <th>X03689_s_at</th>\n",
       "      <th>D78134_at</th>\n",
       "    </tr>\n",
       "  </thead>\n",
       "  <tbody>\n",
       "    <tr>\n",
       "      <th>65</th>\n",
       "      <td>1</td>\n",
       "      <td>224</td>\n",
       "      <td>4705</td>\n",
       "      <td>14043</td>\n",
       "      <td>431</td>\n",
       "      <td>1793</td>\n",
       "      <td>1091</td>\n",
       "      <td>3681</td>\n",
       "      <td>3835</td>\n",
       "      <td>2821</td>\n",
       "      <td>2128</td>\n",
       "      <td>2799</td>\n",
       "      <td>2746</td>\n",
       "      <td>2705</td>\n",
       "      <td>1157</td>\n",
       "      <td>5664</td>\n",
       "      <td>1912</td>\n",
       "      <td>8499</td>\n",
       "      <td>5075</td>\n",
       "      <td>22779</td>\n",
       "      <td>6028</td>\n",
       "    </tr>\n",
       "    <tr>\n",
       "      <th>54</th>\n",
       "      <td>0</td>\n",
       "      <td>147</td>\n",
       "      <td>17268</td>\n",
       "      <td>14552</td>\n",
       "      <td>-8</td>\n",
       "      <td>6459</td>\n",
       "      <td>635</td>\n",
       "      <td>11085</td>\n",
       "      <td>8760</td>\n",
       "      <td>7671</td>\n",
       "      <td>3611</td>\n",
       "      <td>8362</td>\n",
       "      <td>9942</td>\n",
       "      <td>4109</td>\n",
       "      <td>3085</td>\n",
       "      <td>-22</td>\n",
       "      <td>6362</td>\n",
       "      <td>15067</td>\n",
       "      <td>7278</td>\n",
       "      <td>20081</td>\n",
       "      <td>3927</td>\n",
       "    </tr>\n",
       "    <tr>\n",
       "      <th>31</th>\n",
       "      <td>0</td>\n",
       "      <td>9</td>\n",
       "      <td>14625</td>\n",
       "      <td>15976</td>\n",
       "      <td>-31</td>\n",
       "      <td>5844</td>\n",
       "      <td>280</td>\n",
       "      <td>14388</td>\n",
       "      <td>4565</td>\n",
       "      <td>7602</td>\n",
       "      <td>210</td>\n",
       "      <td>7900</td>\n",
       "      <td>7077</td>\n",
       "      <td>394</td>\n",
       "      <td>1778</td>\n",
       "      <td>123</td>\n",
       "      <td>3128</td>\n",
       "      <td>14738</td>\n",
       "      <td>7646</td>\n",
       "      <td>20078</td>\n",
       "      <td>1582</td>\n",
       "    </tr>\n",
       "    <tr>\n",
       "      <th>7</th>\n",
       "      <td>0</td>\n",
       "      <td>91</td>\n",
       "      <td>1030</td>\n",
       "      <td>8796</td>\n",
       "      <td>95</td>\n",
       "      <td>5600</td>\n",
       "      <td>1038</td>\n",
       "      <td>4063</td>\n",
       "      <td>9394</td>\n",
       "      <td>11191</td>\n",
       "      <td>640</td>\n",
       "      <td>7898</td>\n",
       "      <td>4841</td>\n",
       "      <td>1265</td>\n",
       "      <td>3612</td>\n",
       "      <td>7631</td>\n",
       "      <td>3742</td>\n",
       "      <td>12873</td>\n",
       "      <td>6991</td>\n",
       "      <td>6122</td>\n",
       "      <td>2148</td>\n",
       "    </tr>\n",
       "    <tr>\n",
       "      <th>62</th>\n",
       "      <td>1</td>\n",
       "      <td>88</td>\n",
       "      <td>2004</td>\n",
       "      <td>14907</td>\n",
       "      <td>179</td>\n",
       "      <td>1241</td>\n",
       "      <td>1446</td>\n",
       "      <td>1378</td>\n",
       "      <td>1921</td>\n",
       "      <td>1738</td>\n",
       "      <td>1322</td>\n",
       "      <td>2565</td>\n",
       "      <td>318</td>\n",
       "      <td>1786</td>\n",
       "      <td>474</td>\n",
       "      <td>2367</td>\n",
       "      <td>988</td>\n",
       "      <td>1788</td>\n",
       "      <td>3412</td>\n",
       "      <td>24722</td>\n",
       "      <td>4018</td>\n",
       "    </tr>\n",
       "  </tbody>\n",
       "</table>\n",
       "</div>"
      ],
      "text/plain": [
       "    Type  X16983_at  X02152_at  ...  J04173_at  X03689_s_at  D78134_at\n",
       "65     1        224       4705  ...       5075        22779       6028\n",
       "54     0        147      17268  ...       7278        20081       3927\n",
       "31     0          9      14625  ...       7646        20078       1582\n",
       "7      0         91       1030  ...       6991         6122       2148\n",
       "62     1         88       2004  ...       3412        24722       4018\n",
       "\n",
       "[5 rows x 21 columns]"
      ]
     },
     "execution_count": 60,
     "metadata": {
      "tags": []
     },
     "output_type": "execute_result"
    }
   ],
   "source": [
    "train_set_2.head()"
   ]
  },
  {
   "cell_type": "code",
   "execution_count": 61,
   "id": "fad188e8",
   "metadata": {
    "colab": {
     "base_uri": "https://localhost:8080/",
     "height": 0
    },
    "id": "fad188e8",
    "outputId": "e885621b-eaf5-456c-c268-ad41c9127a5b"
   },
   "outputs": [
    {
     "data": {
      "text/html": [
       "<div>\n",
       "<style scoped>\n",
       "    .dataframe tbody tr th:only-of-type {\n",
       "        vertical-align: middle;\n",
       "    }\n",
       "\n",
       "    .dataframe tbody tr th {\n",
       "        vertical-align: top;\n",
       "    }\n",
       "\n",
       "    .dataframe thead th {\n",
       "        text-align: right;\n",
       "    }\n",
       "</style>\n",
       "<table border=\"1\" class=\"dataframe\">\n",
       "  <thead>\n",
       "    <tr style=\"text-align: right;\">\n",
       "      <th></th>\n",
       "      <th>Type</th>\n",
       "      <th>X16983_at</th>\n",
       "      <th>X02152_at</th>\n",
       "      <th>M94880_f_at</th>\n",
       "      <th>Z21966_at</th>\n",
       "      <th>J03909_at</th>\n",
       "      <th>D87119_at</th>\n",
       "      <th>HG417-HT417_s_at</th>\n",
       "      <th>M22382_at</th>\n",
       "      <th>L17131_rna1_at</th>\n",
       "      <th>L42324_at</th>\n",
       "      <th>X56494_at</th>\n",
       "      <th>M63138_at</th>\n",
       "      <th>Z11793_at</th>\n",
       "      <th>D82348_at</th>\n",
       "      <th>AB002409_at</th>\n",
       "      <th>HG1980-HT2023_at</th>\n",
       "      <th>M14328_s_at</th>\n",
       "      <th>J04173_at</th>\n",
       "      <th>X03689_s_at</th>\n",
       "      <th>D78134_at</th>\n",
       "    </tr>\n",
       "  </thead>\n",
       "  <tbody>\n",
       "    <tr>\n",
       "      <th>4</th>\n",
       "      <td>0</td>\n",
       "      <td>80</td>\n",
       "      <td>18742</td>\n",
       "      <td>5489</td>\n",
       "      <td>-82</td>\n",
       "      <td>824</td>\n",
       "      <td>692</td>\n",
       "      <td>7238</td>\n",
       "      <td>16467</td>\n",
       "      <td>3905</td>\n",
       "      <td>581</td>\n",
       "      <td>4553</td>\n",
       "      <td>2654</td>\n",
       "      <td>259</td>\n",
       "      <td>3890</td>\n",
       "      <td>-17</td>\n",
       "      <td>6162</td>\n",
       "      <td>12063</td>\n",
       "      <td>9711</td>\n",
       "      <td>6962</td>\n",
       "      <td>1180</td>\n",
       "    </tr>\n",
       "    <tr>\n",
       "      <th>35</th>\n",
       "      <td>0</td>\n",
       "      <td>113</td>\n",
       "      <td>7207</td>\n",
       "      <td>20028</td>\n",
       "      <td>81</td>\n",
       "      <td>11354</td>\n",
       "      <td>802</td>\n",
       "      <td>20974</td>\n",
       "      <td>4598</td>\n",
       "      <td>4008</td>\n",
       "      <td>728</td>\n",
       "      <td>6341</td>\n",
       "      <td>15733</td>\n",
       "      <td>1972</td>\n",
       "      <td>1437</td>\n",
       "      <td>3966</td>\n",
       "      <td>3193</td>\n",
       "      <td>13687</td>\n",
       "      <td>5876</td>\n",
       "      <td>21195</td>\n",
       "      <td>3751</td>\n",
       "    </tr>\n",
       "    <tr>\n",
       "      <th>10</th>\n",
       "      <td>0</td>\n",
       "      <td>3</td>\n",
       "      <td>6672</td>\n",
       "      <td>2532</td>\n",
       "      <td>-95</td>\n",
       "      <td>1340</td>\n",
       "      <td>258</td>\n",
       "      <td>2516</td>\n",
       "      <td>10123</td>\n",
       "      <td>10767</td>\n",
       "      <td>792</td>\n",
       "      <td>9058</td>\n",
       "      <td>6016</td>\n",
       "      <td>278</td>\n",
       "      <td>5578</td>\n",
       "      <td>199</td>\n",
       "      <td>11882</td>\n",
       "      <td>13887</td>\n",
       "      <td>6986</td>\n",
       "      <td>4657</td>\n",
       "      <td>3410</td>\n",
       "    </tr>\n",
       "    <tr>\n",
       "      <th>0</th>\n",
       "      <td>0</td>\n",
       "      <td>42</td>\n",
       "      <td>14742</td>\n",
       "      <td>8233</td>\n",
       "      <td>156</td>\n",
       "      <td>6921</td>\n",
       "      <td>318</td>\n",
       "      <td>7502</td>\n",
       "      <td>5161</td>\n",
       "      <td>4413</td>\n",
       "      <td>622</td>\n",
       "      <td>7578</td>\n",
       "      <td>5011</td>\n",
       "      <td>241</td>\n",
       "      <td>1494</td>\n",
       "      <td>-6</td>\n",
       "      <td>4351</td>\n",
       "      <td>12813</td>\n",
       "      <td>8286</td>\n",
       "      <td>22040</td>\n",
       "      <td>2072</td>\n",
       "    </tr>\n",
       "    <tr>\n",
       "      <th>45</th>\n",
       "      <td>0</td>\n",
       "      <td>330</td>\n",
       "      <td>19547</td>\n",
       "      <td>15254</td>\n",
       "      <td>-37</td>\n",
       "      <td>10261</td>\n",
       "      <td>3355</td>\n",
       "      <td>14348</td>\n",
       "      <td>12552</td>\n",
       "      <td>10482</td>\n",
       "      <td>2566</td>\n",
       "      <td>13529</td>\n",
       "      <td>5137</td>\n",
       "      <td>3811</td>\n",
       "      <td>3322</td>\n",
       "      <td>3150</td>\n",
       "      <td>10605</td>\n",
       "      <td>14153</td>\n",
       "      <td>14080</td>\n",
       "      <td>23908</td>\n",
       "      <td>5293</td>\n",
       "    </tr>\n",
       "  </tbody>\n",
       "</table>\n",
       "</div>"
      ],
      "text/plain": [
       "    Type  X16983_at  X02152_at  ...  J04173_at  X03689_s_at  D78134_at\n",
       "4      0         80      18742  ...       9711         6962       1180\n",
       "35     0        113       7207  ...       5876        21195       3751\n",
       "10     0          3       6672  ...       6986         4657       3410\n",
       "0      0         42      14742  ...       8286        22040       2072\n",
       "45     0        330      19547  ...      14080        23908       5293\n",
       "\n",
       "[5 rows x 21 columns]"
      ]
     },
     "execution_count": 61,
     "metadata": {
      "tags": []
     },
     "output_type": "execute_result"
    }
   ],
   "source": [
    "test_set_2.head()"
   ]
  },
  {
   "cell_type": "code",
   "execution_count": 62,
   "id": "c7cb167e",
   "metadata": {
    "id": "c7cb167e"
   },
   "outputs": [],
   "source": [
    "X_train_2 = train_set_2.drop(\"Type\", axis = 1)\n",
    "y_train_2 = train_set_2[\"Type\"]\n",
    "X_test_2 = test_set_2.drop(\"Type\", axis = 1)\n",
    "y_test_2 = test_set_2[\"Type\"]"
   ]
  },
  {
   "cell_type": "markdown",
   "id": "85752872",
   "metadata": {
    "id": "85752872"
   },
   "source": [
    "# 2.1.Confusion Matrix Heatmap of perfect predictions"
   ]
  },
  {
   "cell_type": "code",
   "execution_count": 63,
   "id": "ab446df5",
   "metadata": {
    "colab": {
     "base_uri": "https://localhost:8080/",
     "height": 0
    },
    "id": "ab446df5",
    "outputId": "93d35e15-06d6-409c-faf3-0a3845eaea34"
   },
   "outputs": [
    {
     "data": {
      "text/plain": [
       "<matplotlib.axes._subplots.AxesSubplot at 0x7f2d74172e50>"
      ]
     },
     "execution_count": 63,
     "metadata": {
      "tags": []
     },
     "output_type": "execute_result"
    },
    {
     "data": {
      "image/png": "[encoded data removed]",
      "text/plain": [
       "<Figure size 432x288 with 2 Axes>"
      ]
     },
     "metadata": {
      "needs_background": "light",
      "tags": []
     },
     "output_type": "display_data"
    }
   ],
   "source": [
    "sns.heatmap(confusion_matrix(y_test_2, y_test_2), annot = True)"
   ]
  },
  {
   "cell_type": "markdown",
   "id": "3be1610e",
   "metadata": {
    "id": "3be1610e"
   },
   "source": [
    "# 2.2.Using Logistic Regression model"
   ]
  },
  {
   "cell_type": "code",
   "execution_count": 64,
   "id": "36d4207a",
   "metadata": {
    "colab": {
     "base_uri": "https://localhost:8080/"
    },
    "id": "36d4207a",
    "outputId": "a6672fad-a843-4097-f0b4-c1face34b6cf"
   },
   "outputs": [
    {
     "data": {
      "text/plain": [
       "LogisticRegression(C=1.0, class_weight=None, dual=False, fit_intercept=True,\n",
       "                   intercept_scaling=1, l1_ratio=None, max_iter=500,\n",
       "                   multi_class='auto', n_jobs=None, penalty='l2',\n",
       "                   random_state=None, solver='lbfgs', tol=0.0001, verbose=0,\n",
       "                   warm_start=False)"
      ]
     },
     "execution_count": 64,
     "metadata": {
      "tags": []
     },
     "output_type": "execute_result"
    }
   ],
   "source": [
    "model_2 = LogisticRegression(solver='lbfgs', max_iter=500)\n",
    "model_2.fit(X_train_2, y_train_2)"
   ]
  },
  {
   "cell_type": "code",
   "execution_count": 65,
   "id": "0aaeea27",
   "metadata": {
    "id": "0aaeea27"
   },
   "outputs": [],
   "source": [
    "lr_score_2 = model_2.score(X_train_2, y_train_2)"
   ]
  },
  {
   "cell_type": "code",
   "execution_count": 66,
   "id": "b62631bc",
   "metadata": {
    "colab": {
     "base_uri": "https://localhost:8080/"
    },
    "id": "b62631bc",
    "outputId": "54218af7-ea31-4b25-c3a0-c959b6bc8521"
   },
   "outputs": [
    {
     "name": "stdout",
     "output_type": "stream",
     "text": [
      "Score: 100.0%\n"
     ]
    }
   ],
   "source": [
    "print(f\"Score: {round((lr_score_2*100), 2)}%\")"
   ]
  },
  {
   "cell_type": "code",
   "execution_count": 67,
   "id": "a00b338d",
   "metadata": {
    "id": "a00b338d"
   },
   "outputs": [],
   "source": [
    "y_test_pred_2 = model_2.predict(X_test_2)"
   ]
  },
  {
   "cell_type": "markdown",
   "id": "d100a65e",
   "metadata": {
    "id": "d100a65e"
   },
   "source": [
    "## 2.2.1.Accuracy, Precision_score, Recall_score, F1_score of the Logistic Regressor"
   ]
  },
  {
   "cell_type": "code",
   "execution_count": 68,
   "id": "ca29e25d",
   "metadata": {
    "colab": {
     "base_uri": "https://localhost:8080/"
    },
    "id": "ca29e25d",
    "outputId": "60e5bc0f-8b5b-4720-c4e8-ca7b7bbca319"
   },
   "outputs": [
    {
     "name": "stdout",
     "output_type": "stream",
     "text": [
      "Accuracy: 95.83%\n",
      "Precision: 80.0%\n",
      "Recall: 100.0%\n",
      "F1_score: 88.89%\n"
     ]
    }
   ],
   "source": [
    "print(f\"Accuracy: {round((accuracy_score(y_test_2, y_test_pred_2)*100), 2)}%\") \n",
    "print(f\"Precision: {round((precision_score(y_test_2, y_test_pred_2)*100), 2)}%\")\n",
    "print(f\"Recall: {round((recall_score(y_test_2, y_test_pred_2)*100), 2)}%\")\n",
    "print(f\"F1_score: {round((f1_score(y_test_2, y_test_pred_2)*100), 2)}%\")"
   ]
  },
  {
   "cell_type": "markdown",
   "id": "ff194548",
   "metadata": {
    "id": "ff194548"
   },
   "source": [
    "## 2.2.2.Classification Report of the Logistic Regressor"
   ]
  },
  {
   "cell_type": "code",
   "execution_count": 69,
   "id": "653e7521",
   "metadata": {
    "colab": {
     "base_uri": "https://localhost:8080/"
    },
    "id": "653e7521",
    "outputId": "e823b7bb-6401-4899-80ea-bf82caac67ad"
   },
   "outputs": [
    {
     "name": "stdout",
     "output_type": "stream",
     "text": [
      "              precision    recall  f1-score   support\n",
      "\n",
      "           0       1.00      0.95      0.97        20\n",
      "           1       0.80      1.00      0.89         4\n",
      "\n",
      "    accuracy                           0.96        24\n",
      "   macro avg       0.90      0.97      0.93        24\n",
      "weighted avg       0.97      0.96      0.96        24\n",
      "\n"
     ]
    }
   ],
   "source": [
    "print(classification_report(y_test_2, y_test_pred_2))"
   ]
  },
  {
   "cell_type": "markdown",
   "id": "95d22b05",
   "metadata": {
    "id": "95d22b05"
   },
   "source": [
    "## 2.2.3.Confusion Matrix Heatmap of the Logistic Regressor"
   ]
  },
  {
   "cell_type": "code",
   "execution_count": 70,
   "id": "3e9ddb8b",
   "metadata": {
    "colab": {
     "base_uri": "https://localhost:8080/",
     "height": 0
    },
    "id": "3e9ddb8b",
    "outputId": "5e582161-20f1-4d26-ac7d-3e32972dba35"
   },
   "outputs": [
    {
     "data": {
      "text/plain": [
       "<matplotlib.axes._subplots.AxesSubplot at 0x7f2d7476fa10>"
      ]
     },
     "execution_count": 70,
     "metadata": {
      "tags": []
     },
     "output_type": "execute_result"
    },
    {
     "data": {
      "image/png": "[encoded data removed]",
      "text/plain": [
       "<Figure size 432x288 with 2 Axes>"
      ]
     },
     "metadata": {
      "needs_background": "light",
      "tags": []
     },
     "output_type": "display_data"
    }
   ],
   "source": [
    "sns.heatmap(confusion_matrix(y_test_2, y_test_pred_2), annot = True)"
   ]
  },
  {
   "cell_type": "markdown",
   "id": "9cfd0dfe",
   "metadata": {
    "id": "9cfd0dfe"
   },
   "source": [
    "# 2.3.Using SVM model"
   ]
  },
  {
   "cell_type": "code",
   "execution_count": 71,
   "id": "cd806844",
   "metadata": {
    "colab": {
     "base_uri": "https://localhost:8080/"
    },
    "id": "cd806844",
    "outputId": "350e1308-c8ba-4aa7-dfd7-c3e300411c99"
   },
   "outputs": [
    {
     "data": {
      "text/plain": [
       "SVC(C=1.0, break_ties=False, cache_size=200, class_weight=None, coef0=0.0,\n",
       "    decision_function_shape='ovr', degree=3, gamma='scale', kernel='rbf',\n",
       "    max_iter=-1, probability=False, random_state=None, shrinking=True,\n",
       "    tol=0.001, verbose=False)"
      ]
     },
     "execution_count": 71,
     "metadata": {
      "tags": []
     },
     "output_type": "execute_result"
    }
   ],
   "source": [
    "svm_clf_2 = SVC()\n",
    "svm_clf_2.fit(X_train_2, y_train_2)"
   ]
  },
  {
   "cell_type": "code",
   "execution_count": 72,
   "id": "d278092a",
   "metadata": {
    "id": "d278092a"
   },
   "outputs": [],
   "source": [
    "svm_score_2 = svm_clf_2.score(X_train_2, y_train_2)"
   ]
  },
  {
   "cell_type": "code",
   "execution_count": 73,
   "id": "121aac31",
   "metadata": {
    "colab": {
     "base_uri": "https://localhost:8080/"
    },
    "id": "121aac31",
    "outputId": "f2445d35-6678-4e73-94b9-1296d1e04763"
   },
   "outputs": [
    {
     "name": "stdout",
     "output_type": "stream",
     "text": [
      "Score: 94.34%\n"
     ]
    }
   ],
   "source": [
    "print(f\"Score: {round((svm_score_2*100), 2)}%\")"
   ]
  },
  {
   "cell_type": "code",
   "execution_count": 74,
   "id": "0931cb2c",
   "metadata": {
    "id": "0931cb2c"
   },
   "outputs": [],
   "source": [
    "y_test_pred_21 = svm_clf_2.predict(X_test_2)"
   ]
  },
  {
   "cell_type": "markdown",
   "id": "dc0c40d7",
   "metadata": {
    "id": "dc0c40d7"
   },
   "source": [
    "## 2.3.1.Accuracy, Precision_score, Recall_score, F1_score of the SVM model"
   ]
  },
  {
   "cell_type": "code",
   "execution_count": 75,
   "id": "f5085282",
   "metadata": {
    "colab": {
     "base_uri": "https://localhost:8080/"
    },
    "id": "f5085282",
    "outputId": "5043ddbb-3339-41b3-8dac-1cb023d17a90"
   },
   "outputs": [
    {
     "name": "stdout",
     "output_type": "stream",
     "text": [
      "Accuracy: 95.83%\n",
      "Precision: 80.0%\n",
      "Recall: 100.0%\n",
      "F1_score: 88.89%\n"
     ]
    }
   ],
   "source": [
    "print(f\"Accuracy: {round((accuracy_score(y_test_2, y_test_pred_21)*100), 2)}%\") \n",
    "print(f\"Precision: {round((precision_score(y_test_2, y_test_pred_21)*100), 2)}%\")\n",
    "print(f\"Recall: {round((recall_score(y_test_2, y_test_pred_21)*100), 2)}%\")\n",
    "print(f\"F1_score: {round((f1_score(y_test_2, y_test_pred_21)*100), 2)}%\")"
   ]
  },
  {
   "cell_type": "markdown",
   "id": "c6c575f9",
   "metadata": {
    "id": "c6c575f9"
   },
   "source": [
    "## 2.3.2.Classification Report of the SVM model"
   ]
  },
  {
   "cell_type": "code",
   "execution_count": 76,
   "id": "4db42db7",
   "metadata": {
    "colab": {
     "base_uri": "https://localhost:8080/"
    },
    "id": "4db42db7",
    "outputId": "a9b68319-a6ca-4572-d24e-c65bbcf25ee8"
   },
   "outputs": [
    {
     "name": "stdout",
     "output_type": "stream",
     "text": [
      "              precision    recall  f1-score   support\n",
      "\n",
      "           0       1.00      0.95      0.97        20\n",
      "           1       0.80      1.00      0.89         4\n",
      "\n",
      "    accuracy                           0.96        24\n",
      "   macro avg       0.90      0.97      0.93        24\n",
      "weighted avg       0.97      0.96      0.96        24\n",
      "\n"
     ]
    }
   ],
   "source": [
    "print(classification_report(y_test_2, y_test_pred_21))"
   ]
  },
  {
   "cell_type": "markdown",
   "id": "a6a63f00",
   "metadata": {
    "id": "a6a63f00"
   },
   "source": [
    "## 2.3.3.Confusion Matrix Heatmap of the SVM model"
   ]
  },
  {
   "cell_type": "code",
   "execution_count": 77,
   "id": "fbcf052a",
   "metadata": {
    "colab": {
     "base_uri": "https://localhost:8080/",
     "height": 0
    },
    "id": "fbcf052a",
    "outputId": "9d96883f-c968-4fc9-debc-decdb557d176"
   },
   "outputs": [
    {
     "data": {
      "text/plain": [
       "<matplotlib.axes._subplots.AxesSubplot at 0x7f2d74c0d650>"
      ]
     },
     "execution_count": 77,
     "metadata": {
      "tags": []
     },
     "output_type": "execute_result"
    },
    {
     "data": {
      "image/png": "[encoded data removed]",
      "text/plain": [
       "<Figure size 432x288 with 2 Axes>"
      ]
     },
     "metadata": {
      "needs_background": "light",
      "tags": []
     },
     "output_type": "display_data"
    }
   ],
   "source": [
    "sns.heatmap(confusion_matrix(y_test_2, y_test_pred_21), annot = True)"
   ]
  },
  {
   "cell_type": "markdown",
   "id": "1b512a56",
   "metadata": {
    "id": "1b512a56"
   },
   "source": [
    "# 2.4.Using Naive Bayes model"
   ]
  },
  {
   "cell_type": "code",
   "execution_count": 78,
   "id": "e2baf7b0",
   "metadata": {
    "colab": {
     "base_uri": "https://localhost:8080/"
    },
    "id": "e2baf7b0",
    "outputId": "f4c8862d-3ba8-4a4c-a2a2-1daa2e5b1369"
   },
   "outputs": [
    {
     "data": {
      "text/plain": [
       "GaussianNB(priors=None, var_smoothing=1e-09)"
      ]
     },
     "execution_count": 78,
     "metadata": {
      "tags": []
     },
     "output_type": "execute_result"
    }
   ],
   "source": [
    "gnb_2 = GaussianNB()\n",
    "gnb_2.fit(X_train_2, y_train_2)"
   ]
  },
  {
   "cell_type": "code",
   "execution_count": 79,
   "id": "c15e8e2e",
   "metadata": {
    "id": "c15e8e2e"
   },
   "outputs": [],
   "source": [
    "gnb_score_2 = gnb_2.score(X_train_2, y_train_2)"
   ]
  },
  {
   "cell_type": "code",
   "execution_count": 80,
   "id": "ca173b6e",
   "metadata": {
    "colab": {
     "base_uri": "https://localhost:8080/"
    },
    "id": "ca173b6e",
    "outputId": "b49bf0a4-1a02-4e38-c075-89c7a4a5eb6d"
   },
   "outputs": [
    {
     "name": "stdout",
     "output_type": "stream",
     "text": [
      "Score: 96.23%\n"
     ]
    }
   ],
   "source": [
    "print(f\"Score: {round((gnb_score_2*100), 2)}%\")"
   ]
  },
  {
   "cell_type": "code",
   "execution_count": 81,
   "id": "38deca53",
   "metadata": {
    "id": "38deca53"
   },
   "outputs": [],
   "source": [
    "y_test_pred_22 = gnb_2.predict(X_test_2)"
   ]
  },
  {
   "cell_type": "markdown",
   "id": "d80170a6",
   "metadata": {
    "id": "d80170a6"
   },
   "source": [
    "## 2.4.1.Accuracy, Precision_score, Recall_score, F1_score of the Naive Bayes model"
   ]
  },
  {
   "cell_type": "code",
   "execution_count": 82,
   "id": "0fe463a9",
   "metadata": {
    "colab": {
     "base_uri": "https://localhost:8080/"
    },
    "id": "0fe463a9",
    "outputId": "8d60f1ac-48dc-406a-f104-afe8be643fb8"
   },
   "outputs": [
    {
     "name": "stdout",
     "output_type": "stream",
     "text": [
      "Accuracy: 95.83%\n",
      "Precision: 80.0%\n",
      "Recall: 100.0%\n",
      "F1_score: 88.89%\n"
     ]
    }
   ],
   "source": [
    "print(f\"Accuracy: {round((accuracy_score(y_test_2, y_test_pred_22)*100), 2)}%\") \n",
    "print(f\"Precision: {round((precision_score(y_test_2, y_test_pred_22)*100), 2)}%\")\n",
    "print(f\"Recall: {round((recall_score(y_test_2, y_test_pred_22)*100), 2)}%\")\n",
    "print(f\"F1_score: {round((f1_score(y_test_2, y_test_pred_22)*100), 2)}%\")"
   ]
  },
  {
   "cell_type": "markdown",
   "id": "a050bde6",
   "metadata": {
    "id": "a050bde6"
   },
   "source": [
    "## 2.4.2.Classification Report of the Naive Bayes model"
   ]
  },
  {
   "cell_type": "code",
   "execution_count": 83,
   "id": "19e79046",
   "metadata": {
    "colab": {
     "base_uri": "https://localhost:8080/"
    },
    "id": "19e79046",
    "outputId": "cfbd0ed0-d583-4bd5-df39-a8cd1ddb4690"
   },
   "outputs": [
    {
     "name": "stdout",
     "output_type": "stream",
     "text": [
      "              precision    recall  f1-score   support\n",
      "\n",
      "           0       1.00      0.95      0.97        20\n",
      "           1       0.80      1.00      0.89         4\n",
      "\n",
      "    accuracy                           0.96        24\n",
      "   macro avg       0.90      0.97      0.93        24\n",
      "weighted avg       0.97      0.96      0.96        24\n",
      "\n"
     ]
    }
   ],
   "source": [
    "print(classification_report(y_test_2, y_test_pred_22))"
   ]
  },
  {
   "cell_type": "markdown",
   "id": "54a5dd66",
   "metadata": {
    "id": "54a5dd66"
   },
   "source": [
    "## 2.4.3.Confusion Matrix Heatmap of the Naive Bayes model"
   ]
  },
  {
   "cell_type": "code",
   "execution_count": 84,
   "id": "5d6ed79b",
   "metadata": {
    "colab": {
     "base_uri": "https://localhost:8080/",
     "height": 0
    },
    "id": "5d6ed79b",
    "outputId": "3da81f83-4066-4717-af7f-3df402f1414d"
   },
   "outputs": [
    {
     "data": {
      "text/plain": [
       "<matplotlib.axes._subplots.AxesSubplot at 0x7f2d74844f10>"
      ]
     },
     "execution_count": 84,
     "metadata": {
      "tags": []
     },
     "output_type": "execute_result"
    },
    {
     "data": {
      "image/png": "[encoded data removed]",
      "text/plain": [
       "<Figure size 432x288 with 2 Axes>"
      ]
     },
     "metadata": {
      "needs_background": "light",
      "tags": []
     },
     "output_type": "display_data"
    }
   ],
   "source": [
    "sns.heatmap(confusion_matrix(y_test_2, y_test_pred_22), annot = True)"
   ]
  },
  {
   "cell_type": "markdown",
   "id": "1ad593a8",
   "metadata": {
    "id": "1ad593a8"
   },
   "source": [
    "# 2.5.Using XGBoost model"
   ]
  },
  {
   "cell_type": "code",
   "execution_count": 85,
   "id": "6fc46eee",
   "metadata": {
    "colab": {
     "base_uri": "https://localhost:8080/"
    },
    "id": "6fc46eee",
    "outputId": "f61d54c0-20f3-4af8-ce1c-551c4a0dc61f"
   },
   "outputs": [
    {
     "data": {
      "text/plain": [
       "XGBClassifier(base_score=0.5, booster='gbtree', colsample_bylevel=1,\n",
       "              colsample_bynode=1, colsample_bytree=1, eval_metric='mlogloss',\n",
       "              gamma=0, learning_rate=0.1, max_delta_step=0, max_depth=3,\n",
       "              min_child_weight=1, missing=None, n_estimators=100, n_jobs=1,\n",
       "              nthread=None, objective='binary:logistic', random_state=0,\n",
       "              reg_alpha=0, reg_lambda=1, scale_pos_weight=1, seed=None,\n",
       "              silent=None, subsample=1, use_label_encoder=False, verbosity=1)"
      ]
     },
     "execution_count": 85,
     "metadata": {
      "tags": []
     },
     "output_type": "execute_result"
    }
   ],
   "source": [
    "xgb_clf_2 = XGBClassifier(use_label_encoder = False, eval_metric='mlogloss')\n",
    "xgb_clf_2.fit(X_train_2, y_train_2)"
   ]
  },
  {
   "cell_type": "code",
   "execution_count": 86,
   "id": "dde42294",
   "metadata": {
    "id": "dde42294"
   },
   "outputs": [],
   "source": [
    "xgb_score_2 = xgb_clf_2.score(X_train_2, y_train_2)"
   ]
  },
  {
   "cell_type": "code",
   "execution_count": 87,
   "id": "f55ad5bd",
   "metadata": {
    "colab": {
     "base_uri": "https://localhost:8080/"
    },
    "id": "f55ad5bd",
    "outputId": "b57e514a-5bff-44fa-d3c5-f92a1e1f6914"
   },
   "outputs": [
    {
     "name": "stdout",
     "output_type": "stream",
     "text": [
      "Score: 100.0%\n"
     ]
    }
   ],
   "source": [
    "print(f\"Score: {round((xgb_score_2*100), 2)}%\")"
   ]
  },
  {
   "cell_type": "code",
   "execution_count": 88,
   "id": "04898dc1",
   "metadata": {
    "id": "04898dc1"
   },
   "outputs": [],
   "source": [
    "y_test_pred_23 = xgb_clf_2.predict(X_test_2)"
   ]
  },
  {
   "cell_type": "markdown",
   "id": "5f3eab16",
   "metadata": {
    "id": "5f3eab16"
   },
   "source": [
    "## 2.5.1.Accuracy, Precision_score, Recall_score, F1_score of the XGBoost model"
   ]
  },
  {
   "cell_type": "code",
   "execution_count": 89,
   "id": "5663698d",
   "metadata": {
    "colab": {
     "base_uri": "https://localhost:8080/"
    },
    "id": "5663698d",
    "outputId": "71f0f3ec-8c99-48c8-a2bf-53b8c573ca76"
   },
   "outputs": [
    {
     "name": "stdout",
     "output_type": "stream",
     "text": [
      "Accuracy: 83.33%\n",
      "Precision: 50.0%\n",
      "Recall: 25.0%\n",
      "F1_score: 33.33%\n"
     ]
    }
   ],
   "source": [
    "print(f\"Accuracy: {round((accuracy_score(y_test_2, y_test_pred_23)*100), 2)}%\") \n",
    "print(f\"Precision: {round((precision_score(y_test_2, y_test_pred_23)*100), 2)}%\")\n",
    "print(f\"Recall: {round((recall_score(y_test_2, y_test_pred_23)*100), 2)}%\")\n",
    "print(f\"F1_score: {round((f1_score(y_test_2, y_test_pred_23)*100), 2)}%\")"
   ]
  },
  {
   "cell_type": "markdown",
   "id": "ea613fc5",
   "metadata": {
    "id": "ea613fc5"
   },
   "source": [
    "## 2.5.2.Classification Report of the XGBoost model"
   ]
  },
  {
   "cell_type": "code",
   "execution_count": 90,
   "id": "00c7f430",
   "metadata": {
    "colab": {
     "base_uri": "https://localhost:8080/"
    },
    "id": "00c7f430",
    "outputId": "3c330f5a-6ad1-4c33-c5a7-d1cfb7797470"
   },
   "outputs": [
    {
     "name": "stdout",
     "output_type": "stream",
     "text": [
      "              precision    recall  f1-score   support\n",
      "\n",
      "           0       0.86      0.95      0.90        20\n",
      "           1       0.50      0.25      0.33         4\n",
      "\n",
      "    accuracy                           0.83        24\n",
      "   macro avg       0.68      0.60      0.62        24\n",
      "weighted avg       0.80      0.83      0.81        24\n",
      "\n"
     ]
    }
   ],
   "source": [
    "print(classification_report(y_test_2, y_test_pred_23))"
   ]
  },
  {
   "cell_type": "markdown",
   "id": "846721d9",
   "metadata": {
    "id": "846721d9"
   },
   "source": [
    "## 2.5.3.Confusion Matrix Heatmap of the XGBoost model"
   ]
  },
  {
   "cell_type": "code",
   "execution_count": 91,
   "id": "8715bfe4",
   "metadata": {
    "colab": {
     "base_uri": "https://localhost:8080/",
     "height": 0
    },
    "id": "8715bfe4",
    "outputId": "0836bddd-24e4-4eab-8fd8-7a2cc4d707c5"
   },
   "outputs": [
    {
     "data": {
      "text/plain": [
       "<matplotlib.axes._subplots.AxesSubplot at 0x7f2d74968d90>"
      ]
     },
     "execution_count": 91,
     "metadata": {
      "tags": []
     },
     "output_type": "execute_result"
    },
    {
     "data": {
      "image/png": "[encoded data removed]",
      "text/plain": [
       "<Figure size 432x288 with 2 Axes>"
      ]
     },
     "metadata": {
      "needs_background": "light",
      "tags": []
     },
     "output_type": "display_data"
    }
   ],
   "source": [
    "sns.heatmap(confusion_matrix(y_test_2, y_test_pred_23), annot = True)"
   ]
  },
  {
   "cell_type": "markdown",
   "id": "5fc11a91",
   "metadata": {
    "id": "5fc11a91"
   },
   "source": [
    "# 2.6.Using Random Forest Classifier"
   ]
  },
  {
   "cell_type": "code",
   "execution_count": 92,
   "id": "ba208ac5",
   "metadata": {
    "colab": {
     "base_uri": "https://localhost:8080/"
    },
    "id": "ba208ac5",
    "outputId": "ae8295f1-0bc8-4fdd-aac0-ab8a065e86ed"
   },
   "outputs": [
    {
     "data": {
      "text/plain": [
       "RandomForestClassifier(bootstrap=True, ccp_alpha=0.0, class_weight=None,\n",
       "                       criterion='gini', max_depth=2, max_features='auto',\n",
       "                       max_leaf_nodes=None, max_samples=None,\n",
       "                       min_impurity_decrease=0.0, min_impurity_split=None,\n",
       "                       min_samples_leaf=1, min_samples_split=2,\n",
       "                       min_weight_fraction_leaf=0.0, n_estimators=100,\n",
       "                       n_jobs=None, oob_score=False, random_state=0, verbose=0,\n",
       "                       warm_start=False)"
      ]
     },
     "execution_count": 92,
     "metadata": {
      "tags": []
     },
     "output_type": "execute_result"
    }
   ],
   "source": [
    "rfc_clf_2 = RandomForestClassifier(max_depth = 2, random_state = 0)\n",
    "rfc_clf_2.fit(X_train_2, y_train_2)"
   ]
  },
  {
   "cell_type": "code",
   "execution_count": 93,
   "id": "dd654aac",
   "metadata": {
    "id": "dd654aac"
   },
   "outputs": [],
   "source": [
    "rfc_score_2 = rfc_clf_2.score(X_train_2, y_train_2)"
   ]
  },
  {
   "cell_type": "code",
   "execution_count": 94,
   "id": "7c4c4067",
   "metadata": {
    "colab": {
     "base_uri": "https://localhost:8080/"
    },
    "id": "7c4c4067",
    "outputId": "ecad3ab5-b18f-4d84-9cc3-6189b2bb1310"
   },
   "outputs": [
    {
     "name": "stdout",
     "output_type": "stream",
     "text": [
      "Score: 100.0%\n"
     ]
    }
   ],
   "source": [
    "print(f\"Score: {round((rfc_score_2*100), 2)}%\")"
   ]
  },
  {
   "cell_type": "code",
   "execution_count": 95,
   "id": "2ca47222",
   "metadata": {
    "id": "2ca47222"
   },
   "outputs": [],
   "source": [
    "y_test_pred_24 = rfc_clf_2.predict(X_test_2)"
   ]
  },
  {
   "cell_type": "markdown",
   "id": "b4647814",
   "metadata": {
    "id": "b4647814"
   },
   "source": [
    "## 2.6.1.Accuracy, Precision_score, Recall_score, F1_score of this Random Forest Classifier"
   ]
  },
  {
   "cell_type": "code",
   "execution_count": 96,
   "id": "94a8ab61",
   "metadata": {
    "colab": {
     "base_uri": "https://localhost:8080/"
    },
    "id": "94a8ab61",
    "outputId": "47331cab-258d-4d68-b56b-896ea19861e7"
   },
   "outputs": [
    {
     "name": "stdout",
     "output_type": "stream",
     "text": [
      "Accuracy: 87.5%\n",
      "Precision: 66.67%\n",
      "Recall: 50.0%\n",
      "F1_score: 57.14%\n"
     ]
    }
   ],
   "source": [
    "print(f\"Accuracy: {round((accuracy_score(y_test_2, y_test_pred_24)*100), 2)}%\") \n",
    "print(f\"Precision: {round((precision_score(y_test_2, y_test_pred_24)*100), 2)}%\")\n",
    "print(f\"Recall: {round((recall_score(y_test_2, y_test_pred_24)*100), 2)}%\")\n",
    "print(f\"F1_score: {round((f1_score(y_test_2, y_test_pred_24)*100), 2)}%\")"
   ]
  },
  {
   "cell_type": "markdown",
   "id": "6f4b2354",
   "metadata": {
    "id": "6f4b2354"
   },
   "source": [
    "## 2.6.2.Classification Report of this Random Forest Classifier"
   ]
  },
  {
   "cell_type": "code",
   "execution_count": 97,
   "id": "ae6d071c",
   "metadata": {
    "colab": {
     "base_uri": "https://localhost:8080/"
    },
    "id": "ae6d071c",
    "outputId": "3ad2455d-571d-4883-8e41-3c4b5d4d09a4"
   },
   "outputs": [
    {
     "name": "stdout",
     "output_type": "stream",
     "text": [
      "              precision    recall  f1-score   support\n",
      "\n",
      "           0       0.90      0.95      0.93        20\n",
      "           1       0.67      0.50      0.57         4\n",
      "\n",
      "    accuracy                           0.88        24\n",
      "   macro avg       0.79      0.72      0.75        24\n",
      "weighted avg       0.87      0.88      0.87        24\n",
      "\n"
     ]
    }
   ],
   "source": [
    "print(classification_report(y_test_2, y_test_pred_24))"
   ]
  },
  {
   "cell_type": "markdown",
   "id": "c826a6bd",
   "metadata": {
    "id": "c826a6bd"
   },
   "source": [
    "## 2.6.3.Confusion Matrix Heatmap of this Random Forest Classifier"
   ]
  },
  {
   "cell_type": "code",
   "execution_count": 98,
   "id": "2111ca34",
   "metadata": {
    "colab": {
     "base_uri": "https://localhost:8080/",
     "height": 0
    },
    "id": "2111ca34",
    "outputId": "b50ec548-d1db-4de4-b798-0622475f4d6a"
   },
   "outputs": [
    {
     "data": {
      "text/plain": [
       "<matplotlib.axes._subplots.AxesSubplot at 0x7f2d74ce6090>"
      ]
     },
     "execution_count": 98,
     "metadata": {
      "tags": []
     },
     "output_type": "execute_result"
    },
    {
     "data": {
      "image/png": "[encoded data removed]",
      "text/plain": [
       "<Figure size 432x288 with 2 Axes>"
      ]
     },
     "metadata": {
      "needs_background": "light",
      "tags": []
     },
     "output_type": "display_data"
    }
   ],
   "source": [
    "sns.heatmap(confusion_matrix(y_test_2, y_test_pred_24), annot = True)"
   ]
  },
  {
   "cell_type": "markdown",
   "id": "f07bf697",
   "metadata": {
    "id": "f07bf697"
   },
   "source": [
    "# CASE 3: Using 80% of the dataset as training set and 20% of the dataset as test set."
   ]
  },
  {
   "cell_type": "markdown",
   "id": "eb0aa0ef",
   "metadata": {
    "id": "eb0aa0ef"
   },
   "source": [
    "# 3.0.Train-Test Split (80:20)"
   ]
  },
  {
   "cell_type": "code",
   "execution_count": 99,
   "id": "645a416b",
   "metadata": {
    "id": "645a416b"
   },
   "outputs": [],
   "source": [
    "train_set_3, test_set_3 = train_test_split(data_new, test_size = 0.2, random_state = 42)"
   ]
  },
  {
   "cell_type": "code",
   "execution_count": 100,
   "id": "1b3b4511",
   "metadata": {
    "colab": {
     "base_uri": "https://localhost:8080/"
    },
    "id": "1b3b4511",
    "outputId": "69d9d1e7-9515-4a2c-92ba-6746e0fc8293"
   },
   "outputs": [
    {
     "name": "stdout",
     "output_type": "stream",
     "text": [
      "Rows in train set: 61\n",
      "Rows in test set: 16\n"
     ]
    }
   ],
   "source": [
    "print(f\"Rows in train set: {len(train_set_3)}\\nRows in test set: {len(test_set_3)}\")"
   ]
  },
  {
   "cell_type": "code",
   "execution_count": 101,
   "id": "14738d3d",
   "metadata": {
    "colab": {
     "base_uri": "https://localhost:8080/",
     "height": 0
    },
    "id": "14738d3d",
    "outputId": "15a6c54a-6de2-48f1-9393-c1d3a20c7d99"
   },
   "outputs": [
    {
     "data": {
      "text/html": [
       "<div>\n",
       "<style scoped>\n",
       "    .dataframe tbody tr th:only-of-type {\n",
       "        vertical-align: middle;\n",
       "    }\n",
       "\n",
       "    .dataframe tbody tr th {\n",
       "        vertical-align: top;\n",
       "    }\n",
       "\n",
       "    .dataframe thead th {\n",
       "        text-align: right;\n",
       "    }\n",
       "</style>\n",
       "<table border=\"1\" class=\"dataframe\">\n",
       "  <thead>\n",
       "    <tr style=\"text-align: right;\">\n",
       "      <th></th>\n",
       "      <th>Type</th>\n",
       "      <th>X16983_at</th>\n",
       "      <th>X02152_at</th>\n",
       "      <th>M94880_f_at</th>\n",
       "      <th>Z21966_at</th>\n",
       "      <th>J03909_at</th>\n",
       "      <th>D87119_at</th>\n",
       "      <th>HG417-HT417_s_at</th>\n",
       "      <th>M22382_at</th>\n",
       "      <th>L17131_rna1_at</th>\n",
       "      <th>L42324_at</th>\n",
       "      <th>X56494_at</th>\n",
       "      <th>M63138_at</th>\n",
       "      <th>Z11793_at</th>\n",
       "      <th>D82348_at</th>\n",
       "      <th>AB002409_at</th>\n",
       "      <th>HG1980-HT2023_at</th>\n",
       "      <th>M14328_s_at</th>\n",
       "      <th>J04173_at</th>\n",
       "      <th>X03689_s_at</th>\n",
       "      <th>D78134_at</th>\n",
       "    </tr>\n",
       "  </thead>\n",
       "  <tbody>\n",
       "    <tr>\n",
       "      <th>9</th>\n",
       "      <td>0</td>\n",
       "      <td>-12</td>\n",
       "      <td>14099</td>\n",
       "      <td>14676</td>\n",
       "      <td>158</td>\n",
       "      <td>13139</td>\n",
       "      <td>468</td>\n",
       "      <td>18791</td>\n",
       "      <td>5627</td>\n",
       "      <td>10307</td>\n",
       "      <td>562</td>\n",
       "      <td>12693</td>\n",
       "      <td>13274</td>\n",
       "      <td>1684</td>\n",
       "      <td>4208</td>\n",
       "      <td>197</td>\n",
       "      <td>7998</td>\n",
       "      <td>12985</td>\n",
       "      <td>6930</td>\n",
       "      <td>77</td>\n",
       "      <td>2812</td>\n",
       "    </tr>\n",
       "    <tr>\n",
       "      <th>5</th>\n",
       "      <td>0</td>\n",
       "      <td>-42</td>\n",
       "      <td>11217</td>\n",
       "      <td>13856</td>\n",
       "      <td>42</td>\n",
       "      <td>14710</td>\n",
       "      <td>427</td>\n",
       "      <td>17948</td>\n",
       "      <td>8072</td>\n",
       "      <td>9065</td>\n",
       "      <td>485</td>\n",
       "      <td>13584</td>\n",
       "      <td>15061</td>\n",
       "      <td>266</td>\n",
       "      <td>2875</td>\n",
       "      <td>441</td>\n",
       "      <td>5183</td>\n",
       "      <td>14997</td>\n",
       "      <td>9419</td>\n",
       "      <td>1408</td>\n",
       "      <td>2847</td>\n",
       "    </tr>\n",
       "    <tr>\n",
       "      <th>34</th>\n",
       "      <td>0</td>\n",
       "      <td>-9</td>\n",
       "      <td>6553</td>\n",
       "      <td>5840</td>\n",
       "      <td>70</td>\n",
       "      <td>3728</td>\n",
       "      <td>259</td>\n",
       "      <td>4196</td>\n",
       "      <td>6913</td>\n",
       "      <td>8075</td>\n",
       "      <td>198</td>\n",
       "      <td>4342</td>\n",
       "      <td>3751</td>\n",
       "      <td>127</td>\n",
       "      <td>3662</td>\n",
       "      <td>543</td>\n",
       "      <td>6979</td>\n",
       "      <td>8566</td>\n",
       "      <td>4786</td>\n",
       "      <td>-552</td>\n",
       "      <td>2466</td>\n",
       "    </tr>\n",
       "    <tr>\n",
       "      <th>22</th>\n",
       "      <td>0</td>\n",
       "      <td>86</td>\n",
       "      <td>13342</td>\n",
       "      <td>8043</td>\n",
       "      <td>139</td>\n",
       "      <td>3660</td>\n",
       "      <td>784</td>\n",
       "      <td>5362</td>\n",
       "      <td>8189</td>\n",
       "      <td>3361</td>\n",
       "      <td>1968</td>\n",
       "      <td>1974</td>\n",
       "      <td>2885</td>\n",
       "      <td>1441</td>\n",
       "      <td>1458</td>\n",
       "      <td>143</td>\n",
       "      <td>6337</td>\n",
       "      <td>6163</td>\n",
       "      <td>6145</td>\n",
       "      <td>21943</td>\n",
       "      <td>1628</td>\n",
       "    </tr>\n",
       "    <tr>\n",
       "      <th>30</th>\n",
       "      <td>0</td>\n",
       "      <td>66</td>\n",
       "      <td>17953</td>\n",
       "      <td>14176</td>\n",
       "      <td>200</td>\n",
       "      <td>11388</td>\n",
       "      <td>638</td>\n",
       "      <td>13995</td>\n",
       "      <td>9200</td>\n",
       "      <td>9770</td>\n",
       "      <td>1207</td>\n",
       "      <td>12238</td>\n",
       "      <td>7393</td>\n",
       "      <td>1744</td>\n",
       "      <td>3468</td>\n",
       "      <td>41</td>\n",
       "      <td>7450</td>\n",
       "      <td>14341</td>\n",
       "      <td>12791</td>\n",
       "      <td>21960</td>\n",
       "      <td>1361</td>\n",
       "    </tr>\n",
       "  </tbody>\n",
       "</table>\n",
       "</div>"
      ],
      "text/plain": [
       "    Type  X16983_at  X02152_at  ...  J04173_at  X03689_s_at  D78134_at\n",
       "9      0        -12      14099  ...       6930           77       2812\n",
       "5      0        -42      11217  ...       9419         1408       2847\n",
       "34     0         -9       6553  ...       4786         -552       2466\n",
       "22     0         86      13342  ...       6145        21943       1628\n",
       "30     0         66      17953  ...      12791        21960       1361\n",
       "\n",
       "[5 rows x 21 columns]"
      ]
     },
     "execution_count": 101,
     "metadata": {
      "tags": []
     },
     "output_type": "execute_result"
    }
   ],
   "source": [
    "train_set_3.head()"
   ]
  },
  {
   "cell_type": "code",
   "execution_count": 102,
   "id": "1c36aaf9",
   "metadata": {
    "colab": {
     "base_uri": "https://localhost:8080/",
     "height": 0
    },
    "id": "1c36aaf9",
    "outputId": "dc3e6b57-ae02-44e9-a717-ab8b094a66a1"
   },
   "outputs": [
    {
     "data": {
      "text/html": [
       "<div>\n",
       "<style scoped>\n",
       "    .dataframe tbody tr th:only-of-type {\n",
       "        vertical-align: middle;\n",
       "    }\n",
       "\n",
       "    .dataframe tbody tr th {\n",
       "        vertical-align: top;\n",
       "    }\n",
       "\n",
       "    .dataframe thead th {\n",
       "        text-align: right;\n",
       "    }\n",
       "</style>\n",
       "<table border=\"1\" class=\"dataframe\">\n",
       "  <thead>\n",
       "    <tr style=\"text-align: right;\">\n",
       "      <th></th>\n",
       "      <th>Type</th>\n",
       "      <th>X16983_at</th>\n",
       "      <th>X02152_at</th>\n",
       "      <th>M94880_f_at</th>\n",
       "      <th>Z21966_at</th>\n",
       "      <th>J03909_at</th>\n",
       "      <th>D87119_at</th>\n",
       "      <th>HG417-HT417_s_at</th>\n",
       "      <th>M22382_at</th>\n",
       "      <th>L17131_rna1_at</th>\n",
       "      <th>L42324_at</th>\n",
       "      <th>X56494_at</th>\n",
       "      <th>M63138_at</th>\n",
       "      <th>Z11793_at</th>\n",
       "      <th>D82348_at</th>\n",
       "      <th>AB002409_at</th>\n",
       "      <th>HG1980-HT2023_at</th>\n",
       "      <th>M14328_s_at</th>\n",
       "      <th>J04173_at</th>\n",
       "      <th>X03689_s_at</th>\n",
       "      <th>D78134_at</th>\n",
       "    </tr>\n",
       "  </thead>\n",
       "  <tbody>\n",
       "    <tr>\n",
       "      <th>4</th>\n",
       "      <td>0</td>\n",
       "      <td>80</td>\n",
       "      <td>18742</td>\n",
       "      <td>5489</td>\n",
       "      <td>-82</td>\n",
       "      <td>824</td>\n",
       "      <td>692</td>\n",
       "      <td>7238</td>\n",
       "      <td>16467</td>\n",
       "      <td>3905</td>\n",
       "      <td>581</td>\n",
       "      <td>4553</td>\n",
       "      <td>2654</td>\n",
       "      <td>259</td>\n",
       "      <td>3890</td>\n",
       "      <td>-17</td>\n",
       "      <td>6162</td>\n",
       "      <td>12063</td>\n",
       "      <td>9711</td>\n",
       "      <td>6962</td>\n",
       "      <td>1180</td>\n",
       "    </tr>\n",
       "    <tr>\n",
       "      <th>35</th>\n",
       "      <td>0</td>\n",
       "      <td>113</td>\n",
       "      <td>7207</td>\n",
       "      <td>20028</td>\n",
       "      <td>81</td>\n",
       "      <td>11354</td>\n",
       "      <td>802</td>\n",
       "      <td>20974</td>\n",
       "      <td>4598</td>\n",
       "      <td>4008</td>\n",
       "      <td>728</td>\n",
       "      <td>6341</td>\n",
       "      <td>15733</td>\n",
       "      <td>1972</td>\n",
       "      <td>1437</td>\n",
       "      <td>3966</td>\n",
       "      <td>3193</td>\n",
       "      <td>13687</td>\n",
       "      <td>5876</td>\n",
       "      <td>21195</td>\n",
       "      <td>3751</td>\n",
       "    </tr>\n",
       "    <tr>\n",
       "      <th>10</th>\n",
       "      <td>0</td>\n",
       "      <td>3</td>\n",
       "      <td>6672</td>\n",
       "      <td>2532</td>\n",
       "      <td>-95</td>\n",
       "      <td>1340</td>\n",
       "      <td>258</td>\n",
       "      <td>2516</td>\n",
       "      <td>10123</td>\n",
       "      <td>10767</td>\n",
       "      <td>792</td>\n",
       "      <td>9058</td>\n",
       "      <td>6016</td>\n",
       "      <td>278</td>\n",
       "      <td>5578</td>\n",
       "      <td>199</td>\n",
       "      <td>11882</td>\n",
       "      <td>13887</td>\n",
       "      <td>6986</td>\n",
       "      <td>4657</td>\n",
       "      <td>3410</td>\n",
       "    </tr>\n",
       "    <tr>\n",
       "      <th>0</th>\n",
       "      <td>0</td>\n",
       "      <td>42</td>\n",
       "      <td>14742</td>\n",
       "      <td>8233</td>\n",
       "      <td>156</td>\n",
       "      <td>6921</td>\n",
       "      <td>318</td>\n",
       "      <td>7502</td>\n",
       "      <td>5161</td>\n",
       "      <td>4413</td>\n",
       "      <td>622</td>\n",
       "      <td>7578</td>\n",
       "      <td>5011</td>\n",
       "      <td>241</td>\n",
       "      <td>1494</td>\n",
       "      <td>-6</td>\n",
       "      <td>4351</td>\n",
       "      <td>12813</td>\n",
       "      <td>8286</td>\n",
       "      <td>22040</td>\n",
       "      <td>2072</td>\n",
       "    </tr>\n",
       "    <tr>\n",
       "      <th>45</th>\n",
       "      <td>0</td>\n",
       "      <td>330</td>\n",
       "      <td>19547</td>\n",
       "      <td>15254</td>\n",
       "      <td>-37</td>\n",
       "      <td>10261</td>\n",
       "      <td>3355</td>\n",
       "      <td>14348</td>\n",
       "      <td>12552</td>\n",
       "      <td>10482</td>\n",
       "      <td>2566</td>\n",
       "      <td>13529</td>\n",
       "      <td>5137</td>\n",
       "      <td>3811</td>\n",
       "      <td>3322</td>\n",
       "      <td>3150</td>\n",
       "      <td>10605</td>\n",
       "      <td>14153</td>\n",
       "      <td>14080</td>\n",
       "      <td>23908</td>\n",
       "      <td>5293</td>\n",
       "    </tr>\n",
       "  </tbody>\n",
       "</table>\n",
       "</div>"
      ],
      "text/plain": [
       "    Type  X16983_at  X02152_at  ...  J04173_at  X03689_s_at  D78134_at\n",
       "4      0         80      18742  ...       9711         6962       1180\n",
       "35     0        113       7207  ...       5876        21195       3751\n",
       "10     0          3       6672  ...       6986         4657       3410\n",
       "0      0         42      14742  ...       8286        22040       2072\n",
       "45     0        330      19547  ...      14080        23908       5293\n",
       "\n",
       "[5 rows x 21 columns]"
      ]
     },
     "execution_count": 102,
     "metadata": {
      "tags": []
     },
     "output_type": "execute_result"
    }
   ],
   "source": [
    "test_set_3.head()"
   ]
  },
  {
   "cell_type": "code",
   "execution_count": 103,
   "id": "c50b38f4",
   "metadata": {
    "id": "c50b38f4"
   },
   "outputs": [],
   "source": [
    "X_train_3 = train_set_3.drop(\"Type\", axis = 1)\n",
    "y_train_3 = train_set_3[\"Type\"]\n",
    "X_test_3 = test_set_3.drop(\"Type\", axis = 1)\n",
    "y_test_3 = test_set_3[\"Type\"]"
   ]
  },
  {
   "cell_type": "markdown",
   "id": "588efd02",
   "metadata": {
    "id": "588efd02"
   },
   "source": [
    "# 3.1.Confusion Matrix Heatmap of perfect predictions"
   ]
  },
  {
   "cell_type": "code",
   "execution_count": 104,
   "id": "0e8f2d45",
   "metadata": {
    "colab": {
     "base_uri": "https://localhost:8080/",
     "height": 0
    },
    "id": "0e8f2d45",
    "outputId": "0befe6ef-569b-4b0e-adf1-decf3b2a7589"
   },
   "outputs": [
    {
     "data": {
      "text/plain": [
       "<matplotlib.axes._subplots.AxesSubplot at 0x7f2d742e3ed0>"
      ]
     },
     "execution_count": 104,
     "metadata": {
      "tags": []
     },
     "output_type": "execute_result"
    },
    {
     "data": {
      "image/png": "[encoded data removed]",
      "text/plain": [
       "<Figure size 432x288 with 2 Axes>"
      ]
     },
     "metadata": {
      "needs_background": "light",
      "tags": []
     },
     "output_type": "display_data"
    }
   ],
   "source": [
    "sns.heatmap(confusion_matrix(y_test_3, y_test_3), annot = True)"
   ]
  },
  {
   "cell_type": "markdown",
   "id": "df921c21",
   "metadata": {
    "id": "df921c21"
   },
   "source": [
    "# 3.2.Using Logistic Regression model"
   ]
  },
  {
   "cell_type": "code",
   "execution_count": 105,
   "id": "40909a8a",
   "metadata": {
    "colab": {
     "base_uri": "https://localhost:8080/"
    },
    "id": "40909a8a",
    "outputId": "6dfe365d-3978-44be-bbdd-9d578eea26a5"
   },
   "outputs": [
    {
     "data": {
      "text/plain": [
       "LogisticRegression(C=1.0, class_weight=None, dual=False, fit_intercept=True,\n",
       "                   intercept_scaling=1, l1_ratio=None, max_iter=500,\n",
       "                   multi_class='auto', n_jobs=None, penalty='l2',\n",
       "                   random_state=None, solver='lbfgs', tol=0.0001, verbose=0,\n",
       "                   warm_start=False)"
      ]
     },
     "execution_count": 105,
     "metadata": {
      "tags": []
     },
     "output_type": "execute_result"
    }
   ],
   "source": [
    "model_3 = LogisticRegression(solver='lbfgs', max_iter=500)\n",
    "model_3.fit(X_train_3, y_train_3)"
   ]
  },
  {
   "cell_type": "code",
   "execution_count": 106,
   "id": "53dd0a7f",
   "metadata": {
    "id": "53dd0a7f"
   },
   "outputs": [],
   "source": [
    "lr_score_3 = model_3.score(X_train_3, y_train_3)"
   ]
  },
  {
   "cell_type": "code",
   "execution_count": 107,
   "id": "063348c1",
   "metadata": {
    "colab": {
     "base_uri": "https://localhost:8080/"
    },
    "id": "063348c1",
    "outputId": "6e2e517a-32b0-41a5-c5d6-24952c333201"
   },
   "outputs": [
    {
     "name": "stdout",
     "output_type": "stream",
     "text": [
      "Score: 100.0%\n"
     ]
    }
   ],
   "source": [
    "print(f\"Score: {round((lr_score_3*100), 2)}%\")"
   ]
  },
  {
   "cell_type": "code",
   "execution_count": 108,
   "id": "b01d795a",
   "metadata": {
    "id": "b01d795a"
   },
   "outputs": [],
   "source": [
    "y_test_pred_3 = model_3.predict(X_test_3)"
   ]
  },
  {
   "cell_type": "markdown",
   "id": "0f40b378",
   "metadata": {
    "id": "0f40b378"
   },
   "source": [
    "## 3.2.1.Accuracy, Precision_score, Recall_score, F1_score of the Logistic Regressor"
   ]
  },
  {
   "cell_type": "code",
   "execution_count": 109,
   "id": "138566c2",
   "metadata": {
    "colab": {
     "base_uri": "https://localhost:8080/"
    },
    "id": "138566c2",
    "outputId": "2bc01a92-8a2b-4849-a932-7f2129961c43"
   },
   "outputs": [
    {
     "name": "stdout",
     "output_type": "stream",
     "text": [
      "Accuracy: 93.75%\n",
      "Precision: 80.0%\n",
      "Recall: 100.0%\n",
      "F1_score: 88.89%\n"
     ]
    }
   ],
   "source": [
    "print(f\"Accuracy: {round((accuracy_score(y_test_3, y_test_pred_3)*100), 2)}%\") \n",
    "print(f\"Precision: {round((precision_score(y_test_3, y_test_pred_3)*100), 2)}%\")\n",
    "print(f\"Recall: {round((recall_score(y_test_3, y_test_pred_3)*100), 2)}%\")\n",
    "print(f\"F1_score: {round((f1_score(y_test_3, y_test_pred_3)*100), 2)}%\")"
   ]
  },
  {
   "cell_type": "markdown",
   "id": "2970298f",
   "metadata": {
    "id": "2970298f"
   },
   "source": [
    "## 3.2.2.Classification Report of the Logistic Regressor"
   ]
  },
  {
   "cell_type": "code",
   "execution_count": 110,
   "id": "bd383171",
   "metadata": {
    "colab": {
     "base_uri": "https://localhost:8080/"
    },
    "id": "bd383171",
    "outputId": "37979a9f-71c0-41ff-9163-8796c4db40a2"
   },
   "outputs": [
    {
     "name": "stdout",
     "output_type": "stream",
     "text": [
      "              precision    recall  f1-score   support\n",
      "\n",
      "           0       1.00      0.92      0.96        12\n",
      "           1       0.80      1.00      0.89         4\n",
      "\n",
      "    accuracy                           0.94        16\n",
      "   macro avg       0.90      0.96      0.92        16\n",
      "weighted avg       0.95      0.94      0.94        16\n",
      "\n"
     ]
    }
   ],
   "source": [
    "print(classification_report(y_test_3, y_test_pred_3))"
   ]
  },
  {
   "cell_type": "markdown",
   "id": "a78bb381",
   "metadata": {
    "id": "a78bb381"
   },
   "source": [
    "## 3.2.3.Confusion Matrix Heatmap of the Logistic Regressor"
   ]
  },
  {
   "cell_type": "code",
   "execution_count": 111,
   "id": "07a6ba8f",
   "metadata": {
    "colab": {
     "base_uri": "https://localhost:8080/",
     "height": 0
    },
    "id": "07a6ba8f",
    "outputId": "68482b3b-d7e7-4023-95e5-8deab9429511"
   },
   "outputs": [
    {
     "data": {
      "text/plain": [
       "<matplotlib.axes._subplots.AxesSubplot at 0x7f2d74c46210>"
      ]
     },
     "execution_count": 111,
     "metadata": {
      "tags": []
     },
     "output_type": "execute_result"
    },
    {
     "data": {
      "image/png": "[encoded data removed]",
      "text/plain": [
       "<Figure size 432x288 with 2 Axes>"
      ]
     },
     "metadata": {
      "needs_background": "light",
      "tags": []
     },
     "output_type": "display_data"
    }
   ],
   "source": [
    "sns.heatmap(confusion_matrix(y_test_3, y_test_pred_3), annot = True)"
   ]
  },
  {
   "cell_type": "markdown",
   "id": "1328987e",
   "metadata": {
    "id": "1328987e"
   },
   "source": [
    "# 3.3.Using SVM model"
   ]
  },
  {
   "cell_type": "code",
   "execution_count": 112,
   "id": "87c81e60",
   "metadata": {
    "colab": {
     "base_uri": "https://localhost:8080/"
    },
    "id": "87c81e60",
    "outputId": "8db4d771-3dff-4238-9a2c-bdd00d642181"
   },
   "outputs": [
    {
     "data": {
      "text/plain": [
       "SVC(C=1.0, break_ties=False, cache_size=200, class_weight=None, coef0=0.0,\n",
       "    decision_function_shape='ovr', degree=3, gamma='scale', kernel='rbf',\n",
       "    max_iter=-1, probability=False, random_state=None, shrinking=True,\n",
       "    tol=0.001, verbose=False)"
      ]
     },
     "execution_count": 112,
     "metadata": {
      "tags": []
     },
     "output_type": "execute_result"
    }
   ],
   "source": [
    "svm_clf_3 = SVC()\n",
    "svm_clf_3.fit(X_train_3, y_train_3)"
   ]
  },
  {
   "cell_type": "code",
   "execution_count": 113,
   "id": "a2219ce7",
   "metadata": {
    "id": "a2219ce7"
   },
   "outputs": [],
   "source": [
    "svm_score_3 = svm_clf_3.score(X_train_3, y_train_3)"
   ]
  },
  {
   "cell_type": "code",
   "execution_count": 114,
   "id": "371d6614",
   "metadata": {
    "colab": {
     "base_uri": "https://localhost:8080/"
    },
    "id": "371d6614",
    "outputId": "5d81ba62-e9a9-4707-a95a-ac348ff7b926"
   },
   "outputs": [
    {
     "name": "stdout",
     "output_type": "stream",
     "text": [
      "Score: 98.36%\n"
     ]
    }
   ],
   "source": [
    "print(f\"Score: {round((svm_score_3*100), 2)}%\")"
   ]
  },
  {
   "cell_type": "code",
   "execution_count": 115,
   "id": "3a4f300b",
   "metadata": {
    "id": "3a4f300b"
   },
   "outputs": [],
   "source": [
    "y_test_pred_31 = svm_clf_3.predict(X_test_3)"
   ]
  },
  {
   "cell_type": "markdown",
   "id": "6604c75d",
   "metadata": {
    "id": "6604c75d"
   },
   "source": [
    "## 3.3.1.Accuracy, Precision_score, Recall_score, F1_score of the SVM model"
   ]
  },
  {
   "cell_type": "code",
   "execution_count": 116,
   "id": "aa71c39f",
   "metadata": {
    "colab": {
     "base_uri": "https://localhost:8080/"
    },
    "id": "aa71c39f",
    "outputId": "e424fb7f-9d72-4661-f3a4-1822a09944d8"
   },
   "outputs": [
    {
     "name": "stdout",
     "output_type": "stream",
     "text": [
      "Accuracy: 93.75%\n",
      "Precision: 80.0%\n",
      "Recall: 100.0%\n",
      "F1_score: 88.89%\n"
     ]
    }
   ],
   "source": [
    "print(f\"Accuracy: {round((accuracy_score(y_test_3, y_test_pred_31)*100), 2)}%\") \n",
    "print(f\"Precision: {round((precision_score(y_test_3, y_test_pred_31)*100), 2)}%\")\n",
    "print(f\"Recall: {round((recall_score(y_test_3, y_test_pred_31)*100), 2)}%\")\n",
    "print(f\"F1_score: {round((f1_score(y_test_3, y_test_pred_31)*100), 2)}%\")"
   ]
  },
  {
   "cell_type": "markdown",
   "id": "fd7cd904",
   "metadata": {
    "id": "fd7cd904"
   },
   "source": [
    "## 3.3.2.Classification Report of the SVM model"
   ]
  },
  {
   "cell_type": "code",
   "execution_count": 117,
   "id": "c7991136",
   "metadata": {
    "colab": {
     "base_uri": "https://localhost:8080/"
    },
    "id": "c7991136",
    "outputId": "5ec4b9d7-dbd1-4652-b32d-db6d30858051"
   },
   "outputs": [
    {
     "name": "stdout",
     "output_type": "stream",
     "text": [
      "              precision    recall  f1-score   support\n",
      "\n",
      "           0       1.00      0.92      0.96        12\n",
      "           1       0.80      1.00      0.89         4\n",
      "\n",
      "    accuracy                           0.94        16\n",
      "   macro avg       0.90      0.96      0.92        16\n",
      "weighted avg       0.95      0.94      0.94        16\n",
      "\n"
     ]
    }
   ],
   "source": [
    "print(classification_report(y_test_3, y_test_pred_31))"
   ]
  },
  {
   "cell_type": "markdown",
   "id": "b3d744a0",
   "metadata": {
    "id": "b3d744a0"
   },
   "source": [
    "## 3.3.3.Confusion Matrix Heatmap of the SVM model"
   ]
  },
  {
   "cell_type": "code",
   "execution_count": 118,
   "id": "0cfe85ab",
   "metadata": {
    "colab": {
     "base_uri": "https://localhost:8080/",
     "height": 0
    },
    "id": "0cfe85ab",
    "outputId": "eaa8fe08-16d5-4978-9c91-c73a238adcfb"
   },
   "outputs": [
    {
     "data": {
      "text/plain": [
       "<matplotlib.axes._subplots.AxesSubplot at 0x7f2d73fdd890>"
      ]
     },
     "execution_count": 118,
     "metadata": {
      "tags": []
     },
     "output_type": "execute_result"
    },
    {
     "data": {
      "image/png": "[encoded data removed]",
      "text/plain": [
       "<Figure size 432x288 with 2 Axes>"
      ]
     },
     "metadata": {
      "needs_background": "light",
      "tags": []
     },
     "output_type": "display_data"
    }
   ],
   "source": [
    "sns.heatmap(confusion_matrix(y_test_3, y_test_pred_31), annot = True)"
   ]
  },
  {
   "cell_type": "markdown",
   "id": "082680ef",
   "metadata": {
    "id": "082680ef"
   },
   "source": [
    "# 3.4.Using Naive Bayes model"
   ]
  },
  {
   "cell_type": "code",
   "execution_count": 119,
   "id": "e7530db0",
   "metadata": {
    "colab": {
     "base_uri": "https://localhost:8080/"
    },
    "id": "e7530db0",
    "outputId": "028eacf3-b796-4236-bc18-4feb3e984630"
   },
   "outputs": [
    {
     "data": {
      "text/plain": [
       "GaussianNB(priors=None, var_smoothing=1e-09)"
      ]
     },
     "execution_count": 119,
     "metadata": {
      "tags": []
     },
     "output_type": "execute_result"
    }
   ],
   "source": [
    "gnb_3 = GaussianNB()\n",
    "gnb_3.fit(X_train_3, y_train_3)"
   ]
  },
  {
   "cell_type": "code",
   "execution_count": 120,
   "id": "8db6f1fc",
   "metadata": {
    "id": "8db6f1fc"
   },
   "outputs": [],
   "source": [
    "gnb_score_3 = gnb_3.score(X_train_3, y_train_3)"
   ]
  },
  {
   "cell_type": "code",
   "execution_count": 121,
   "id": "c8df7034",
   "metadata": {
    "colab": {
     "base_uri": "https://localhost:8080/"
    },
    "id": "c8df7034",
    "outputId": "bb4ce897-3777-45c3-b9c0-1fc6f3c798e2"
   },
   "outputs": [
    {
     "name": "stdout",
     "output_type": "stream",
     "text": [
      "Score: 96.72%\n"
     ]
    }
   ],
   "source": [
    "print(f\"Score: {round((gnb_score_3*100), 2)}%\")"
   ]
  },
  {
   "cell_type": "code",
   "execution_count": 122,
   "id": "942a0d23",
   "metadata": {
    "id": "942a0d23"
   },
   "outputs": [],
   "source": [
    "y_test_pred_32 = gnb_3.predict(X_test_3)"
   ]
  },
  {
   "cell_type": "markdown",
   "id": "30132d84",
   "metadata": {
    "id": "30132d84"
   },
   "source": [
    "## 3.4.1.Accuracy, Precision_score, Recall_score, F1_score of the Naive Bayes model"
   ]
  },
  {
   "cell_type": "code",
   "execution_count": 123,
   "id": "bedf74aa",
   "metadata": {
    "colab": {
     "base_uri": "https://localhost:8080/"
    },
    "id": "bedf74aa",
    "outputId": "b8cdeb77-97d5-4df4-a2d7-cbca5de0c502"
   },
   "outputs": [
    {
     "name": "stdout",
     "output_type": "stream",
     "text": [
      "Accuracy: 93.75%\n",
      "Precision: 80.0%\n",
      "Recall: 100.0%\n",
      "F1_score: 88.89%\n"
     ]
    }
   ],
   "source": [
    "print(f\"Accuracy: {round((accuracy_score(y_test_3, y_test_pred_32)*100), 2)}%\") \n",
    "print(f\"Precision: {round((precision_score(y_test_3, y_test_pred_32)*100), 2)}%\")\n",
    "print(f\"Recall: {round((recall_score(y_test_3, y_test_pred_32)*100), 2)}%\")\n",
    "print(f\"F1_score: {round((f1_score(y_test_3, y_test_pred_32)*100), 2)}%\")"
   ]
  },
  {
   "cell_type": "markdown",
   "id": "a3f3c8b6",
   "metadata": {
    "id": "a3f3c8b6"
   },
   "source": [
    "## 3.4.2.Classification Report of the Naive Bayes model"
   ]
  },
  {
   "cell_type": "code",
   "execution_count": 124,
   "id": "5644a59f",
   "metadata": {
    "colab": {
     "base_uri": "https://localhost:8080/"
    },
    "id": "5644a59f",
    "outputId": "9891eaaa-c2eb-44de-fd99-868026896729"
   },
   "outputs": [
    {
     "name": "stdout",
     "output_type": "stream",
     "text": [
      "              precision    recall  f1-score   support\n",
      "\n",
      "           0       1.00      0.92      0.96        12\n",
      "           1       0.80      1.00      0.89         4\n",
      "\n",
      "    accuracy                           0.94        16\n",
      "   macro avg       0.90      0.96      0.92        16\n",
      "weighted avg       0.95      0.94      0.94        16\n",
      "\n"
     ]
    }
   ],
   "source": [
    "print(classification_report(y_test_3, y_test_pred_32))"
   ]
  },
  {
   "cell_type": "markdown",
   "id": "6543cc62",
   "metadata": {
    "id": "6543cc62"
   },
   "source": [
    "## 3.4.3.Confusion Matrix Heatmap of the Naive Bayes model"
   ]
  },
  {
   "cell_type": "code",
   "execution_count": 125,
   "id": "3082f523",
   "metadata": {
    "colab": {
     "base_uri": "https://localhost:8080/",
     "height": 0
    },
    "id": "3082f523",
    "outputId": "5f1a00fc-fa71-4171-b475-a7f4e385bf34"
   },
   "outputs": [
    {
     "data": {
      "text/plain": [
       "<matplotlib.axes._subplots.AxesSubplot at 0x7f2d73f86710>"
      ]
     },
     "execution_count": 125,
     "metadata": {
      "tags": []
     },
     "output_type": "execute_result"
    },
    {
     "data": {
      "image/png": "[encoded data removed]",
      "text/plain": [
       "<Figure size 432x288 with 2 Axes>"
      ]
     },
     "metadata": {
      "needs_background": "light",
      "tags": []
     },
     "output_type": "display_data"
    }
   ],
   "source": [
    "sns.heatmap(confusion_matrix(y_test_3, y_test_pred_32), annot = True)"
   ]
  },
  {
   "cell_type": "markdown",
   "id": "6b146001",
   "metadata": {
    "id": "6b146001"
   },
   "source": [
    "# 3.5.Using XGBoost model"
   ]
  },
  {
   "cell_type": "code",
   "execution_count": 126,
   "id": "cad2cc97",
   "metadata": {
    "colab": {
     "base_uri": "https://localhost:8080/"
    },
    "id": "cad2cc97",
    "outputId": "4d704510-bcbf-4560-bf10-500e87ae7717"
   },
   "outputs": [
    {
     "data": {
      "text/plain": [
       "XGBClassifier(base_score=0.5, booster='gbtree', colsample_bylevel=1,\n",
       "              colsample_bynode=1, colsample_bytree=1, eval_metric='mlogloss',\n",
       "              gamma=0, learning_rate=0.1, max_delta_step=0, max_depth=3,\n",
       "              min_child_weight=1, missing=None, n_estimators=100, n_jobs=1,\n",
       "              nthread=None, objective='binary:logistic', random_state=0,\n",
       "              reg_alpha=0, reg_lambda=1, scale_pos_weight=1, seed=None,\n",
       "              silent=None, subsample=1, use_label_encoder=False, verbosity=1)"
      ]
     },
     "execution_count": 126,
     "metadata": {
      "tags": []
     },
     "output_type": "execute_result"
    }
   ],
   "source": [
    "xgb_clf_3 = XGBClassifier(use_label_encoder = False, eval_metric='mlogloss')\n",
    "xgb_clf_3.fit(X_train_3, y_train_3)"
   ]
  },
  {
   "cell_type": "code",
   "execution_count": 127,
   "id": "dc431909",
   "metadata": {
    "id": "dc431909"
   },
   "outputs": [],
   "source": [
    "xgb_score_3 = xgb_clf_3.score(X_train_3, y_train_3)"
   ]
  },
  {
   "cell_type": "code",
   "execution_count": 128,
   "id": "faea566c",
   "metadata": {
    "colab": {
     "base_uri": "https://localhost:8080/"
    },
    "id": "faea566c",
    "outputId": "392d9482-e89a-48c8-d97d-66db025239d4"
   },
   "outputs": [
    {
     "name": "stdout",
     "output_type": "stream",
     "text": [
      "Score: 100.0%\n"
     ]
    }
   ],
   "source": [
    "print(f\"Score: {round((xgb_score_3*100), 2)}%\")"
   ]
  },
  {
   "cell_type": "code",
   "execution_count": 129,
   "id": "17908307",
   "metadata": {
    "id": "17908307"
   },
   "outputs": [],
   "source": [
    "y_test_pred_33 = xgb_clf_3.predict(X_test_3)"
   ]
  },
  {
   "cell_type": "markdown",
   "id": "1c52ec90",
   "metadata": {
    "id": "1c52ec90"
   },
   "source": [
    "## 3.5.1.Accuracy, Precision_score, Recall_score, F1_score of the XGBoost model"
   ]
  },
  {
   "cell_type": "code",
   "execution_count": 130,
   "id": "cefb69c9",
   "metadata": {
    "colab": {
     "base_uri": "https://localhost:8080/"
    },
    "id": "cefb69c9",
    "outputId": "df8469c7-a886-41ed-c9dd-8bb67c6d8d22"
   },
   "outputs": [
    {
     "name": "stdout",
     "output_type": "stream",
     "text": [
      "Accuracy: 81.25%\n",
      "Precision: 66.67%\n",
      "Recall: 50.0%\n",
      "F1_score: 57.14%\n"
     ]
    }
   ],
   "source": [
    "print(f\"Accuracy: {round((accuracy_score(y_test_3, y_test_pred_33)*100), 2)}%\") \n",
    "print(f\"Precision: {round((precision_score(y_test_3, y_test_pred_33)*100), 2)}%\")\n",
    "print(f\"Recall: {round((recall_score(y_test_3, y_test_pred_33)*100), 2)}%\")\n",
    "print(f\"F1_score: {round((f1_score(y_test_3, y_test_pred_33)*100), 2)}%\")"
   ]
  },
  {
   "cell_type": "markdown",
   "id": "cc999294",
   "metadata": {
    "id": "cc999294"
   },
   "source": [
    "## 3.5.2.Classification Report of the XGBoost model"
   ]
  },
  {
   "cell_type": "code",
   "execution_count": 131,
   "id": "55c63e20",
   "metadata": {
    "colab": {
     "base_uri": "https://localhost:8080/"
    },
    "id": "55c63e20",
    "outputId": "ce18d577-185e-4da7-f37d-6fea6ceaa8dc"
   },
   "outputs": [
    {
     "name": "stdout",
     "output_type": "stream",
     "text": [
      "              precision    recall  f1-score   support\n",
      "\n",
      "           0       0.85      0.92      0.88        12\n",
      "           1       0.67      0.50      0.57         4\n",
      "\n",
      "    accuracy                           0.81        16\n",
      "   macro avg       0.76      0.71      0.73        16\n",
      "weighted avg       0.80      0.81      0.80        16\n",
      "\n"
     ]
    }
   ],
   "source": [
    "print(classification_report(y_test_3, y_test_pred_33))"
   ]
  },
  {
   "cell_type": "markdown",
   "id": "25cf9aa4",
   "metadata": {
    "id": "25cf9aa4"
   },
   "source": [
    "## 3.5.3.Confusion Matrix Heatmap of the XGBoost model"
   ]
  },
  {
   "cell_type": "code",
   "execution_count": 132,
   "id": "c52e267e",
   "metadata": {
    "colab": {
     "base_uri": "https://localhost:8080/",
     "height": 0
    },
    "id": "c52e267e",
    "outputId": "2740b990-b290-4a48-a7e4-195aef7f14aa"
   },
   "outputs": [
    {
     "data": {
      "text/plain": [
       "<matplotlib.axes._subplots.AxesSubplot at 0x7f2d73e2c190>"
      ]
     },
     "execution_count": 132,
     "metadata": {
      "tags": []
     },
     "output_type": "execute_result"
    },
    {
     "data": {
      "image/png": "[encoded data removed]",
      "text/plain": [
       "<Figure size 432x288 with 2 Axes>"
      ]
     },
     "metadata": {
      "needs_background": "light",
      "tags": []
     },
     "output_type": "display_data"
    }
   ],
   "source": [
    "sns.heatmap(confusion_matrix(y_test_3, y_test_pred_33), annot = True)"
   ]
  },
  {
   "cell_type": "markdown",
   "id": "3eae6d35",
   "metadata": {
    "id": "3eae6d35"
   },
   "source": [
    "# 3.6.Using Random Forest Classifier"
   ]
  },
  {
   "cell_type": "code",
   "execution_count": 133,
   "id": "cbe6b8dc",
   "metadata": {
    "colab": {
     "base_uri": "https://localhost:8080/"
    },
    "id": "cbe6b8dc",
    "outputId": "ffd1d28e-c2f3-4253-9ea6-228b9866e952"
   },
   "outputs": [
    {
     "data": {
      "text/plain": [
       "RandomForestClassifier(bootstrap=True, ccp_alpha=0.0, class_weight=None,\n",
       "                       criterion='gini', max_depth=2, max_features='auto',\n",
       "                       max_leaf_nodes=None, max_samples=None,\n",
       "                       min_impurity_decrease=0.0, min_impurity_split=None,\n",
       "                       min_samples_leaf=1, min_samples_split=2,\n",
       "                       min_weight_fraction_leaf=0.0, n_estimators=100,\n",
       "                       n_jobs=None, oob_score=False, random_state=0, verbose=0,\n",
       "                       warm_start=False)"
      ]
     },
     "execution_count": 133,
     "metadata": {
      "tags": []
     },
     "output_type": "execute_result"
    }
   ],
   "source": [
    "rfc_clf_3 = RandomForestClassifier(max_depth = 2, random_state = 0)\n",
    "rfc_clf_3.fit(X_train_3, y_train_3)"
   ]
  },
  {
   "cell_type": "code",
   "execution_count": 134,
   "id": "ae60a568",
   "metadata": {
    "id": "ae60a568"
   },
   "outputs": [],
   "source": [
    "rfc_score_3 = rfc_clf_3.score(X_train_1, y_train_1)"
   ]
  },
  {
   "cell_type": "code",
   "execution_count": 135,
   "id": "caba3f5e",
   "metadata": {
    "colab": {
     "base_uri": "https://localhost:8080/"
    },
    "id": "caba3f5e",
    "outputId": "d3bc7d74-3355-4d62-e3fe-8d6e852ac82b"
   },
   "outputs": [
    {
     "name": "stdout",
     "output_type": "stream",
     "text": [
      "Score: 100.0%\n"
     ]
    }
   ],
   "source": [
    "print(f\"Score: {round((rfc_score_3*100), 2)}%\")"
   ]
  },
  {
   "cell_type": "code",
   "execution_count": 136,
   "id": "1157ba7c",
   "metadata": {
    "id": "1157ba7c"
   },
   "outputs": [],
   "source": [
    "y_test_pred_34 = rfc_clf_3.predict(X_test_3)"
   ]
  },
  {
   "cell_type": "markdown",
   "id": "6fbb094c",
   "metadata": {
    "id": "6fbb094c"
   },
   "source": [
    "## 3.6.1.Accuracy, Precision_score, Recall_score, F1_score of this Random Forest Classifier"
   ]
  },
  {
   "cell_type": "code",
   "execution_count": 137,
   "id": "02ba1dcc",
   "metadata": {
    "colab": {
     "base_uri": "https://localhost:8080/"
    },
    "id": "02ba1dcc",
    "outputId": "4c3e235f-12ed-4d5f-8d5a-08463f6b461b"
   },
   "outputs": [
    {
     "name": "stdout",
     "output_type": "stream",
     "text": [
      "Accuracy: 81.25%\n",
      "Precision: 66.67%\n",
      "Recall: 50.0%\n",
      "F1_score: 57.14%\n"
     ]
    }
   ],
   "source": [
    "print(f\"Accuracy: {round((accuracy_score(y_test_3, y_test_pred_34)*100), 2)}%\") \n",
    "print(f\"Precision: {round((precision_score(y_test_3, y_test_pred_34)*100), 2)}%\")\n",
    "print(f\"Recall: {round((recall_score(y_test_3, y_test_pred_34)*100), 2)}%\")\n",
    "print(f\"F1_score: {round((f1_score(y_test_3, y_test_pred_34)*100), 2)}%\")"
   ]
  },
  {
   "cell_type": "markdown",
   "id": "6bc8d0cb",
   "metadata": {
    "id": "6bc8d0cb"
   },
   "source": [
    "## 3.6.2.Classification Report of this Random Forest Classifier"
   ]
  },
  {
   "cell_type": "code",
   "execution_count": 138,
   "id": "f32d0638",
   "metadata": {
    "colab": {
     "base_uri": "https://localhost:8080/"
    },
    "id": "f32d0638",
    "outputId": "afbe1558-57e7-4019-c740-03ee9a9ca54b"
   },
   "outputs": [
    {
     "name": "stdout",
     "output_type": "stream",
     "text": [
      "              precision    recall  f1-score   support\n",
      "\n",
      "           0       0.85      0.92      0.88        12\n",
      "           1       0.67      0.50      0.57         4\n",
      "\n",
      "    accuracy                           0.81        16\n",
      "   macro avg       0.76      0.71      0.73        16\n",
      "weighted avg       0.80      0.81      0.80        16\n",
      "\n"
     ]
    }
   ],
   "source": [
    "print(classification_report(y_test_3, y_test_pred_34))"
   ]
  },
  {
   "cell_type": "markdown",
   "id": "33b0c437",
   "metadata": {
    "id": "33b0c437"
   },
   "source": [
    "## 3.6.3.Confusion Matrix Heatmap of this Random Forest Classifier"
   ]
  },
  {
   "cell_type": "code",
   "execution_count": 139,
   "id": "fbf47b02",
   "metadata": {
    "colab": {
     "base_uri": "https://localhost:8080/",
     "height": 0
    },
    "id": "fbf47b02",
    "outputId": "5e7fdc62-5724-4277-f929-6d73d96ae050"
   },
   "outputs": [
    {
     "data": {
      "text/plain": [
       "<matplotlib.axes._subplots.AxesSubplot at 0x7f2d72b8f610>"
      ]
     },
     "execution_count": 139,
     "metadata": {
      "tags": []
     },
     "output_type": "execute_result"
    },
    {
     "data": {
      "image/png": "[encoded data removed]",
      "text/plain": [
       "<Figure size 432x288 with 2 Axes>"
      ]
     },
     "metadata": {
      "needs_background": "light",
      "tags": []
     },
     "output_type": "display_data"
    }
   ],
   "source": [
    "sns.heatmap(confusion_matrix(y_test_3, y_test_pred_34), annot = True)"
   ]
  },
  {
   "cell_type": "code",
   "execution_count": 139,
   "id": "1196cc73",
   "metadata": {
    "id": "1196cc73"
   },
   "outputs": [],
   "source": []
  }
 ],
 "metadata": {
  "colab": {
   "name": "DLBCL_Classifier.ipynb",
   "provenance": []
  },
  "kernelspec": {
   "display_name": "Python 3",
   "language": "python",
   "name": "python3"
  },
  "language_info": {
   "codemirror_mode": {
    "name": "ipython",
    "version": 3
   },
   "file_extension": ".py",
   "mimetype": "text/x-python",
   "name": "python",
   "nbconvert_exporter": "python",
   "pygments_lexer": "ipython3",
   "version": "3.8.8"
  }
 },
 "nbformat": 4,
 "nbformat_minor": 5
}
